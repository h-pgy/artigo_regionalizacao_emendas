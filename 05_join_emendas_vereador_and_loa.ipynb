{
 "cells": [
  {
   "cell_type": "markdown",
   "metadata": {},
   "source": [
    "## Join dados emendas Camara e Loa\n",
    "\n",
    "Neste notebook fazemos o join entre o banco de dados que construímos com o planejamento das emendas "
   ]
  },
  {
   "cell_type": "code",
   "execution_count": 1,
   "metadata": {},
   "outputs": [],
   "source": [
    "import pandas as pd\n",
    "import os\n",
    "\n",
    "from config import DATA_FOLDER"
   ]
  },
  {
   "cell_type": "code",
   "execution_count": 2,
   "metadata": {},
   "outputs": [],
   "source": [
    "df_loa = pd.read_csv(os.path.join(DATA_FOLDER, 'df_merge_loa_da.csv'), low_memory=False, sep=';')"
   ]
  },
  {
   "cell_type": "code",
   "execution_count": 3,
   "metadata": {},
   "outputs": [
    {
     "data": {
      "text/html": [
       "<div>\n",
       "<style scoped>\n",
       "    .dataframe tbody tr th:only-of-type {\n",
       "        vertical-align: middle;\n",
       "    }\n",
       "\n",
       "    .dataframe tbody tr th {\n",
       "        vertical-align: top;\n",
       "    }\n",
       "\n",
       "    .dataframe thead th {\n",
       "        text-align: right;\n",
       "    }\n",
       "</style>\n",
       "<table border=\"1\" class=\"dataframe\">\n",
       "  <thead>\n",
       "    <tr style=\"text-align: right;\">\n",
       "      <th></th>\n",
       "      <th>exercicio</th>\n",
       "      <th>cod_emenda</th>\n",
       "      <th>direta_ou_indireta</th>\n",
       "      <th>cod_orgao</th>\n",
       "      <th>cod_unidade</th>\n",
       "      <th>cod_programa</th>\n",
       "      <th>cod_funcao</th>\n",
       "      <th>cod_subfuncao</th>\n",
       "      <th>cod_proj_atividade</th>\n",
       "      <th>cod_fonte</th>\n",
       "      <th>...</th>\n",
       "      <th>valor_orcado</th>\n",
       "      <th>index</th>\n",
       "      <th>cod_regiao</th>\n",
       "      <th>cod_subprefeitura</th>\n",
       "      <th>cod_distrito</th>\n",
       "      <th>desc_regiao</th>\n",
       "      <th>desc_subprefeitura</th>\n",
       "      <th>desc_distrito</th>\n",
       "      <th>tipo_regionalizacao</th>\n",
       "      <th>valor_regionalizado</th>\n",
       "    </tr>\n",
       "  </thead>\n",
       "  <tbody>\n",
       "    <tr>\n",
       "      <th>0</th>\n",
       "      <td>2025</td>\n",
       "      <td>3514</td>\n",
       "      <td>Administraçăo Direta</td>\n",
       "      <td>60</td>\n",
       "      <td>10</td>\n",
       "      <td>3001</td>\n",
       "      <td>13</td>\n",
       "      <td>392</td>\n",
       "      <td>9222</td>\n",
       "      <td>0</td>\n",
       "      <td>...</td>\n",
       "      <td>1000</td>\n",
       "      <td>2025.60.10.9222</td>\n",
       "      <td>0</td>\n",
       "      <td>0</td>\n",
       "      <td>0</td>\n",
       "      <td>Supra-Regional</td>\n",
       "      <td>Supra Subprefeitura</td>\n",
       "      <td>Supra-Distrital</td>\n",
       "      <td>Despesa Não-Regionalizável</td>\n",
       "      <td>1000.0</td>\n",
       "    </tr>\n",
       "    <tr>\n",
       "      <th>1</th>\n",
       "      <td>2025</td>\n",
       "      <td>1791</td>\n",
       "      <td>Administraçăo Direta</td>\n",
       "      <td>60</td>\n",
       "      <td>10</td>\n",
       "      <td>3022</td>\n",
       "      <td>15</td>\n",
       "      <td>452</td>\n",
       "      <td>9241</td>\n",
       "      <td>0</td>\n",
       "      <td>...</td>\n",
       "      <td>2000000</td>\n",
       "      <td>2025.60.10.9241</td>\n",
       "      <td>0</td>\n",
       "      <td>0</td>\n",
       "      <td>0</td>\n",
       "      <td>Supra-Regional</td>\n",
       "      <td>Supra Subprefeitura</td>\n",
       "      <td>Supra-Distrital</td>\n",
       "      <td>Despesa Não-Regionalizável</td>\n",
       "      <td>2000000.0</td>\n",
       "    </tr>\n",
       "    <tr>\n",
       "      <th>2</th>\n",
       "      <td>2025</td>\n",
       "      <td>3514</td>\n",
       "      <td>Administraçăo Direta</td>\n",
       "      <td>60</td>\n",
       "      <td>10</td>\n",
       "      <td>3017</td>\n",
       "      <td>27</td>\n",
       "      <td>812</td>\n",
       "      <td>9223</td>\n",
       "      <td>0</td>\n",
       "      <td>...</td>\n",
       "      <td>1000</td>\n",
       "      <td>2025.60.10.9223</td>\n",
       "      <td>0</td>\n",
       "      <td>0</td>\n",
       "      <td>0</td>\n",
       "      <td>Supra-Regional</td>\n",
       "      <td>Supra Subprefeitura</td>\n",
       "      <td>Supra-Distrital</td>\n",
       "      <td>Despesa Não-Regionalizável</td>\n",
       "      <td>1000.0</td>\n",
       "    </tr>\n",
       "    <tr>\n",
       "      <th>3</th>\n",
       "      <td>2025</td>\n",
       "      <td>3549</td>\n",
       "      <td>Administraçăo Direta</td>\n",
       "      <td>20</td>\n",
       "      <td>10</td>\n",
       "      <td>3009</td>\n",
       "      <td>26</td>\n",
       "      <td>453</td>\n",
       "      <td>9145</td>\n",
       "      <td>0</td>\n",
       "      <td>...</td>\n",
       "      <td>100000</td>\n",
       "      <td>2025.20.10.9145</td>\n",
       "      <td>0</td>\n",
       "      <td>0</td>\n",
       "      <td>0</td>\n",
       "      <td>Supra-Regional</td>\n",
       "      <td>Supra Subprefeitura</td>\n",
       "      <td>Supra-Distrital</td>\n",
       "      <td>Despesa Não-Regionalizável</td>\n",
       "      <td>100000.0</td>\n",
       "    </tr>\n",
       "    <tr>\n",
       "      <th>4</th>\n",
       "      <td>2025</td>\n",
       "      <td>3533</td>\n",
       "      <td>Administraçăo Direta</td>\n",
       "      <td>20</td>\n",
       "      <td>10</td>\n",
       "      <td>3009</td>\n",
       "      <td>26</td>\n",
       "      <td>572</td>\n",
       "      <td>9138</td>\n",
       "      <td>0</td>\n",
       "      <td>...</td>\n",
       "      <td>30000</td>\n",
       "      <td>2025.20.10.9138</td>\n",
       "      <td>0</td>\n",
       "      <td>0</td>\n",
       "      <td>0</td>\n",
       "      <td>Supra-Regional</td>\n",
       "      <td>Supra Subprefeitura</td>\n",
       "      <td>Supra-Distrital</td>\n",
       "      <td>Despesa Não-Regionalizável</td>\n",
       "      <td>30000.0</td>\n",
       "    </tr>\n",
       "  </tbody>\n",
       "</table>\n",
       "<p>5 rows × 27 columns</p>\n",
       "</div>"
      ],
      "text/plain": [
       "   exercicio  cod_emenda    direta_ou_indireta  cod_orgao  cod_unidade  \\\n",
       "0       2025        3514  Administraçăo Direta         60           10   \n",
       "1       2025        1791  Administraçăo Direta         60           10   \n",
       "2       2025        3514  Administraçăo Direta         60           10   \n",
       "3       2025        3549  Administraçăo Direta         20           10   \n",
       "4       2025        3533  Administraçăo Direta         20           10   \n",
       "\n",
       "   cod_programa  cod_funcao  cod_subfuncao  cod_proj_atividade  cod_fonte  \\\n",
       "0          3001          13            392                9222          0   \n",
       "1          3022          15            452                9241          0   \n",
       "2          3017          27            812                9223          0   \n",
       "3          3009          26            453                9145          0   \n",
       "4          3009          26            572                9138          0   \n",
       "\n",
       "   ... valor_orcado            index cod_regiao cod_subprefeitura  \\\n",
       "0  ...         1000  2025.60.10.9222          0                 0   \n",
       "1  ...      2000000  2025.60.10.9241          0                 0   \n",
       "2  ...         1000  2025.60.10.9223          0                 0   \n",
       "3  ...       100000  2025.20.10.9145          0                 0   \n",
       "4  ...        30000  2025.20.10.9138          0                 0   \n",
       "\n",
       "  cod_distrito     desc_regiao   desc_subprefeitura    desc_distrito  \\\n",
       "0            0  Supra-Regional  Supra Subprefeitura  Supra-Distrital   \n",
       "1            0  Supra-Regional  Supra Subprefeitura  Supra-Distrital   \n",
       "2            0  Supra-Regional  Supra Subprefeitura  Supra-Distrital   \n",
       "3            0  Supra-Regional  Supra Subprefeitura  Supra-Distrital   \n",
       "4            0  Supra-Regional  Supra Subprefeitura  Supra-Distrital   \n",
       "\n",
       "          tipo_regionalizacao  valor_regionalizado  \n",
       "0  Despesa Não-Regionalizável               1000.0  \n",
       "1  Despesa Não-Regionalizável            2000000.0  \n",
       "2  Despesa Não-Regionalizável               1000.0  \n",
       "3  Despesa Não-Regionalizável             100000.0  \n",
       "4  Despesa Não-Regionalizável              30000.0  \n",
       "\n",
       "[5 rows x 27 columns]"
      ]
     },
     "execution_count": 3,
     "metadata": {},
     "output_type": "execute_result"
    }
   ],
   "source": [
    "df_loa.head()"
   ]
  },
  {
   "cell_type": "code",
   "execution_count": 4,
   "metadata": {},
   "outputs": [],
   "source": [
    "df_emendas = pd.read_csv(os.path.join(DATA_FOLDER, 'df_merge_emendas_vereadores.csv'), low_memory=False, sep=';')"
   ]
  },
  {
   "cell_type": "code",
   "execution_count": 5,
   "metadata": {},
   "outputs": [
    {
     "data": {
      "text/html": [
       "<div>\n",
       "<style scoped>\n",
       "    .dataframe tbody tr th:only-of-type {\n",
       "        vertical-align: middle;\n",
       "    }\n",
       "\n",
       "    .dataframe tbody tr th {\n",
       "        vertical-align: top;\n",
       "    }\n",
       "\n",
       "    .dataframe thead th {\n",
       "        text-align: right;\n",
       "    }\n",
       "</style>\n",
       "<table border=\"1\" class=\"dataframe\">\n",
       "  <thead>\n",
       "    <tr style=\"text-align: right;\">\n",
       "      <th></th>\n",
       "      <th>num_emenda</th>\n",
       "      <th>cod_vereador</th>\n",
       "      <th>ano</th>\n",
       "      <th>motivo_emenda</th>\n",
       "      <th>apelido</th>\n",
       "      <th>cod_partido</th>\n",
       "      <th>sigla_partido</th>\n",
       "      <th>nome_partido</th>\n",
       "    </tr>\n",
       "  </thead>\n",
       "  <tbody>\n",
       "    <tr>\n",
       "      <th>0</th>\n",
       "      <td>79</td>\n",
       "      <td>1454</td>\n",
       "      <td>2022</td>\n",
       "      <td>Trata-se de importante medida para garantir os...</td>\n",
       "      <td>RODRIGO GOULART</td>\n",
       "      <td>41</td>\n",
       "      <td>PSD</td>\n",
       "      <td>PARTIDO SOCIAL DEMOCRATICO</td>\n",
       "    </tr>\n",
       "    <tr>\n",
       "      <th>1</th>\n",
       "      <td>85</td>\n",
       "      <td>1451</td>\n",
       "      <td>2022</td>\n",
       "      <td>contratação de equipes  de logradouros para at...</td>\n",
       "      <td>RINALDI DIGILIO</td>\n",
       "      <td>107</td>\n",
       "      <td>PSL</td>\n",
       "      <td>PARTIDO SOCIAL LIBERAL</td>\n",
       "    </tr>\n",
       "    <tr>\n",
       "      <th>2</th>\n",
       "      <td>86</td>\n",
       "      <td>1451</td>\n",
       "      <td>2022</td>\n",
       "      <td>para atendimento de demandas relacionadas a co...</td>\n",
       "      <td>RINALDI DIGILIO</td>\n",
       "      <td>107</td>\n",
       "      <td>PSL</td>\n",
       "      <td>PARTIDO SOCIAL LIBERAL</td>\n",
       "    </tr>\n",
       "    <tr>\n",
       "      <th>3</th>\n",
       "      <td>87</td>\n",
       "      <td>1451</td>\n",
       "      <td>2022</td>\n",
       "      <td>Atender demanda relacionadas a conservação e m...</td>\n",
       "      <td>RINALDI DIGILIO</td>\n",
       "      <td>107</td>\n",
       "      <td>PSL</td>\n",
       "      <td>PARTIDO SOCIAL LIBERAL</td>\n",
       "    </tr>\n",
       "    <tr>\n",
       "      <th>4</th>\n",
       "      <td>88</td>\n",
       "      <td>1451</td>\n",
       "      <td>2022</td>\n",
       "      <td>A propositura dos recursos ira levar a comunid...</td>\n",
       "      <td>RINALDI DIGILIO</td>\n",
       "      <td>107</td>\n",
       "      <td>PSL</td>\n",
       "      <td>PARTIDO SOCIAL LIBERAL</td>\n",
       "    </tr>\n",
       "  </tbody>\n",
       "</table>\n",
       "</div>"
      ],
      "text/plain": [
       "   num_emenda  cod_vereador   ano  \\\n",
       "0          79          1454  2022   \n",
       "1          85          1451  2022   \n",
       "2          86          1451  2022   \n",
       "3          87          1451  2022   \n",
       "4          88          1451  2022   \n",
       "\n",
       "                                       motivo_emenda          apelido  \\\n",
       "0  Trata-se de importante medida para garantir os...  RODRIGO GOULART   \n",
       "1  contratação de equipes  de logradouros para at...  RINALDI DIGILIO   \n",
       "2  para atendimento de demandas relacionadas a co...  RINALDI DIGILIO   \n",
       "3  Atender demanda relacionadas a conservação e m...  RINALDI DIGILIO   \n",
       "4  A propositura dos recursos ira levar a comunid...  RINALDI DIGILIO   \n",
       "\n",
       "   cod_partido sigla_partido                nome_partido  \n",
       "0           41           PSD  PARTIDO SOCIAL DEMOCRATICO  \n",
       "1          107           PSL      PARTIDO SOCIAL LIBERAL  \n",
       "2          107           PSL      PARTIDO SOCIAL LIBERAL  \n",
       "3          107           PSL      PARTIDO SOCIAL LIBERAL  \n",
       "4          107           PSL      PARTIDO SOCIAL LIBERAL  "
      ]
     },
     "execution_count": 5,
     "metadata": {},
     "output_type": "execute_result"
    }
   ],
   "source": [
    "df_emendas.head()"
   ]
  },
  {
   "cell_type": "code",
   "execution_count": 6,
   "metadata": {},
   "outputs": [],
   "source": [
    "df_emendas.rename(columns={'num_emenda': 'cod_emenda', 'ano' : 'exercicio'}, inplace=True)"
   ]
  },
  {
   "cell_type": "code",
   "execution_count": 7,
   "metadata": {},
   "outputs": [
    {
     "data": {
      "text/plain": [
       "np.int64(4)"
      ]
     },
     "execution_count": 7,
     "metadata": {},
     "output_type": "execute_result"
    }
   ],
   "source": [
    "df_emendas['cod_emenda'].astype(int).astype(str).str.len().max()"
   ]
  },
  {
   "cell_type": "code",
   "execution_count": 8,
   "metadata": {},
   "outputs": [
    {
     "data": {
      "text/plain": [
       "np.int64(4)"
      ]
     },
     "execution_count": 8,
     "metadata": {},
     "output_type": "execute_result"
    }
   ],
   "source": [
    "df_loa['cod_emenda'].astype(int).astype(str).str.len().max()"
   ]
  },
  {
   "cell_type": "code",
   "execution_count": 9,
   "metadata": {},
   "outputs": [],
   "source": [
    "df_emendas['cod_emenda'] = df_emendas['cod_emenda'].astype(int).astype(str).str.zfill(4)\n",
    "df_loa['cod_emenda'] = df_loa['cod_emenda'].astype(int).astype(str).str.zfill(4)\n"
   ]
  },
  {
   "cell_type": "code",
   "execution_count": 10,
   "metadata": {},
   "outputs": [
    {
     "data": {
      "text/plain": [
       "np.int64(4)"
      ]
     },
     "execution_count": 10,
     "metadata": {},
     "output_type": "execute_result"
    }
   ],
   "source": [
    "df_emendas['exercicio'].astype(int).astype(str).str.len().max()"
   ]
  },
  {
   "cell_type": "code",
   "execution_count": 11,
   "metadata": {},
   "outputs": [
    {
     "data": {
      "text/plain": [
       "np.int64(4)"
      ]
     },
     "execution_count": 11,
     "metadata": {},
     "output_type": "execute_result"
    }
   ],
   "source": [
    "df_loa['exercicio'].astype(int).astype(str).str.len().max()"
   ]
  },
  {
   "cell_type": "code",
   "execution_count": 12,
   "metadata": {},
   "outputs": [],
   "source": [
    "df_emendas['exercicio'] = df_emendas['exercicio'].astype(int)\n",
    "df_loa['exercicio'] = df_loa['exercicio'].astype(int)"
   ]
  },
  {
   "cell_type": "code",
   "execution_count": 13,
   "metadata": {},
   "outputs": [
    {
     "data": {
      "text/plain": [
       "array([2022, 2023, 2024, 2025])"
      ]
     },
     "execution_count": 13,
     "metadata": {},
     "output_type": "execute_result"
    }
   ],
   "source": [
    "df_emendas['exercicio'].unique()"
   ]
  },
  {
   "cell_type": "code",
   "execution_count": 14,
   "metadata": {},
   "outputs": [
    {
     "data": {
      "text/plain": [
       "array([2022, 2023, 2024, 2025])"
      ]
     },
     "execution_count": 14,
     "metadata": {},
     "output_type": "execute_result"
    }
   ],
   "source": [
    "df_emendas['exercicio'].unique()"
   ]
  },
  {
   "cell_type": "code",
   "execution_count": 15,
   "metadata": {},
   "outputs": [],
   "source": [
    "df_merge = pd.merge(df_loa, df_emendas, how='left', on=['exercicio', 'cod_emenda'], indicator=True)"
   ]
  },
  {
   "cell_type": "code",
   "execution_count": 16,
   "metadata": {},
   "outputs": [
    {
     "data": {
      "text/html": [
       "<div>\n",
       "<style scoped>\n",
       "    .dataframe tbody tr th:only-of-type {\n",
       "        vertical-align: middle;\n",
       "    }\n",
       "\n",
       "    .dataframe tbody tr th {\n",
       "        vertical-align: top;\n",
       "    }\n",
       "\n",
       "    .dataframe thead th {\n",
       "        text-align: right;\n",
       "    }\n",
       "</style>\n",
       "<table border=\"1\" class=\"dataframe\">\n",
       "  <thead>\n",
       "    <tr style=\"text-align: right;\">\n",
       "      <th></th>\n",
       "      <th>exercicio</th>\n",
       "      <th>cod_emenda</th>\n",
       "      <th>direta_ou_indireta</th>\n",
       "      <th>cod_orgao</th>\n",
       "      <th>cod_unidade</th>\n",
       "      <th>cod_programa</th>\n",
       "      <th>cod_funcao</th>\n",
       "      <th>cod_subfuncao</th>\n",
       "      <th>cod_proj_atividade</th>\n",
       "      <th>cod_fonte</th>\n",
       "      <th>...</th>\n",
       "      <th>desc_distrito</th>\n",
       "      <th>tipo_regionalizacao</th>\n",
       "      <th>valor_regionalizado</th>\n",
       "      <th>cod_vereador</th>\n",
       "      <th>motivo_emenda</th>\n",
       "      <th>apelido</th>\n",
       "      <th>cod_partido</th>\n",
       "      <th>sigla_partido</th>\n",
       "      <th>nome_partido</th>\n",
       "      <th>_merge</th>\n",
       "    </tr>\n",
       "  </thead>\n",
       "  <tbody>\n",
       "    <tr>\n",
       "      <th>0</th>\n",
       "      <td>2025</td>\n",
       "      <td>3514</td>\n",
       "      <td>Administraçăo Direta</td>\n",
       "      <td>60</td>\n",
       "      <td>10</td>\n",
       "      <td>3001</td>\n",
       "      <td>13</td>\n",
       "      <td>392</td>\n",
       "      <td>9222</td>\n",
       "      <td>0</td>\n",
       "      <td>...</td>\n",
       "      <td>Supra-Distrital</td>\n",
       "      <td>Despesa Não-Regionalizável</td>\n",
       "      <td>1000.0</td>\n",
       "      <td>1814</td>\n",
       "      <td>Esta emenda visa atender as necessidades das s...</td>\n",
       "      <td>MILTON LEITE</td>\n",
       "      <td>111</td>\n",
       "      <td>UNIÃO</td>\n",
       "      <td>UNIÃO BRASIL</td>\n",
       "      <td>both</td>\n",
       "    </tr>\n",
       "    <tr>\n",
       "      <th>1</th>\n",
       "      <td>2025</td>\n",
       "      <td>1791</td>\n",
       "      <td>Administraçăo Direta</td>\n",
       "      <td>60</td>\n",
       "      <td>10</td>\n",
       "      <td>3022</td>\n",
       "      <td>15</td>\n",
       "      <td>452</td>\n",
       "      <td>9241</td>\n",
       "      <td>0</td>\n",
       "      <td>...</td>\n",
       "      <td>Supra-Distrital</td>\n",
       "      <td>Despesa Não-Regionalizável</td>\n",
       "      <td>2000000.0</td>\n",
       "      <td>1789</td>\n",
       "      <td>Trata-se de antiga reivindicação da comunidade...</td>\n",
       "      <td>ARSELINO TATTO</td>\n",
       "      <td>13</td>\n",
       "      <td>PT</td>\n",
       "      <td>PARTIDO DOS TRABALHADORES</td>\n",
       "      <td>both</td>\n",
       "    </tr>\n",
       "    <tr>\n",
       "      <th>2</th>\n",
       "      <td>2025</td>\n",
       "      <td>3514</td>\n",
       "      <td>Administraçăo Direta</td>\n",
       "      <td>60</td>\n",
       "      <td>10</td>\n",
       "      <td>3017</td>\n",
       "      <td>27</td>\n",
       "      <td>812</td>\n",
       "      <td>9223</td>\n",
       "      <td>0</td>\n",
       "      <td>...</td>\n",
       "      <td>Supra-Distrital</td>\n",
       "      <td>Despesa Não-Regionalizável</td>\n",
       "      <td>1000.0</td>\n",
       "      <td>1814</td>\n",
       "      <td>Esta emenda visa atender as necessidades das s...</td>\n",
       "      <td>MILTON LEITE</td>\n",
       "      <td>111</td>\n",
       "      <td>UNIÃO</td>\n",
       "      <td>UNIÃO BRASIL</td>\n",
       "      <td>both</td>\n",
       "    </tr>\n",
       "    <tr>\n",
       "      <th>3</th>\n",
       "      <td>2025</td>\n",
       "      <td>3549</td>\n",
       "      <td>Administraçăo Direta</td>\n",
       "      <td>20</td>\n",
       "      <td>10</td>\n",
       "      <td>3009</td>\n",
       "      <td>26</td>\n",
       "      <td>453</td>\n",
       "      <td>9145</td>\n",
       "      <td>0</td>\n",
       "      <td>...</td>\n",
       "      <td>Supra-Distrital</td>\n",
       "      <td>Despesa Não-Regionalizável</td>\n",
       "      <td>100000.0</td>\n",
       "      <td>1805</td>\n",
       "      <td>A presente emenda visa a melhoria na infraestr...</td>\n",
       "      <td>SIDNEY CRUZ</td>\n",
       "      <td>15</td>\n",
       "      <td>MDB</td>\n",
       "      <td>MOVIMENTO DEMOCRÁTICO BRASILEIRO</td>\n",
       "      <td>both</td>\n",
       "    </tr>\n",
       "    <tr>\n",
       "      <th>4</th>\n",
       "      <td>2025</td>\n",
       "      <td>3533</td>\n",
       "      <td>Administraçăo Direta</td>\n",
       "      <td>20</td>\n",
       "      <td>10</td>\n",
       "      <td>3009</td>\n",
       "      <td>26</td>\n",
       "      <td>572</td>\n",
       "      <td>9138</td>\n",
       "      <td>0</td>\n",
       "      <td>...</td>\n",
       "      <td>Supra-Distrital</td>\n",
       "      <td>Despesa Não-Regionalizável</td>\n",
       "      <td>30000.0</td>\n",
       "      <td>1805</td>\n",
       "      <td>A presente emenda destina-se a reestruturar a ...</td>\n",
       "      <td>SIDNEY CRUZ</td>\n",
       "      <td>15</td>\n",
       "      <td>MDB</td>\n",
       "      <td>MOVIMENTO DEMOCRÁTICO BRASILEIRO</td>\n",
       "      <td>both</td>\n",
       "    </tr>\n",
       "  </tbody>\n",
       "</table>\n",
       "<p>5 rows × 34 columns</p>\n",
       "</div>"
      ],
      "text/plain": [
       "   exercicio cod_emenda    direta_ou_indireta  cod_orgao  cod_unidade  \\\n",
       "0       2025       3514  Administraçăo Direta         60           10   \n",
       "1       2025       1791  Administraçăo Direta         60           10   \n",
       "2       2025       3514  Administraçăo Direta         60           10   \n",
       "3       2025       3549  Administraçăo Direta         20           10   \n",
       "4       2025       3533  Administraçăo Direta         20           10   \n",
       "\n",
       "   cod_programa  cod_funcao  cod_subfuncao  cod_proj_atividade  cod_fonte  \\\n",
       "0          3001          13            392                9222          0   \n",
       "1          3022          15            452                9241          0   \n",
       "2          3017          27            812                9223          0   \n",
       "3          3009          26            453                9145          0   \n",
       "4          3009          26            572                9138          0   \n",
       "\n",
       "   ...    desc_distrito         tipo_regionalizacao valor_regionalizado  \\\n",
       "0  ...  Supra-Distrital  Despesa Não-Regionalizável              1000.0   \n",
       "1  ...  Supra-Distrital  Despesa Não-Regionalizável           2000000.0   \n",
       "2  ...  Supra-Distrital  Despesa Não-Regionalizável              1000.0   \n",
       "3  ...  Supra-Distrital  Despesa Não-Regionalizável            100000.0   \n",
       "4  ...  Supra-Distrital  Despesa Não-Regionalizável             30000.0   \n",
       "\n",
       "  cod_vereador                                      motivo_emenda  \\\n",
       "0         1814  Esta emenda visa atender as necessidades das s...   \n",
       "1         1789  Trata-se de antiga reivindicação da comunidade...   \n",
       "2         1814  Esta emenda visa atender as necessidades das s...   \n",
       "3         1805  A presente emenda visa a melhoria na infraestr...   \n",
       "4         1805  A presente emenda destina-se a reestruturar a ...   \n",
       "\n",
       "          apelido cod_partido  sigla_partido  \\\n",
       "0    MILTON LEITE         111          UNIÃO   \n",
       "1  ARSELINO TATTO          13             PT   \n",
       "2    MILTON LEITE         111          UNIÃO   \n",
       "3     SIDNEY CRUZ          15            MDB   \n",
       "4     SIDNEY CRUZ          15            MDB   \n",
       "\n",
       "                       nome_partido  _merge  \n",
       "0                      UNIÃO BRASIL    both  \n",
       "1         PARTIDO DOS TRABALHADORES    both  \n",
       "2                      UNIÃO BRASIL    both  \n",
       "3  MOVIMENTO DEMOCRÁTICO BRASILEIRO    both  \n",
       "4  MOVIMENTO DEMOCRÁTICO BRASILEIRO    both  \n",
       "\n",
       "[5 rows x 34 columns]"
      ]
     },
     "execution_count": 16,
     "metadata": {},
     "output_type": "execute_result"
    }
   ],
   "source": [
    "df_merge.head()"
   ]
  },
  {
   "cell_type": "markdown",
   "metadata": {},
   "source": [
    "### Checagem de integridade"
   ]
  },
  {
   "cell_type": "code",
   "execution_count": 17,
   "metadata": {},
   "outputs": [
    {
     "data": {
      "text/plain": [
       "_merge\n",
       "both          1077\n",
       "left_only        0\n",
       "right_only       0\n",
       "Name: count, dtype: int64"
      ]
     },
     "execution_count": 17,
     "metadata": {},
     "output_type": "execute_result"
    }
   ],
   "source": [
    "df_merge['_merge'].value_counts()"
   ]
  },
  {
   "cell_type": "code",
   "execution_count": 18,
   "metadata": {},
   "outputs": [
    {
     "data": {
      "text/plain": [
       "Index(['exercicio', 'cod_emenda', 'direta_ou_indireta', 'cod_orgao',\n",
       "       'cod_unidade', 'cod_programa', 'cod_funcao', 'cod_subfuncao',\n",
       "       'cod_proj_atividade', 'cod_fonte', 'desc_orgao', 'desc_unidade',\n",
       "       'desc_programa', 'desc_funcao', 'desc_subfuncao', 'desc_proj_atividade',\n",
       "       'desc_fonte', 'valor_orcado', 'index', 'cod_regiao',\n",
       "       'cod_subprefeitura', 'cod_distrito', 'desc_regiao',\n",
       "       'desc_subprefeitura', 'desc_distrito', 'tipo_regionalizacao',\n",
       "       'valor_regionalizado', 'cod_vereador', 'motivo_emenda', 'apelido',\n",
       "       'cod_partido', 'sigla_partido', 'nome_partido', '_merge'],\n",
       "      dtype='object')"
      ]
     },
     "execution_count": 18,
     "metadata": {},
     "output_type": "execute_result"
    }
   ],
   "source": [
    "df_merge.columns"
   ]
  },
  {
   "cell_type": "code",
   "execution_count": 19,
   "metadata": {},
   "outputs": [
    {
     "data": {
      "text/plain": [
       "tipo_regionalizacao\n",
       "Despesa Não-Regionalizável    906\n",
       "Despesa Regionalizável        171\n",
       "Name: exercicio, dtype: int64"
      ]
     },
     "execution_count": 19,
     "metadata": {},
     "output_type": "execute_result"
    }
   ],
   "source": [
    "df_merge.groupby('tipo_regionalizacao').count()['exercicio']"
   ]
  },
  {
   "cell_type": "code",
   "execution_count": 20,
   "metadata": {},
   "outputs": [
    {
     "name": "stdout",
     "output_type": "stream",
     "text": [
      "['valor_orcado']\n"
     ]
    }
   ],
   "source": [
    "# Selecionar as duas linhas duplicadas\n",
    "duplicated_rows = df_merge[df_merge[['exercicio', 'cod_emenda', 'cod_orgao', 'cod_unidade', 'cod_proj_atividade', 'cod_vereador', 'cod_subprefeitura']].duplicated(keep=False)]\n",
    "\n",
    "# Comparar as duas linhas\n",
    "differences = duplicated_rows.iloc[0] != duplicated_rows.iloc[1]\n",
    "\n",
    "# Exibir as colunas que diferem\n",
    "columns_with_differences = differences[differences].index.tolist()\n",
    "print(columns_with_differences)"
   ]
  },
  {
   "cell_type": "code",
   "execution_count": 21,
   "metadata": {},
   "outputs": [
    {
     "data": {
      "text/plain": [
       "315    180000\n",
       "316    120000\n",
       "Name: valor_orcado, dtype: int64"
      ]
     },
     "execution_count": 21,
     "metadata": {},
     "output_type": "execute_result"
    }
   ],
   "source": [
    "duplicated_rows['valor_orcado']"
   ]
  },
  {
   "cell_type": "markdown",
   "metadata": {},
   "source": [
    "Checamos na base do SOF e identificamos que o registro na verdade não é duplicado: ele possui fontes diferentes. Como não estamos taerbalhando com o detalhamento da fonte, vamos agregar os valores."
   ]
  },
  {
   "cell_type": "code",
   "execution_count": 22,
   "metadata": {},
   "outputs": [
    {
     "data": {
      "text/html": [
       "<div>\n",
       "<style scoped>\n",
       "    .dataframe tbody tr th:only-of-type {\n",
       "        vertical-align: middle;\n",
       "    }\n",
       "\n",
       "    .dataframe tbody tr th {\n",
       "        vertical-align: top;\n",
       "    }\n",
       "\n",
       "    .dataframe thead th {\n",
       "        text-align: right;\n",
       "    }\n",
       "</style>\n",
       "<table border=\"1\" class=\"dataframe\">\n",
       "  <thead>\n",
       "    <tr style=\"text-align: right;\">\n",
       "      <th></th>\n",
       "      <th>exercicio</th>\n",
       "      <th>cod_emenda</th>\n",
       "      <th>direta_ou_indireta</th>\n",
       "      <th>cod_orgao</th>\n",
       "      <th>cod_unidade</th>\n",
       "      <th>cod_programa</th>\n",
       "      <th>cod_funcao</th>\n",
       "      <th>cod_subfuncao</th>\n",
       "      <th>cod_proj_atividade</th>\n",
       "      <th>cod_fonte</th>\n",
       "      <th>...</th>\n",
       "      <th>desc_distrito</th>\n",
       "      <th>tipo_regionalizacao</th>\n",
       "      <th>valor_regionalizado</th>\n",
       "      <th>cod_vereador</th>\n",
       "      <th>motivo_emenda</th>\n",
       "      <th>apelido</th>\n",
       "      <th>cod_partido</th>\n",
       "      <th>sigla_partido</th>\n",
       "      <th>nome_partido</th>\n",
       "      <th>_merge</th>\n",
       "    </tr>\n",
       "  </thead>\n",
       "  <tbody>\n",
       "    <tr>\n",
       "      <th>315</th>\n",
       "      <td>2024</td>\n",
       "      <td>3432</td>\n",
       "      <td>Administraçăo Direta</td>\n",
       "      <td>84</td>\n",
       "      <td>10</td>\n",
       "      <td>3003</td>\n",
       "      <td>10</td>\n",
       "      <td>302</td>\n",
       "      <td>9164</td>\n",
       "      <td>0</td>\n",
       "      <td>...</td>\n",
       "      <td>Supra-Distrital</td>\n",
       "      <td>Despesa Não-Regionalizável</td>\n",
       "      <td>300000.0</td>\n",
       "      <td>1669</td>\n",
       "      <td>A presente emenda visa destinar recursos para ...</td>\n",
       "      <td>SIDNEY CRUZ</td>\n",
       "      <td>109</td>\n",
       "      <td>SOLIDARIEDADE</td>\n",
       "      <td>SOLIDARIEDADE</td>\n",
       "      <td>both</td>\n",
       "    </tr>\n",
       "    <tr>\n",
       "      <th>316</th>\n",
       "      <td>2024</td>\n",
       "      <td>3432</td>\n",
       "      <td>Administraçăo Direta</td>\n",
       "      <td>84</td>\n",
       "      <td>10</td>\n",
       "      <td>3003</td>\n",
       "      <td>10</td>\n",
       "      <td>302</td>\n",
       "      <td>9164</td>\n",
       "      <td>0</td>\n",
       "      <td>...</td>\n",
       "      <td>Supra-Distrital</td>\n",
       "      <td>Despesa Não-Regionalizável</td>\n",
       "      <td>300000.0</td>\n",
       "      <td>1669</td>\n",
       "      <td>A presente emenda visa destinar recursos para ...</td>\n",
       "      <td>SIDNEY CRUZ</td>\n",
       "      <td>109</td>\n",
       "      <td>SOLIDARIEDADE</td>\n",
       "      <td>SOLIDARIEDADE</td>\n",
       "      <td>both</td>\n",
       "    </tr>\n",
       "  </tbody>\n",
       "</table>\n",
       "<p>2 rows × 34 columns</p>\n",
       "</div>"
      ],
      "text/plain": [
       "     exercicio cod_emenda    direta_ou_indireta  cod_orgao  cod_unidade  \\\n",
       "315       2024       3432  Administraçăo Direta         84           10   \n",
       "316       2024       3432  Administraçăo Direta         84           10   \n",
       "\n",
       "     cod_programa  cod_funcao  cod_subfuncao  cod_proj_atividade  cod_fonte  \\\n",
       "315          3003          10            302                9164          0   \n",
       "316          3003          10            302                9164          0   \n",
       "\n",
       "     ...    desc_distrito         tipo_regionalizacao valor_regionalizado  \\\n",
       "315  ...  Supra-Distrital  Despesa Não-Regionalizável            300000.0   \n",
       "316  ...  Supra-Distrital  Despesa Não-Regionalizável            300000.0   \n",
       "\n",
       "    cod_vereador                                      motivo_emenda  \\\n",
       "315         1669  A presente emenda visa destinar recursos para ...   \n",
       "316         1669  A presente emenda visa destinar recursos para ...   \n",
       "\n",
       "         apelido cod_partido  sigla_partido   nome_partido  _merge  \n",
       "315  SIDNEY CRUZ         109  SOLIDARIEDADE  SOLIDARIEDADE    both  \n",
       "316  SIDNEY CRUZ         109  SOLIDARIEDADE  SOLIDARIEDADE    both  \n",
       "\n",
       "[2 rows x 34 columns]"
      ]
     },
     "execution_count": 22,
     "metadata": {},
     "output_type": "execute_result"
    }
   ],
   "source": [
    "duplicated_rows"
   ]
  },
  {
   "cell_type": "code",
   "execution_count": 23,
   "metadata": {},
   "outputs": [],
   "source": [
    "df_merge.loc[315, 'valor_orcado'] = df_merge.loc[315, 'valor_orcado'] + df_merge.loc[316, 'valor_orcado']\n",
    "\n",
    "df_merge.drop(316, inplace=True)\n",
    "\n",
    "df_merge.reset_index(inplace=True, drop=True)"
   ]
  },
  {
   "cell_type": "code",
   "execution_count": 24,
   "metadata": {},
   "outputs": [
    {
     "data": {
      "text/plain": [
       "sigla_partido\n",
       "PT               55\n",
       "PSOL             37\n",
       "SOLIDARIEDADE    31\n",
       "UNIÃO            23\n",
       "PSD               9\n",
       "Name: cod_emenda, dtype: int64"
      ]
     },
     "execution_count": 24,
     "metadata": {},
     "output_type": "execute_result"
    }
   ],
   "source": [
    "df_merge[df_merge['tipo_regionalizacao']=='Despesa Regionalizável'].groupby('sigla_partido')['cod_emenda'].nunique().nlargest(5)"
   ]
  },
  {
   "cell_type": "code",
   "execution_count": 25,
   "metadata": {},
   "outputs": [],
   "source": [
    "from config import DADOS_FINAL"
   ]
  },
  {
   "cell_type": "code",
   "execution_count": 26,
   "metadata": {},
   "outputs": [],
   "source": [
    "df_merge.to_csv(DADOS_FINAL, sep=';', index=False)"
   ]
  }
 ],
 "metadata": {
  "kernelspec": {
   "display_name": "venv",
   "language": "python",
   "name": "python3"
  },
  "language_info": {
   "codemirror_mode": {
    "name": "ipython",
    "version": 3
   },
   "file_extension": ".py",
   "mimetype": "text/x-python",
   "name": "python",
   "nbconvert_exporter": "python",
   "pygments_lexer": "ipython3",
   "version": "3.13.2"
  }
 },
 "nbformat": 4,
 "nbformat_minor": 2
}
