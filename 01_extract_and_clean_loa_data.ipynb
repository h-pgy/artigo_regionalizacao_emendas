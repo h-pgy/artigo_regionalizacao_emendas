{
 "cells": [
  {
   "cell_type": "markdown",
   "id": "e05befc5",
   "metadata": {},
   "source": [
    "# Extração e limpeza dos dados da LOA\n",
    "\n",
    "**objetivo**: identificar as emendas propostas pela legislatura 2021-2024 e cruzar com o vereador/partido que propôs.\n",
    "\n",
    "Scripts para extrair dados das LOAs para os anos de 2022 a 2025. Essas LOAs correspondem à legislatura de 2021-2024, eleita nas eleições de 2020.\n",
    "\n",
    "Serão extraídas também a relação de vereadores que foram proponentes de cada emenda."
   ]
  },
  {
   "cell_type": "markdown",
   "id": "cb55206d",
   "metadata": {},
   "source": [
    "## extração de dados\n",
    "Extraindo os arquivos da LOA"
   ]
  },
  {
   "cell_type": "code",
   "execution_count": 1,
   "id": "ac3f8670",
   "metadata": {},
   "outputs": [],
   "source": [
    "import pandas as pd\n",
    "from typing import Optional\n",
    "import plotly.graph_objects as go\n",
    "import os\n",
    "\n",
    "from utils.download_file import download_csv_as_dataframe\n",
    "\n",
    "from config import DATA_FOLDER, GRAFICOS_FOLDER \n"
   ]
  },
  {
   "cell_type": "code",
   "execution_count": 2,
   "id": "c5c010e9",
   "metadata": {},
   "outputs": [],
   "source": [
    "pd.set_option('display.max_columns', None)"
   ]
  },
  {
   "cell_type": "code",
   "execution_count": 3,
   "id": "81fc8a5c",
   "metadata": {},
   "outputs": [],
   "source": [
    "class DownloadLoa:\n",
    "\n",
    "    base_url = 'https://orcamento.sf.prefeitura.sp.gov.br/orcamento/uploads'\n",
    "\n",
    "    files = {\n",
    "\n",
    "        2025 : 'LOA.25_VersionamentoDespesa.csv',\n",
    "        2024 : 'OrcamentoAprovado_2024.csv',\n",
    "        2023 : 'OrcamentoAprovado_2023.csv',\n",
    "        2022 : 'OrcamentoAprovado_2022.csv'\n",
    "    }\n",
    "\n",
    "    def __build_url(self, year: int) -> str:\n",
    "        \"\"\"\n",
    "        Builds the complete URL for downloading the LOA file for a given year.\n",
    "\n",
    "        Args:\n",
    "            year (int): The year for which the LOA file URL is to be built.\n",
    "\n",
    "        Returns:\n",
    "            str: The complete URL as a string.\n",
    "        \"\"\"\n",
    "        endpoint = f'{year}/{self.files[year]}'\n",
    "        return self.base_url + '/' + endpoint\n",
    "\n",
    "    def __download(self, year: int, **read_kwargs)->pd.DataFrame:\n",
    "        \"\"\"\n",
    "        Downloads the LOA file for a given year and returns it as a pandas DataFrame.\n",
    "\n",
    "        Args:\n",
    "            year (int): The year for which the LOA file is to be downloaded.\n",
    "\n",
    "        Returns:\n",
    "            pd.DataFrame: The downloaded LOA file as a pandas DataFrame.\n",
    "        \"\"\"\n",
    "\n",
    "\n",
    "\n",
    "        url = self.__build_url(year)\n",
    "        df = download_csv_as_dataframe(url, **read_kwargs)\n",
    "        \n",
    "        return df\n",
    "\n",
    "    def __concat_year_dfs(self, year_list:[str], **read_kwargs)->pd.DataFrame:\n",
    "        \"\"\"\n",
    "        Concatenates DataFrames for the specified years into a single DataFrame.\n",
    "\n",
    "        Args:\n",
    "            year_list (list): List of years for which DataFrames are to be concatenated.\n",
    "\n",
    "        Returns:\n",
    "            pd.DataFrame: The concatenated DataFrame.\n",
    "        \"\"\"\n",
    "        dfs = [self.__download(year, **read_kwargs) for year in year_list]\n",
    "\n",
    "        return pd.concat(dfs, ignore_index=True)\n",
    "\n",
    "    def __describe_concated_df(self, df: pd.DataFrame) -> None:\n",
    "        \"\"\"\n",
    "        Prints the shape, columns, and missing values for the given DataFrame.\n",
    "\n",
    "        Args:\n",
    "            df (pd.DataFrame): The DataFrame to describe.\n",
    "        \"\"\"\n",
    "        print(\"Shape of DataFrame:\", df.shape)\n",
    "        print(\"Columns in DataFrame:\", df.columns.tolist())\n",
    "        print(\"Missing values per column:\")\n",
    "        print(df.isnull().sum())\n",
    "\n",
    "\n",
    "    def __call__(self, year_list: Optional[[str]]=None, **read_kwargs)->pd.DataFrame:\n",
    "        \"\"\"\n",
    "        Downloads and concatenates LOA files for the specified years.\n",
    "\n",
    "        Args:\n",
    "            year_list (list): List of years for which LOA files are to be downloaded.\n",
    "\n",
    "        Returns:\n",
    "            pd.DataFrame: The concatenated DataFrame containing the LOA data.\n",
    "        \"\"\"\n",
    "        if year_list is None:\n",
    "            year_list = self.files.keys()\n",
    "\n",
    "        df = self.__concat_year_dfs(year_list, **read_kwargs)\n",
    "        self.__describe_concated_df(df)\n",
    "\n",
    "        return df\n"
   ]
  },
  {
   "cell_type": "code",
   "execution_count": 4,
   "id": "96fa2e61",
   "metadata": {},
   "outputs": [],
   "source": [
    "download_loa = DownloadLoa()"
   ]
  },
  {
   "cell_type": "markdown",
   "id": "aadac6ff",
   "metadata": {},
   "source": [
    "## limpeza de dados\n",
    "\n",
    "padronizar colunas"
   ]
  },
  {
   "cell_type": "code",
   "execution_count": 5,
   "id": "0966f73f",
   "metadata": {},
   "outputs": [
    {
     "name": "stdout",
     "output_type": "stream",
     "text": [
      "Shape of DataFrame: (18531, 40)\n",
      "Columns in DataFrame: ['DOTAÇĂO', 'EXERCICIO_EMPRESA', 'EXERCICIO', 'ADMINISTRACAO', 'ORGAO', 'DESC_ORGAO', 'UNIDADE', 'DESC_UNIDADE', 'FUNCAO', 'DESC_FUNCAO', 'SUBFUNCAO', 'DESC_SUBFUNCAO', 'PROGRAMA', 'DESC_PROGRAMA', 'PAPA', 'PROJ_ATIV', 'DESC_PROJ_ATIV', 'CTA_DESPESA', 'DESC_CTA_DESPESA', 'FONTE', 'DESC_FONTE', 'TIPO_CREDITO', 'DESC_TIPO_CREDITO', 'COD_EX_FONT_REC', 'DESC_EX_FONT_REC', 'COD_DSTN_REC', 'TXT_DSTN_REC', 'COD_VINC_REC_PMSP', 'TXT_VINC_PMSP', 'COD_FONT_RDZD_REC', 'TXT_FONT_RDZD_REC', 'COD_NRO_EMND_DOTA', 'SALDO_ORÇ', 'AGENDA', 'DESC_AGENDA', 'EIXO', 'DESC_EIXO', 'PPA', 'IND_AGDA_ETGC', 'DOTAÇÃO']\n",
      "Missing values per column:\n",
      "DOTAÇĂO               4858\n",
      "EXERCICIO_EMPRESA        0\n",
      "EXERCICIO                0\n",
      "ADMINISTRACAO            0\n",
      "ORGAO                    0\n",
      "DESC_ORGAO               0\n",
      "UNIDADE                  0\n",
      "DESC_UNIDADE             0\n",
      "FUNCAO                   0\n",
      "DESC_FUNCAO              0\n",
      "SUBFUNCAO                0\n",
      "DESC_SUBFUNCAO           0\n",
      "PROGRAMA                 0\n",
      "DESC_PROGRAMA            0\n",
      "PAPA                     0\n",
      "PROJ_ATIV                0\n",
      "DESC_PROJ_ATIV           0\n",
      "CTA_DESPESA              0\n",
      "DESC_CTA_DESPESA         0\n",
      "FONTE                    0\n",
      "DESC_FONTE               0\n",
      "TIPO_CREDITO          4730\n",
      "DESC_TIPO_CREDITO     4730\n",
      "COD_EX_FONT_REC       4730\n",
      "DESC_EX_FONT_REC      4730\n",
      "COD_DSTN_REC          4730\n",
      "TXT_DSTN_REC          4730\n",
      "COD_VINC_REC_PMSP     4730\n",
      "TXT_VINC_PMSP         4730\n",
      "COD_FONT_RDZD_REC     4730\n",
      "TXT_FONT_RDZD_REC     4730\n",
      "COD_NRO_EMND_DOTA    17509\n",
      "SALDO_ORÇ                0\n",
      "AGENDA               18531\n",
      "DESC_AGENDA          18531\n",
      "EIXO                 18531\n",
      "DESC_EIXO            18531\n",
      "PPA                      0\n",
      "IND_AGDA_ETGC            0\n",
      "DOTAÇÃO              13673\n",
      "dtype: int64\n"
     ]
    }
   ],
   "source": [
    "df_loa = download_loa(encoding='latin-1', sep=';')"
   ]
  },
  {
   "cell_type": "code",
   "execution_count": 6,
   "id": "b62bc9f5",
   "metadata": {},
   "outputs": [
    {
     "name": "stderr",
     "output_type": "stream",
     "text": [
      "/tmp/ipykernel_295932/1849990876.py:1: DeprecationWarning: DataFrameGroupBy.apply operated on the grouping columns. This behavior is deprecated, and in a future version of pandas the grouping columns will be excluded from the operation. Either pass `include_groups=False` to exclude the groupings or explicitly select the grouping columns after groupby to silence this warning.\n",
      "  missing_values_count = df_loa.groupby(\"EXERCICIO\").apply(lambda group: group.isnull().sum())\n"
     ]
    }
   ],
   "source": [
    "missing_values_count = df_loa.groupby(\"EXERCICIO\").apply(lambda group: group.isnull().sum())\n"
   ]
  },
  {
   "cell_type": "code",
   "execution_count": 7,
   "id": "0677a34b",
   "metadata": {},
   "outputs": [],
   "source": [
    "missing_values_percent = missing_values_count/df_loa.groupby(\"EXERCICIO\").count()"
   ]
  },
  {
   "cell_type": "code",
   "execution_count": 8,
   "id": "2a2876f4",
   "metadata": {},
   "outputs": [
    {
     "data": {
      "text/html": [
       "<div>\n",
       "<style scoped>\n",
       "    .dataframe tbody tr th:only-of-type {\n",
       "        vertical-align: middle;\n",
       "    }\n",
       "\n",
       "    .dataframe tbody tr th {\n",
       "        vertical-align: top;\n",
       "    }\n",
       "\n",
       "    .dataframe thead th {\n",
       "        text-align: right;\n",
       "    }\n",
       "</style>\n",
       "<table border=\"1\" class=\"dataframe\">\n",
       "  <thead>\n",
       "    <tr style=\"text-align: right;\">\n",
       "      <th></th>\n",
       "      <th>ADMINISTRACAO</th>\n",
       "      <th>AGENDA</th>\n",
       "      <th>COD_DSTN_REC</th>\n",
       "      <th>COD_EX_FONT_REC</th>\n",
       "      <th>COD_FONT_RDZD_REC</th>\n",
       "      <th>COD_NRO_EMND_DOTA</th>\n",
       "      <th>COD_VINC_REC_PMSP</th>\n",
       "      <th>CTA_DESPESA</th>\n",
       "      <th>DESC_AGENDA</th>\n",
       "      <th>DESC_CTA_DESPESA</th>\n",
       "      <th>DESC_EIXO</th>\n",
       "      <th>DESC_EX_FONT_REC</th>\n",
       "      <th>DESC_FONTE</th>\n",
       "      <th>DESC_FUNCAO</th>\n",
       "      <th>DESC_ORGAO</th>\n",
       "      <th>DESC_PROGRAMA</th>\n",
       "      <th>DESC_PROJ_ATIV</th>\n",
       "      <th>DESC_SUBFUNCAO</th>\n",
       "      <th>DESC_TIPO_CREDITO</th>\n",
       "      <th>DESC_UNIDADE</th>\n",
       "      <th>DOTAÇÃO</th>\n",
       "      <th>DOTAÇĂO</th>\n",
       "      <th>EIXO</th>\n",
       "      <th>EXERCICIO</th>\n",
       "      <th>EXERCICIO_EMPRESA</th>\n",
       "      <th>FONTE</th>\n",
       "      <th>FUNCAO</th>\n",
       "      <th>IND_AGDA_ETGC</th>\n",
       "      <th>ORGAO</th>\n",
       "      <th>PAPA</th>\n",
       "      <th>PPA</th>\n",
       "      <th>PROGRAMA</th>\n",
       "      <th>PROJ_ATIV</th>\n",
       "      <th>SALDO_ORÇ</th>\n",
       "      <th>SUBFUNCAO</th>\n",
       "      <th>TIPO_CREDITO</th>\n",
       "      <th>TXT_DSTN_REC</th>\n",
       "      <th>TXT_FONT_RDZD_REC</th>\n",
       "      <th>TXT_VINC_PMSP</th>\n",
       "      <th>UNIDADE</th>\n",
       "    </tr>\n",
       "    <tr>\n",
       "      <th>EXERCICIO</th>\n",
       "      <th></th>\n",
       "      <th></th>\n",
       "      <th></th>\n",
       "      <th></th>\n",
       "      <th></th>\n",
       "      <th></th>\n",
       "      <th></th>\n",
       "      <th></th>\n",
       "      <th></th>\n",
       "      <th></th>\n",
       "      <th></th>\n",
       "      <th></th>\n",
       "      <th></th>\n",
       "      <th></th>\n",
       "      <th></th>\n",
       "      <th></th>\n",
       "      <th></th>\n",
       "      <th></th>\n",
       "      <th></th>\n",
       "      <th></th>\n",
       "      <th></th>\n",
       "      <th></th>\n",
       "      <th></th>\n",
       "      <th></th>\n",
       "      <th></th>\n",
       "      <th></th>\n",
       "      <th></th>\n",
       "      <th></th>\n",
       "      <th></th>\n",
       "      <th></th>\n",
       "      <th></th>\n",
       "      <th></th>\n",
       "      <th></th>\n",
       "      <th></th>\n",
       "      <th></th>\n",
       "      <th></th>\n",
       "      <th></th>\n",
       "      <th></th>\n",
       "      <th></th>\n",
       "      <th></th>\n",
       "    </tr>\n",
       "  </thead>\n",
       "  <tbody>\n",
       "    <tr>\n",
       "      <th>2022</th>\n",
       "      <td>0.0</td>\n",
       "      <td>inf</td>\n",
       "      <td>inf</td>\n",
       "      <td>inf</td>\n",
       "      <td>inf</td>\n",
       "      <td>21.417062</td>\n",
       "      <td>inf</td>\n",
       "      <td>0.0</td>\n",
       "      <td>inf</td>\n",
       "      <td>0.0</td>\n",
       "      <td>inf</td>\n",
       "      <td>inf</td>\n",
       "      <td>0.0</td>\n",
       "      <td>0.0</td>\n",
       "      <td>0.0</td>\n",
       "      <td>0.0</td>\n",
       "      <td>0.0</td>\n",
       "      <td>0.0</td>\n",
       "      <td>inf</td>\n",
       "      <td>0.0</td>\n",
       "      <td>inf</td>\n",
       "      <td>0.0</td>\n",
       "      <td>inf</td>\n",
       "      <td>NaN</td>\n",
       "      <td>0.0</td>\n",
       "      <td>0.0</td>\n",
       "      <td>0.0</td>\n",
       "      <td>0.0</td>\n",
       "      <td>0.0</td>\n",
       "      <td>0.0</td>\n",
       "      <td>0.0</td>\n",
       "      <td>0.0</td>\n",
       "      <td>0.0</td>\n",
       "      <td>0.0</td>\n",
       "      <td>0.0</td>\n",
       "      <td>inf</td>\n",
       "      <td>inf</td>\n",
       "      <td>inf</td>\n",
       "      <td>inf</td>\n",
       "      <td>0.0</td>\n",
       "    </tr>\n",
       "    <tr>\n",
       "      <th>2023</th>\n",
       "      <td>0.0</td>\n",
       "      <td>inf</td>\n",
       "      <td>0.0</td>\n",
       "      <td>0.0</td>\n",
       "      <td>0.0</td>\n",
       "      <td>18.432000</td>\n",
       "      <td>0.0</td>\n",
       "      <td>0.0</td>\n",
       "      <td>inf</td>\n",
       "      <td>0.0</td>\n",
       "      <td>inf</td>\n",
       "      <td>0.0</td>\n",
       "      <td>0.0</td>\n",
       "      <td>0.0</td>\n",
       "      <td>0.0</td>\n",
       "      <td>0.0</td>\n",
       "      <td>0.0</td>\n",
       "      <td>0.0</td>\n",
       "      <td>0.0</td>\n",
       "      <td>0.0</td>\n",
       "      <td>0.0</td>\n",
       "      <td>inf</td>\n",
       "      <td>inf</td>\n",
       "      <td>NaN</td>\n",
       "      <td>0.0</td>\n",
       "      <td>0.0</td>\n",
       "      <td>0.0</td>\n",
       "      <td>0.0</td>\n",
       "      <td>0.0</td>\n",
       "      <td>0.0</td>\n",
       "      <td>0.0</td>\n",
       "      <td>0.0</td>\n",
       "      <td>0.0</td>\n",
       "      <td>0.0</td>\n",
       "      <td>0.0</td>\n",
       "      <td>0.0</td>\n",
       "      <td>0.0</td>\n",
       "      <td>0.0</td>\n",
       "      <td>0.0</td>\n",
       "      <td>0.0</td>\n",
       "    </tr>\n",
       "    <tr>\n",
       "      <th>2024</th>\n",
       "      <td>0.0</td>\n",
       "      <td>inf</td>\n",
       "      <td>0.0</td>\n",
       "      <td>0.0</td>\n",
       "      <td>0.0</td>\n",
       "      <td>15.142384</td>\n",
       "      <td>0.0</td>\n",
       "      <td>0.0</td>\n",
       "      <td>inf</td>\n",
       "      <td>0.0</td>\n",
       "      <td>inf</td>\n",
       "      <td>0.0</td>\n",
       "      <td>0.0</td>\n",
       "      <td>0.0</td>\n",
       "      <td>0.0</td>\n",
       "      <td>0.0</td>\n",
       "      <td>0.0</td>\n",
       "      <td>0.0</td>\n",
       "      <td>0.0</td>\n",
       "      <td>0.0</td>\n",
       "      <td>inf</td>\n",
       "      <td>0.0</td>\n",
       "      <td>inf</td>\n",
       "      <td>NaN</td>\n",
       "      <td>0.0</td>\n",
       "      <td>0.0</td>\n",
       "      <td>0.0</td>\n",
       "      <td>0.0</td>\n",
       "      <td>0.0</td>\n",
       "      <td>0.0</td>\n",
       "      <td>0.0</td>\n",
       "      <td>0.0</td>\n",
       "      <td>0.0</td>\n",
       "      <td>0.0</td>\n",
       "      <td>0.0</td>\n",
       "      <td>0.0</td>\n",
       "      <td>0.0</td>\n",
       "      <td>0.0</td>\n",
       "      <td>0.0</td>\n",
       "      <td>0.0</td>\n",
       "    </tr>\n",
       "    <tr>\n",
       "      <th>2025</th>\n",
       "      <td>0.0</td>\n",
       "      <td>inf</td>\n",
       "      <td>0.0</td>\n",
       "      <td>0.0</td>\n",
       "      <td>0.0</td>\n",
       "      <td>14.706564</td>\n",
       "      <td>0.0</td>\n",
       "      <td>0.0</td>\n",
       "      <td>inf</td>\n",
       "      <td>0.0</td>\n",
       "      <td>inf</td>\n",
       "      <td>0.0</td>\n",
       "      <td>0.0</td>\n",
       "      <td>0.0</td>\n",
       "      <td>0.0</td>\n",
       "      <td>0.0</td>\n",
       "      <td>0.0</td>\n",
       "      <td>0.0</td>\n",
       "      <td>0.0</td>\n",
       "      <td>0.0</td>\n",
       "      <td>inf</td>\n",
       "      <td>0.0</td>\n",
       "      <td>inf</td>\n",
       "      <td>NaN</td>\n",
       "      <td>0.0</td>\n",
       "      <td>0.0</td>\n",
       "      <td>0.0</td>\n",
       "      <td>0.0</td>\n",
       "      <td>0.0</td>\n",
       "      <td>0.0</td>\n",
       "      <td>0.0</td>\n",
       "      <td>0.0</td>\n",
       "      <td>0.0</td>\n",
       "      <td>0.0</td>\n",
       "      <td>0.0</td>\n",
       "      <td>0.0</td>\n",
       "      <td>0.0</td>\n",
       "      <td>0.0</td>\n",
       "      <td>0.0</td>\n",
       "      <td>0.0</td>\n",
       "    </tr>\n",
       "  </tbody>\n",
       "</table>\n",
       "</div>"
      ],
      "text/plain": [
       "           ADMINISTRACAO  AGENDA  COD_DSTN_REC  COD_EX_FONT_REC  \\\n",
       "EXERCICIO                                                         \n",
       "2022                 0.0     inf           inf              inf   \n",
       "2023                 0.0     inf           0.0              0.0   \n",
       "2024                 0.0     inf           0.0              0.0   \n",
       "2025                 0.0     inf           0.0              0.0   \n",
       "\n",
       "           COD_FONT_RDZD_REC  COD_NRO_EMND_DOTA  COD_VINC_REC_PMSP  \\\n",
       "EXERCICIO                                                            \n",
       "2022                     inf          21.417062                inf   \n",
       "2023                     0.0          18.432000                0.0   \n",
       "2024                     0.0          15.142384                0.0   \n",
       "2025                     0.0          14.706564                0.0   \n",
       "\n",
       "           CTA_DESPESA  DESC_AGENDA  DESC_CTA_DESPESA  DESC_EIXO  \\\n",
       "EXERCICIO                                                          \n",
       "2022               0.0          inf               0.0        inf   \n",
       "2023               0.0          inf               0.0        inf   \n",
       "2024               0.0          inf               0.0        inf   \n",
       "2025               0.0          inf               0.0        inf   \n",
       "\n",
       "           DESC_EX_FONT_REC  DESC_FONTE  DESC_FUNCAO  DESC_ORGAO  \\\n",
       "EXERCICIO                                                          \n",
       "2022                    inf         0.0          0.0         0.0   \n",
       "2023                    0.0         0.0          0.0         0.0   \n",
       "2024                    0.0         0.0          0.0         0.0   \n",
       "2025                    0.0         0.0          0.0         0.0   \n",
       "\n",
       "           DESC_PROGRAMA  DESC_PROJ_ATIV  DESC_SUBFUNCAO  DESC_TIPO_CREDITO  \\\n",
       "EXERCICIO                                                                     \n",
       "2022                 0.0             0.0             0.0                inf   \n",
       "2023                 0.0             0.0             0.0                0.0   \n",
       "2024                 0.0             0.0             0.0                0.0   \n",
       "2025                 0.0             0.0             0.0                0.0   \n",
       "\n",
       "           DESC_UNIDADE  DOTAÇÃO  DOTAÇĂO  EIXO  EXERCICIO  EXERCICIO_EMPRESA  \\\n",
       "EXERCICIO                                                                       \n",
       "2022                0.0      inf      0.0   inf        NaN                0.0   \n",
       "2023                0.0      0.0      inf   inf        NaN                0.0   \n",
       "2024                0.0      inf      0.0   inf        NaN                0.0   \n",
       "2025                0.0      inf      0.0   inf        NaN                0.0   \n",
       "\n",
       "           FONTE  FUNCAO  IND_AGDA_ETGC  ORGAO  PAPA  PPA  PROGRAMA  \\\n",
       "EXERCICIO                                                             \n",
       "2022         0.0     0.0            0.0    0.0   0.0  0.0       0.0   \n",
       "2023         0.0     0.0            0.0    0.0   0.0  0.0       0.0   \n",
       "2024         0.0     0.0            0.0    0.0   0.0  0.0       0.0   \n",
       "2025         0.0     0.0            0.0    0.0   0.0  0.0       0.0   \n",
       "\n",
       "           PROJ_ATIV  SALDO_ORÇ  SUBFUNCAO  TIPO_CREDITO  TXT_DSTN_REC  \\\n",
       "EXERCICIO                                                                \n",
       "2022             0.0        0.0        0.0           inf           inf   \n",
       "2023             0.0        0.0        0.0           0.0           0.0   \n",
       "2024             0.0        0.0        0.0           0.0           0.0   \n",
       "2025             0.0        0.0        0.0           0.0           0.0   \n",
       "\n",
       "           TXT_FONT_RDZD_REC  TXT_VINC_PMSP  UNIDADE  \n",
       "EXERCICIO                                             \n",
       "2022                     inf            inf      0.0  \n",
       "2023                     0.0            0.0      0.0  \n",
       "2024                     0.0            0.0      0.0  \n",
       "2025                     0.0            0.0      0.0  "
      ]
     },
     "execution_count": 8,
     "metadata": {},
     "output_type": "execute_result"
    }
   ],
   "source": [
    "missing_values_percent"
   ]
  },
  {
   "cell_type": "code",
   "execution_count": 9,
   "id": "d7476460",
   "metadata": {},
   "outputs": [],
   "source": [
    "cols = [col for col in missing_values_count.columns if missing_values_percent[col].sum() > 0 or missing_values_percent[col].isnull().all()]"
   ]
  },
  {
   "cell_type": "code",
   "execution_count": 10,
   "id": "9b07eeda",
   "metadata": {},
   "outputs": [
    {
     "data": {
      "text/html": [
       "<div>\n",
       "<style scoped>\n",
       "    .dataframe tbody tr th:only-of-type {\n",
       "        vertical-align: middle;\n",
       "    }\n",
       "\n",
       "    .dataframe tbody tr th {\n",
       "        vertical-align: top;\n",
       "    }\n",
       "\n",
       "    .dataframe thead th {\n",
       "        text-align: right;\n",
       "    }\n",
       "</style>\n",
       "<table border=\"1\" class=\"dataframe\">\n",
       "  <thead>\n",
       "    <tr style=\"text-align: right;\">\n",
       "      <th></th>\n",
       "      <th>DOTAÇĂO</th>\n",
       "      <th>EXERCICIO</th>\n",
       "      <th>TIPO_CREDITO</th>\n",
       "      <th>DESC_TIPO_CREDITO</th>\n",
       "      <th>COD_EX_FONT_REC</th>\n",
       "      <th>DESC_EX_FONT_REC</th>\n",
       "      <th>COD_DSTN_REC</th>\n",
       "      <th>TXT_DSTN_REC</th>\n",
       "      <th>COD_VINC_REC_PMSP</th>\n",
       "      <th>TXT_VINC_PMSP</th>\n",
       "      <th>COD_FONT_RDZD_REC</th>\n",
       "      <th>TXT_FONT_RDZD_REC</th>\n",
       "      <th>COD_NRO_EMND_DOTA</th>\n",
       "      <th>AGENDA</th>\n",
       "      <th>DESC_AGENDA</th>\n",
       "      <th>EIXO</th>\n",
       "      <th>DESC_EIXO</th>\n",
       "      <th>DOTAÇÃO</th>\n",
       "    </tr>\n",
       "    <tr>\n",
       "      <th>EXERCICIO</th>\n",
       "      <th></th>\n",
       "      <th></th>\n",
       "      <th></th>\n",
       "      <th></th>\n",
       "      <th></th>\n",
       "      <th></th>\n",
       "      <th></th>\n",
       "      <th></th>\n",
       "      <th></th>\n",
       "      <th></th>\n",
       "      <th></th>\n",
       "      <th></th>\n",
       "      <th></th>\n",
       "      <th></th>\n",
       "      <th></th>\n",
       "      <th></th>\n",
       "      <th></th>\n",
       "      <th></th>\n",
       "    </tr>\n",
       "  </thead>\n",
       "  <tbody>\n",
       "    <tr>\n",
       "      <th>2022</th>\n",
       "      <td>0.0</td>\n",
       "      <td>NaN</td>\n",
       "      <td>inf</td>\n",
       "      <td>inf</td>\n",
       "      <td>inf</td>\n",
       "      <td>inf</td>\n",
       "      <td>inf</td>\n",
       "      <td>inf</td>\n",
       "      <td>inf</td>\n",
       "      <td>inf</td>\n",
       "      <td>inf</td>\n",
       "      <td>inf</td>\n",
       "      <td>21.417062</td>\n",
       "      <td>inf</td>\n",
       "      <td>inf</td>\n",
       "      <td>inf</td>\n",
       "      <td>inf</td>\n",
       "      <td>inf</td>\n",
       "    </tr>\n",
       "    <tr>\n",
       "      <th>2023</th>\n",
       "      <td>inf</td>\n",
       "      <td>NaN</td>\n",
       "      <td>0.0</td>\n",
       "      <td>0.0</td>\n",
       "      <td>0.0</td>\n",
       "      <td>0.0</td>\n",
       "      <td>0.0</td>\n",
       "      <td>0.0</td>\n",
       "      <td>0.0</td>\n",
       "      <td>0.0</td>\n",
       "      <td>0.0</td>\n",
       "      <td>0.0</td>\n",
       "      <td>18.432000</td>\n",
       "      <td>inf</td>\n",
       "      <td>inf</td>\n",
       "      <td>inf</td>\n",
       "      <td>inf</td>\n",
       "      <td>0.0</td>\n",
       "    </tr>\n",
       "    <tr>\n",
       "      <th>2024</th>\n",
       "      <td>0.0</td>\n",
       "      <td>NaN</td>\n",
       "      <td>0.0</td>\n",
       "      <td>0.0</td>\n",
       "      <td>0.0</td>\n",
       "      <td>0.0</td>\n",
       "      <td>0.0</td>\n",
       "      <td>0.0</td>\n",
       "      <td>0.0</td>\n",
       "      <td>0.0</td>\n",
       "      <td>0.0</td>\n",
       "      <td>0.0</td>\n",
       "      <td>15.142384</td>\n",
       "      <td>inf</td>\n",
       "      <td>inf</td>\n",
       "      <td>inf</td>\n",
       "      <td>inf</td>\n",
       "      <td>inf</td>\n",
       "    </tr>\n",
       "    <tr>\n",
       "      <th>2025</th>\n",
       "      <td>0.0</td>\n",
       "      <td>NaN</td>\n",
       "      <td>0.0</td>\n",
       "      <td>0.0</td>\n",
       "      <td>0.0</td>\n",
       "      <td>0.0</td>\n",
       "      <td>0.0</td>\n",
       "      <td>0.0</td>\n",
       "      <td>0.0</td>\n",
       "      <td>0.0</td>\n",
       "      <td>0.0</td>\n",
       "      <td>0.0</td>\n",
       "      <td>14.706564</td>\n",
       "      <td>inf</td>\n",
       "      <td>inf</td>\n",
       "      <td>inf</td>\n",
       "      <td>inf</td>\n",
       "      <td>inf</td>\n",
       "    </tr>\n",
       "  </tbody>\n",
       "</table>\n",
       "</div>"
      ],
      "text/plain": [
       "           DOTAÇĂO  EXERCICIO  TIPO_CREDITO  DESC_TIPO_CREDITO  \\\n",
       "EXERCICIO                                                        \n",
       "2022           0.0        NaN           inf                inf   \n",
       "2023           inf        NaN           0.0                0.0   \n",
       "2024           0.0        NaN           0.0                0.0   \n",
       "2025           0.0        NaN           0.0                0.0   \n",
       "\n",
       "           COD_EX_FONT_REC  DESC_EX_FONT_REC  COD_DSTN_REC  TXT_DSTN_REC  \\\n",
       "EXERCICIO                                                                  \n",
       "2022                   inf               inf           inf           inf   \n",
       "2023                   0.0               0.0           0.0           0.0   \n",
       "2024                   0.0               0.0           0.0           0.0   \n",
       "2025                   0.0               0.0           0.0           0.0   \n",
       "\n",
       "           COD_VINC_REC_PMSP  TXT_VINC_PMSP  COD_FONT_RDZD_REC  \\\n",
       "EXERCICIO                                                        \n",
       "2022                     inf            inf                inf   \n",
       "2023                     0.0            0.0                0.0   \n",
       "2024                     0.0            0.0                0.0   \n",
       "2025                     0.0            0.0                0.0   \n",
       "\n",
       "           TXT_FONT_RDZD_REC  COD_NRO_EMND_DOTA  AGENDA  DESC_AGENDA  EIXO  \\\n",
       "EXERCICIO                                                                    \n",
       "2022                     inf          21.417062     inf          inf   inf   \n",
       "2023                     0.0          18.432000     inf          inf   inf   \n",
       "2024                     0.0          15.142384     inf          inf   inf   \n",
       "2025                     0.0          14.706564     inf          inf   inf   \n",
       "\n",
       "           DESC_EIXO  DOTAÇÃO  \n",
       "EXERCICIO                      \n",
       "2022             inf      inf  \n",
       "2023             inf      0.0  \n",
       "2024             inf      inf  \n",
       "2025             inf      inf  "
      ]
     },
     "execution_count": 10,
     "metadata": {},
     "output_type": "execute_result"
    }
   ],
   "source": [
    "missing_values_percent[cols]"
   ]
  },
  {
   "cell_type": "code",
   "execution_count": 11,
   "id": "2ea4745f",
   "metadata": {},
   "outputs": [],
   "source": [
    "cols_year = {year: set([col for col in df_loa if missing_values_percent.loc[year, col] < 100\n",
    "            or pd.isnull(missing_values_percent.loc[year, col])\n",
    "            ]) for year in range(2022,2026)}"
   ]
  },
  {
   "cell_type": "code",
   "execution_count": 12,
   "id": "81a23176",
   "metadata": {},
   "outputs": [
    {
     "name": "stdout",
     "output_type": "stream",
     "text": [
      "Colunas especificas do ano: 2025 set()\n",
      "Colunas especificas do ano: 2025 {'DOTAÇÃO'}\n",
      "Colunas especificas do ano: 2025 set()\n",
      "Colunas especificas do ano: 2025 set()\n"
     ]
    }
   ],
   "source": [
    "for curr_year, cols_that_year in cols_year.items():\n",
    "    \n",
    "    cols_other_years=set()\n",
    "    for year in cols_year:\n",
    "        if year!= curr_year: cols_other_years.update(cols_year[year])\n",
    "\n",
    "    print(f'Colunas especificas do ano: {year}', cols_that_year-cols_other_years)"
   ]
  },
  {
   "cell_type": "code",
   "execution_count": 13,
   "id": "3b978f02",
   "metadata": {},
   "outputs": [
    {
     "name": "stdout",
     "output_type": "stream",
     "text": [
      "Coluna ADMINISTRACAO está presente em todos os anos\n",
      "Coluna AGENDA não está presente no ano 2022\n",
      "Coluna COD_DSTN_REC não está presente no ano 2022\n",
      "Coluna COD_EX_FONT_REC não está presente no ano 2022\n",
      "Coluna COD_FONT_RDZD_REC não está presente no ano 2022\n",
      "Coluna COD_NRO_EMND_DOTA está presente em todos os anos\n",
      "Coluna COD_VINC_REC_PMSP não está presente no ano 2022\n",
      "Coluna CTA_DESPESA está presente em todos os anos\n",
      "Coluna DESC_AGENDA não está presente no ano 2022\n",
      "Coluna DESC_CTA_DESPESA está presente em todos os anos\n",
      "Coluna DESC_EIXO não está presente no ano 2022\n",
      "Coluna DESC_EX_FONT_REC não está presente no ano 2022\n",
      "Coluna DESC_FONTE está presente em todos os anos\n",
      "Coluna DESC_FUNCAO está presente em todos os anos\n",
      "Coluna DESC_ORGAO está presente em todos os anos\n",
      "Coluna DESC_PROGRAMA está presente em todos os anos\n",
      "Coluna DESC_PROJ_ATIV está presente em todos os anos\n",
      "Coluna DESC_SUBFUNCAO está presente em todos os anos\n",
      "Coluna DESC_TIPO_CREDITO não está presente no ano 2022\n",
      "Coluna DESC_UNIDADE está presente em todos os anos\n",
      "Coluna DOTAÇÃO não está presente no ano 2022\n",
      "Coluna DOTAÇĂO não está presente no ano 2023\n",
      "Coluna EIXO não está presente no ano 2022\n",
      "Coluna EXERCICIO está presente em todos os anos\n",
      "Coluna EXERCICIO_EMPRESA está presente em todos os anos\n",
      "Coluna FONTE está presente em todos os anos\n",
      "Coluna FUNCAO está presente em todos os anos\n",
      "Coluna IND_AGDA_ETGC está presente em todos os anos\n",
      "Coluna ORGAO está presente em todos os anos\n",
      "Coluna PAPA está presente em todos os anos\n",
      "Coluna PPA está presente em todos os anos\n",
      "Coluna PROGRAMA está presente em todos os anos\n",
      "Coluna PROJ_ATIV está presente em todos os anos\n",
      "Coluna SALDO_ORÇ está presente em todos os anos\n",
      "Coluna SUBFUNCAO está presente em todos os anos\n",
      "Coluna TIPO_CREDITO não está presente no ano 2022\n",
      "Coluna TXT_DSTN_REC não está presente no ano 2022\n",
      "Coluna TXT_FONT_RDZD_REC não está presente no ano 2022\n",
      "Coluna TXT_VINC_PMSP não está presente no ano 2022\n",
      "Coluna UNIDADE está presente em todos os anos\n"
     ]
    }
   ],
   "source": [
    "cols_comuns = []\n",
    "for col in missing_values_percent.columns:\n",
    "    for year, cols_that_year in cols_year.items():\n",
    "        if col not in cols_that_year:\n",
    "            print(f'Coluna {col} não está presente no ano {year}')\n",
    "            break\n",
    "    else:\n",
    "        print(f'Coluna {col} está presente em todos os anos')\n",
    "        cols_comuns.append(col)"
   ]
  },
  {
   "cell_type": "markdown",
   "id": "74f6bc17",
   "metadata": {},
   "source": [
    "Conclui-se que há uma alteração no schema dos dados a partir de 2024, sendo que 2023 tem algumas das colunas que passam a aparecer em 2024. 2022 tem apenas uma coluna, \"DOTACAO\", que não aparece nos demais. A partir de 2024, as alterações nas colunas são conhecidas, pois devem-se ao novo padrão para registro detalhado das fontes das dotações."
   ]
  },
  {
   "cell_type": "code",
   "execution_count": 14,
   "id": "5047c19c",
   "metadata": {},
   "outputs": [],
   "source": [
    "cols_comuns = set(cols_comuns)"
   ]
  },
  {
   "cell_type": "code",
   "execution_count": 15,
   "id": "62ee189e",
   "metadata": {},
   "outputs": [
    {
     "data": {
      "text/plain": [
       "{'COD_DSTN_REC',\n",
       " 'COD_EX_FONT_REC',\n",
       " 'COD_FONT_RDZD_REC',\n",
       " 'COD_VINC_REC_PMSP',\n",
       " 'DESC_EX_FONT_REC',\n",
       " 'DESC_TIPO_CREDITO',\n",
       " 'DOTAÇĂO',\n",
       " 'TIPO_CREDITO',\n",
       " 'TXT_DSTN_REC',\n",
       " 'TXT_FONT_RDZD_REC',\n",
       " 'TXT_VINC_PMSP'}"
      ]
     },
     "execution_count": 15,
     "metadata": {},
     "output_type": "execute_result"
    }
   ],
   "source": [
    "cols_year[2025].difference(cols_comuns)"
   ]
  },
  {
   "cell_type": "code",
   "execution_count": 16,
   "id": "03fcf337",
   "metadata": {},
   "outputs": [
    {
     "data": {
      "text/plain": [
       "{'COD_DSTN_REC',\n",
       " 'COD_EX_FONT_REC',\n",
       " 'COD_FONT_RDZD_REC',\n",
       " 'COD_VINC_REC_PMSP',\n",
       " 'DESC_EX_FONT_REC',\n",
       " 'DESC_TIPO_CREDITO',\n",
       " 'DOTAÇĂO',\n",
       " 'TIPO_CREDITO',\n",
       " 'TXT_DSTN_REC',\n",
       " 'TXT_FONT_RDZD_REC',\n",
       " 'TXT_VINC_PMSP'}"
      ]
     },
     "execution_count": 16,
     "metadata": {},
     "output_type": "execute_result"
    }
   ],
   "source": [
    "cols_year[2024].difference(cols_comuns)"
   ]
  },
  {
   "cell_type": "code",
   "execution_count": 17,
   "id": "7a87707c",
   "metadata": {},
   "outputs": [
    {
     "data": {
      "text/plain": [
       "{'COD_DSTN_REC',\n",
       " 'COD_EX_FONT_REC',\n",
       " 'COD_FONT_RDZD_REC',\n",
       " 'COD_VINC_REC_PMSP',\n",
       " 'DESC_EX_FONT_REC',\n",
       " 'DESC_TIPO_CREDITO',\n",
       " 'DOTAÇÃO',\n",
       " 'TIPO_CREDITO',\n",
       " 'TXT_DSTN_REC',\n",
       " 'TXT_FONT_RDZD_REC',\n",
       " 'TXT_VINC_PMSP'}"
      ]
     },
     "execution_count": 17,
     "metadata": {},
     "output_type": "execute_result"
    }
   ],
   "source": [
    "cols_year[2023].difference(cols_comuns)"
   ]
  },
  {
   "cell_type": "code",
   "execution_count": 18,
   "id": "5cb47c2b",
   "metadata": {},
   "outputs": [
    {
     "data": {
      "text/plain": [
       "{'DOTAÇĂO'}"
      ]
     },
     "execution_count": 18,
     "metadata": {},
     "output_type": "execute_result"
    }
   ],
   "source": [
    "cols_year[2022].difference(cols_comuns)"
   ]
  },
  {
   "cell_type": "code",
   "execution_count": 19,
   "id": "92acb4bb",
   "metadata": {},
   "outputs": [
    {
     "data": {
      "text/plain": [
       "{'ADMINISTRACAO',\n",
       " 'COD_NRO_EMND_DOTA',\n",
       " 'CTA_DESPESA',\n",
       " 'DESC_CTA_DESPESA',\n",
       " 'DESC_FONTE',\n",
       " 'DESC_FUNCAO',\n",
       " 'DESC_ORGAO',\n",
       " 'DESC_PROGRAMA',\n",
       " 'DESC_PROJ_ATIV',\n",
       " 'DESC_SUBFUNCAO',\n",
       " 'DESC_UNIDADE',\n",
       " 'EXERCICIO',\n",
       " 'EXERCICIO_EMPRESA',\n",
       " 'FONTE',\n",
       " 'FUNCAO',\n",
       " 'IND_AGDA_ETGC',\n",
       " 'ORGAO',\n",
       " 'PAPA',\n",
       " 'PPA',\n",
       " 'PROGRAMA',\n",
       " 'PROJ_ATIV',\n",
       " 'SALDO_ORÇ',\n",
       " 'SUBFUNCAO',\n",
       " 'UNIDADE'}"
      ]
     },
     "execution_count": 19,
     "metadata": {},
     "output_type": "execute_result"
    }
   ],
   "source": [
    "cols_comuns"
   ]
  },
  {
   "cell_type": "markdown",
   "id": "5fc25e75",
   "metadata": {},
   "source": [
    "Precisamos unificar e padronizar as colunas, mas vamos fazê-lo apenas para aquelas que fazem sentido para a análise, tentando manter principalmente as colunas que são comuns para todos os anos"
   ]
  },
  {
   "cell_type": "code",
   "execution_count": 20,
   "id": "110682f4",
   "metadata": {},
   "outputs": [],
   "source": [
    "colunas_padronizado = {\n",
    "    'EXERCICIO' : 'exercicio',\n",
    "    'COD_NRO_EMND_DOTA' : 'cod_emenda',\n",
    "    'ADMINISTRACAO' : 'direta_ou_indireta',\n",
    "    'ORGAO' : 'cod_orgao',\n",
    "    'UNIDADE' : 'cod_unidade',\n",
    "    'PROGRAMA' : 'cod_programa',\n",
    "    'FUNCAO' : 'cod_funcao',\n",
    "    'SUBFUNCAO' : 'cod_subfuncao',\n",
    "    'PROJ_ATIV'  : 'cod_proj_atividade',\n",
    "    'FONTE' : 'cod_fonte',\n",
    "    'DESC_ORGAO' : 'desc_orgao',\n",
    "    'DESC_UNIDADE' : 'desc_unidade',\n",
    "    'DESC_PROGRAMA' : 'desc_programa',\n",
    "    'DESC_FUNCAO' : 'desc_funcao',\n",
    "    'DESC_SUBFUNCAO' : 'desc_subfuncao',\n",
    "    'DESC_PROJ_ATIV' : 'desc_proj_atividade',\n",
    "    'DESC_FONTE' : 'desc_fonte',\n",
    "    'SALDO_ORÇ' : 'valor_orcado'\n",
    "    }"
   ]
  },
  {
   "cell_type": "code",
   "execution_count": 21,
   "id": "bd161de9",
   "metadata": {},
   "outputs": [],
   "source": [
    "cols_interesse = [col for col in colunas_padronizado.keys()]\n",
    "\n",
    "df_loa = df_loa[cols_interesse].copy()\n",
    "df_loa.rename(columns=colunas_padronizado, inplace=True)"
   ]
  },
  {
   "cell_type": "code",
   "execution_count": 22,
   "id": "76f4c908",
   "metadata": {},
   "outputs": [
    {
     "data": {
      "text/html": [
       "<div>\n",
       "<style scoped>\n",
       "    .dataframe tbody tr th:only-of-type {\n",
       "        vertical-align: middle;\n",
       "    }\n",
       "\n",
       "    .dataframe tbody tr th {\n",
       "        vertical-align: top;\n",
       "    }\n",
       "\n",
       "    .dataframe thead th {\n",
       "        text-align: right;\n",
       "    }\n",
       "</style>\n",
       "<table border=\"1\" class=\"dataframe\">\n",
       "  <thead>\n",
       "    <tr style=\"text-align: right;\">\n",
       "      <th></th>\n",
       "      <th>exercicio</th>\n",
       "      <th>cod_emenda</th>\n",
       "      <th>direta_ou_indireta</th>\n",
       "      <th>cod_orgao</th>\n",
       "      <th>cod_unidade</th>\n",
       "      <th>cod_programa</th>\n",
       "      <th>cod_funcao</th>\n",
       "      <th>cod_subfuncao</th>\n",
       "      <th>cod_proj_atividade</th>\n",
       "      <th>cod_fonte</th>\n",
       "      <th>desc_orgao</th>\n",
       "      <th>desc_unidade</th>\n",
       "      <th>desc_programa</th>\n",
       "      <th>desc_funcao</th>\n",
       "      <th>desc_subfuncao</th>\n",
       "      <th>desc_proj_atividade</th>\n",
       "      <th>desc_fonte</th>\n",
       "      <th>valor_orcado</th>\n",
       "    </tr>\n",
       "  </thead>\n",
       "  <tbody>\n",
       "    <tr>\n",
       "      <th>0</th>\n",
       "      <td>2025</td>\n",
       "      <td>NaN</td>\n",
       "      <td>Administraçăo Direta</td>\n",
       "      <td>84</td>\n",
       "      <td>10</td>\n",
       "      <td>3003</td>\n",
       "      <td>10</td>\n",
       "      <td>304</td>\n",
       "      <td>2522</td>\n",
       "      <td>2</td>\n",
       "      <td>Fundo Municipal de Saúde</td>\n",
       "      <td>Fundo Municipal de Saúde</td>\n",
       "      <td>Açőes e Serviços da Saúde em Atençăo Básica, E...</td>\n",
       "      <td>Saúde</td>\n",
       "      <td>Vigilância Sanitária</td>\n",
       "      <td>Manutençăo e Operaçăo de Vigilância em Saúde</td>\n",
       "      <td>Transferęncias Federais</td>\n",
       "      <td>76700000</td>\n",
       "    </tr>\n",
       "    <tr>\n",
       "      <th>1</th>\n",
       "      <td>2025</td>\n",
       "      <td>NaN</td>\n",
       "      <td>Administraçăo Direta</td>\n",
       "      <td>94</td>\n",
       "      <td>10</td>\n",
       "      <td>3005</td>\n",
       "      <td>18</td>\n",
       "      <td>541</td>\n",
       "      <td>7117</td>\n",
       "      <td>8</td>\n",
       "      <td>Fundo Especial do Meio Ambiente e Desenvolvime...</td>\n",
       "      <td>Fundo Especial do Meio Ambiente e Desenvolvime...</td>\n",
       "      <td>Promoçăo da Sustentabilidade Ambiental</td>\n",
       "      <td>Gestăo Ambiental</td>\n",
       "      <td>Preservaçăo e Conservaçăo Ambiental</td>\n",
       "      <td>Recuperaçăo de áreas degradadas e/ou contaminadas</td>\n",
       "      <td>Tesouro Municipal - Recursos Vinculados</td>\n",
       "      <td>310000</td>\n",
       "    </tr>\n",
       "    <tr>\n",
       "      <th>2</th>\n",
       "      <td>2025</td>\n",
       "      <td>NaN</td>\n",
       "      <td>Administraçăo Direta</td>\n",
       "      <td>94</td>\n",
       "      <td>10</td>\n",
       "      <td>3005</td>\n",
       "      <td>18</td>\n",
       "      <td>541</td>\n",
       "      <td>7117</td>\n",
       "      <td>8</td>\n",
       "      <td>Fundo Especial do Meio Ambiente e Desenvolvime...</td>\n",
       "      <td>Fundo Especial do Meio Ambiente e Desenvolvime...</td>\n",
       "      <td>Promoçăo da Sustentabilidade Ambiental</td>\n",
       "      <td>Gestăo Ambiental</td>\n",
       "      <td>Preservaçăo e Conservaçăo Ambiental</td>\n",
       "      <td>Recuperaçăo de áreas degradadas e/ou contaminadas</td>\n",
       "      <td>Tesouro Municipal - Recursos Vinculados</td>\n",
       "      <td>400000</td>\n",
       "    </tr>\n",
       "    <tr>\n",
       "      <th>3</th>\n",
       "      <td>2025</td>\n",
       "      <td>NaN</td>\n",
       "      <td>Administraçăo Direta</td>\n",
       "      <td>20</td>\n",
       "      <td>50</td>\n",
       "      <td>3009</td>\n",
       "      <td>26</td>\n",
       "      <td>453</td>\n",
       "      <td>1800</td>\n",
       "      <td>1</td>\n",
       "      <td>Secretaria Municipal de Mobilidade e Trânsito</td>\n",
       "      <td>Secretaria Executiva de Transporte e Mobilidad...</td>\n",
       "      <td>Melhoria da Mobilidade Urbana Universal</td>\n",
       "      <td>Transporte</td>\n",
       "      <td>Transportes Coletivos Urbanos</td>\n",
       "      <td>Eletrificaçăo da frota de veículos do Sistema ...</td>\n",
       "      <td>Operaçőes de Crédito</td>\n",
       "      <td>7071768</td>\n",
       "    </tr>\n",
       "    <tr>\n",
       "      <th>4</th>\n",
       "      <td>2025</td>\n",
       "      <td>NaN</td>\n",
       "      <td>Administraçăo Direta</td>\n",
       "      <td>20</td>\n",
       "      <td>50</td>\n",
       "      <td>3009</td>\n",
       "      <td>26</td>\n",
       "      <td>453</td>\n",
       "      <td>1800</td>\n",
       "      <td>1</td>\n",
       "      <td>Secretaria Municipal de Mobilidade e Trânsito</td>\n",
       "      <td>Secretaria Executiva de Transporte e Mobilidad...</td>\n",
       "      <td>Melhoria da Mobilidade Urbana Universal</td>\n",
       "      <td>Transporte</td>\n",
       "      <td>Transportes Coletivos Urbanos</td>\n",
       "      <td>Eletrificaçăo da frota de veículos do Sistema ...</td>\n",
       "      <td>Operaçőes de Crédito</td>\n",
       "      <td>19229040</td>\n",
       "    </tr>\n",
       "  </tbody>\n",
       "</table>\n",
       "</div>"
      ],
      "text/plain": [
       "   exercicio  cod_emenda    direta_ou_indireta  cod_orgao  cod_unidade  \\\n",
       "0       2025         NaN  Administraçăo Direta         84           10   \n",
       "1       2025         NaN  Administraçăo Direta         94           10   \n",
       "2       2025         NaN  Administraçăo Direta         94           10   \n",
       "3       2025         NaN  Administraçăo Direta         20           50   \n",
       "4       2025         NaN  Administraçăo Direta         20           50   \n",
       "\n",
       "   cod_programa  cod_funcao  cod_subfuncao  cod_proj_atividade  cod_fonte  \\\n",
       "0          3003          10            304                2522          2   \n",
       "1          3005          18            541                7117          8   \n",
       "2          3005          18            541                7117          8   \n",
       "3          3009          26            453                1800          1   \n",
       "4          3009          26            453                1800          1   \n",
       "\n",
       "                                          desc_orgao  \\\n",
       "0                           Fundo Municipal de Saúde   \n",
       "1  Fundo Especial do Meio Ambiente e Desenvolvime...   \n",
       "2  Fundo Especial do Meio Ambiente e Desenvolvime...   \n",
       "3      Secretaria Municipal de Mobilidade e Trânsito   \n",
       "4      Secretaria Municipal de Mobilidade e Trânsito   \n",
       "\n",
       "                                        desc_unidade  \\\n",
       "0                           Fundo Municipal de Saúde   \n",
       "1  Fundo Especial do Meio Ambiente e Desenvolvime...   \n",
       "2  Fundo Especial do Meio Ambiente e Desenvolvime...   \n",
       "3  Secretaria Executiva de Transporte e Mobilidad...   \n",
       "4  Secretaria Executiva de Transporte e Mobilidad...   \n",
       "\n",
       "                                       desc_programa       desc_funcao  \\\n",
       "0  Açőes e Serviços da Saúde em Atençăo Básica, E...             Saúde   \n",
       "1             Promoçăo da Sustentabilidade Ambiental  Gestăo Ambiental   \n",
       "2             Promoçăo da Sustentabilidade Ambiental  Gestăo Ambiental   \n",
       "3            Melhoria da Mobilidade Urbana Universal        Transporte   \n",
       "4            Melhoria da Mobilidade Urbana Universal        Transporte   \n",
       "\n",
       "                        desc_subfuncao  \\\n",
       "0                 Vigilância Sanitária   \n",
       "1  Preservaçăo e Conservaçăo Ambiental   \n",
       "2  Preservaçăo e Conservaçăo Ambiental   \n",
       "3        Transportes Coletivos Urbanos   \n",
       "4        Transportes Coletivos Urbanos   \n",
       "\n",
       "                                 desc_proj_atividade  \\\n",
       "0       Manutençăo e Operaçăo de Vigilância em Saúde   \n",
       "1  Recuperaçăo de áreas degradadas e/ou contaminadas   \n",
       "2  Recuperaçăo de áreas degradadas e/ou contaminadas   \n",
       "3  Eletrificaçăo da frota de veículos do Sistema ...   \n",
       "4  Eletrificaçăo da frota de veículos do Sistema ...   \n",
       "\n",
       "                                desc_fonte  valor_orcado  \n",
       "0                  Transferęncias Federais      76700000  \n",
       "1  Tesouro Municipal - Recursos Vinculados        310000  \n",
       "2  Tesouro Municipal - Recursos Vinculados        400000  \n",
       "3                     Operaçőes de Crédito       7071768  \n",
       "4                     Operaçőes de Crédito      19229040  "
      ]
     },
     "execution_count": 22,
     "metadata": {},
     "output_type": "execute_result"
    }
   ],
   "source": [
    "df_loa.head()"
   ]
  },
  {
   "cell_type": "markdown",
   "id": "639314dd",
   "metadata": {},
   "source": [
    "### criando colunas de index"
   ]
  },
  {
   "cell_type": "code",
   "execution_count": 23,
   "id": "5577fb35",
   "metadata": {},
   "outputs": [
    {
     "name": "stdout",
     "output_type": "stream",
     "text": [
      "exercicio False\n",
      "cod_orgao False\n",
      "cod_unidade False\n",
      "cod_proj_atividade False\n"
     ]
    }
   ],
   "source": [
    "for col in ['exercicio', 'cod_orgao', 'cod_unidade', 'cod_proj_atividade']:\n",
    "    print(col, df_loa[col].isnull().any())"
   ]
  },
  {
   "cell_type": "code",
   "execution_count": 24,
   "id": "cb150017",
   "metadata": {},
   "outputs": [],
   "source": [
    "def fill_zeros(df:pd.DataFrame, col:str, num_zeros:int)->None:\n",
    "    \"\"\"\n",
    "    Fills NaN values in the specified column of the DataFrame with zeros.\n",
    "\n",
    "    Args:\n",
    "        df (pd.DataFrame): The DataFrame to modify.\n",
    "        col (str): The column name to fill with zeros.\n",
    "    \"\"\"\n",
    "    df[col] = df[col].astype(int).astype(str)\n",
    "    df[col] = df[col].str.zfill(num_zeros)\n",
    "\n",
    "    print(col, df[col].str.len().unique())"
   ]
  },
  {
   "cell_type": "code",
   "execution_count": 25,
   "id": "b8f0a41b",
   "metadata": {},
   "outputs": [
    {
     "name": "stdout",
     "output_type": "stream",
     "text": [
      "exercicio [4]\n",
      "cod_orgao [2]\n",
      "cod_unidade [2]\n",
      "cod_proj_atividade [4]\n"
     ]
    }
   ],
   "source": [
    "fill_zeros(df_loa, 'exercicio', 4)\n",
    "fill_zeros(df_loa, 'cod_orgao', 2)\n",
    "fill_zeros(df_loa, 'cod_unidade', 2)\n",
    "fill_zeros(df_loa, 'cod_proj_atividade', 4)"
   ]
  },
  {
   "cell_type": "code",
   "execution_count": 26,
   "id": "393f0540",
   "metadata": {},
   "outputs": [],
   "source": [
    "df_loa['index'] = df_loa[['exercicio', 'cod_orgao', 'cod_unidade', 'cod_proj_atividade']].astype(str).agg('.'.join, axis=1)"
   ]
  },
  {
   "cell_type": "code",
   "execution_count": 27,
   "id": "f857cb08",
   "metadata": {},
   "outputs": [
    {
     "data": {
      "text/plain": [
       "1099     2025.84.10.2519\n",
       "13335    2023.23.10.6028\n",
       "5077     2024.84.10.9106\n",
       "Name: index, dtype: object"
      ]
     },
     "execution_count": 27,
     "metadata": {},
     "output_type": "execute_result"
    }
   ],
   "source": [
    "df_loa['index'].sample(3)"
   ]
  },
  {
   "cell_type": "markdown",
   "id": "cced9d58",
   "metadata": {},
   "source": [
    "O índice tem duplicadas, mas tudo bem. Ele não pode ter duplicadas na outra base, que identifica os parlamentares."
   ]
  },
  {
   "cell_type": "code",
   "execution_count": 28,
   "id": "fd3e53c2",
   "metadata": {},
   "outputs": [
    {
     "data": {
      "text/plain": [
       "np.True_"
      ]
     },
     "execution_count": 28,
     "metadata": {},
     "output_type": "execute_result"
    }
   ],
   "source": [
    "df_loa['index'].duplicated().any()"
   ]
  },
  {
   "cell_type": "code",
   "execution_count": 29,
   "id": "aeaa0436",
   "metadata": {},
   "outputs": [
    {
     "data": {
      "text/plain": [
       "np.int64(10469)"
      ]
     },
     "execution_count": 29,
     "metadata": {},
     "output_type": "execute_result"
    }
   ],
   "source": [
    "df_loa['index'].duplicated().sum()"
   ]
  },
  {
   "cell_type": "markdown",
   "id": "645c0e40",
   "metadata": {},
   "source": [
    "### criando coluna de tratamento e avaliando"
   ]
  },
  {
   "cell_type": "code",
   "execution_count": 30,
   "id": "a92b942b",
   "metadata": {},
   "outputs": [],
   "source": [
    "df_loa['is_emenda'] = df_loa['cod_emenda'].notnull()"
   ]
  },
  {
   "cell_type": "code",
   "execution_count": 31,
   "id": "84236fb3",
   "metadata": {},
   "outputs": [
    {
     "data": {
      "text/plain": [
       "np.float64(0.0551508283416977)"
      ]
     },
     "execution_count": 31,
     "metadata": {},
     "output_type": "execute_result"
    }
   ],
   "source": [
    "df_loa['is_emenda'].mean()"
   ]
  },
  {
   "cell_type": "code",
   "execution_count": 32,
   "id": "87208932",
   "metadata": {},
   "outputs": [
    {
     "data": {
      "text/plain": [
       "np.int64(1022)"
      ]
     },
     "execution_count": 32,
     "metadata": {},
     "output_type": "execute_result"
    }
   ],
   "source": [
    "df_loa['is_emenda'].sum()"
   ]
  },
  {
   "cell_type": "code",
   "execution_count": 33,
   "id": "ee37f63f",
   "metadata": {},
   "outputs": [
    {
     "data": {
      "text/plain": [
       "exercicio\n",
       "2022    211\n",
       "2023    250\n",
       "2024    302\n",
       "2025    259\n",
       "Name: is_emenda, dtype: int64"
      ]
     },
     "execution_count": 33,
     "metadata": {},
     "output_type": "execute_result"
    }
   ],
   "source": [
    "emenda_count_per_year = df_loa.groupby('exercicio')['is_emenda'].sum()\n",
    "emenda_count_per_year"
   ]
  },
  {
   "cell_type": "code",
   "execution_count": 34,
   "id": "103bf3eb",
   "metadata": {},
   "outputs": [
    {
     "data": {
      "text/plain": [
       "exercicio\n",
       "2022    0.044609\n",
       "2023    0.051462\n",
       "2024    0.061949\n",
       "2025    0.063668\n",
       "Name: is_emenda, dtype: float64"
      ]
     },
     "execution_count": 34,
     "metadata": {},
     "output_type": "execute_result"
    }
   ],
   "source": [
    "emenda_percent_per_year = df_loa.groupby('exercicio')['is_emenda'].mean()\n",
    "emenda_percent_per_year"
   ]
  },
  {
   "cell_type": "code",
   "execution_count": null,
   "id": "3cca9280",
   "metadata": {},
   "outputs": [
    {
     "name": "stderr",
     "output_type": "stream",
     "text": [
      "/tmp/ipykernel_295932/730940610.py:22: FutureWarning:\n",
      "\n",
      "Series.__getitem__ treating keys as positions is deprecated. In a future version, integer keys will always be treated as labels (consistent with DataFrame behavior). To access a value by position, use `ser.iloc[pos]`\n",
      "\n"
     ]
    },
    {
     "data": {
      "application/vnd.plotly.v1+json": {
       "config": {
        "plotlyServerURL": "https://plot.ly"
       },
       "data": [
        {
         "marker": {
          "color": "blue"
         },
         "name": "Quantidade de Emendas",
         "type": "bar",
         "x": {
          "bdata": "5gfnB+gH6Qc=",
          "dtype": "i2"
         },
         "y": {
          "bdata": "0wD6AC4BAwE=",
          "dtype": "i2"
         }
        }
       ],
       "layout": {
        "annotations": [
         {
          "font": {
           "color": "black",
           "size": 12
          },
          "showarrow": false,
          "text": "4.46%",
          "x": 2022,
          "y": 211,
          "yshift": 10
         },
         {
          "font": {
           "color": "black",
           "size": 12
          },
          "showarrow": false,
          "text": "5.15%",
          "x": 2023,
          "y": 250,
          "yshift": 10
         },
         {
          "font": {
           "color": "black",
           "size": 12
          },
          "showarrow": false,
          "text": "6.19%",
          "x": 2024,
          "y": 302,
          "yshift": 10
         },
         {
          "font": {
           "color": "black",
           "size": 12
          },
          "showarrow": false,
          "text": "6.37%",
          "x": 2025,
          "y": 259,
          "yshift": 10
         }
        ],
        "barmode": "group",
        "legend": {
         "title": {
          "text": "Métricas"
         }
        },
        "template": {
         "data": {
          "bar": [
           {
            "error_x": {
             "color": "#2a3f5f"
            },
            "error_y": {
             "color": "#2a3f5f"
            },
            "marker": {
             "line": {
              "color": "white",
              "width": 0.5
             },
             "pattern": {
              "fillmode": "overlay",
              "size": 10,
              "solidity": 0.2
             }
            },
            "type": "bar"
           }
          ],
          "barpolar": [
           {
            "marker": {
             "line": {
              "color": "white",
              "width": 0.5
             },
             "pattern": {
              "fillmode": "overlay",
              "size": 10,
              "solidity": 0.2
             }
            },
            "type": "barpolar"
           }
          ],
          "carpet": [
           {
            "aaxis": {
             "endlinecolor": "#2a3f5f",
             "gridcolor": "#C8D4E3",
             "linecolor": "#C8D4E3",
             "minorgridcolor": "#C8D4E3",
             "startlinecolor": "#2a3f5f"
            },
            "baxis": {
             "endlinecolor": "#2a3f5f",
             "gridcolor": "#C8D4E3",
             "linecolor": "#C8D4E3",
             "minorgridcolor": "#C8D4E3",
             "startlinecolor": "#2a3f5f"
            },
            "type": "carpet"
           }
          ],
          "choropleth": [
           {
            "colorbar": {
             "outlinewidth": 0,
             "ticks": ""
            },
            "type": "choropleth"
           }
          ],
          "contour": [
           {
            "colorbar": {
             "outlinewidth": 0,
             "ticks": ""
            },
            "colorscale": [
             [
              0,
              "#0d0887"
             ],
             [
              0.1111111111111111,
              "#46039f"
             ],
             [
              0.2222222222222222,
              "#7201a8"
             ],
             [
              0.3333333333333333,
              "#9c179e"
             ],
             [
              0.4444444444444444,
              "#bd3786"
             ],
             [
              0.5555555555555556,
              "#d8576b"
             ],
             [
              0.6666666666666666,
              "#ed7953"
             ],
             [
              0.7777777777777778,
              "#fb9f3a"
             ],
             [
              0.8888888888888888,
              "#fdca26"
             ],
             [
              1,
              "#f0f921"
             ]
            ],
            "type": "contour"
           }
          ],
          "contourcarpet": [
           {
            "colorbar": {
             "outlinewidth": 0,
             "ticks": ""
            },
            "type": "contourcarpet"
           }
          ],
          "heatmap": [
           {
            "colorbar": {
             "outlinewidth": 0,
             "ticks": ""
            },
            "colorscale": [
             [
              0,
              "#0d0887"
             ],
             [
              0.1111111111111111,
              "#46039f"
             ],
             [
              0.2222222222222222,
              "#7201a8"
             ],
             [
              0.3333333333333333,
              "#9c179e"
             ],
             [
              0.4444444444444444,
              "#bd3786"
             ],
             [
              0.5555555555555556,
              "#d8576b"
             ],
             [
              0.6666666666666666,
              "#ed7953"
             ],
             [
              0.7777777777777778,
              "#fb9f3a"
             ],
             [
              0.8888888888888888,
              "#fdca26"
             ],
             [
              1,
              "#f0f921"
             ]
            ],
            "type": "heatmap"
           }
          ],
          "histogram": [
           {
            "marker": {
             "pattern": {
              "fillmode": "overlay",
              "size": 10,
              "solidity": 0.2
             }
            },
            "type": "histogram"
           }
          ],
          "histogram2d": [
           {
            "colorbar": {
             "outlinewidth": 0,
             "ticks": ""
            },
            "colorscale": [
             [
              0,
              "#0d0887"
             ],
             [
              0.1111111111111111,
              "#46039f"
             ],
             [
              0.2222222222222222,
              "#7201a8"
             ],
             [
              0.3333333333333333,
              "#9c179e"
             ],
             [
              0.4444444444444444,
              "#bd3786"
             ],
             [
              0.5555555555555556,
              "#d8576b"
             ],
             [
              0.6666666666666666,
              "#ed7953"
             ],
             [
              0.7777777777777778,
              "#fb9f3a"
             ],
             [
              0.8888888888888888,
              "#fdca26"
             ],
             [
              1,
              "#f0f921"
             ]
            ],
            "type": "histogram2d"
           }
          ],
          "histogram2dcontour": [
           {
            "colorbar": {
             "outlinewidth": 0,
             "ticks": ""
            },
            "colorscale": [
             [
              0,
              "#0d0887"
             ],
             [
              0.1111111111111111,
              "#46039f"
             ],
             [
              0.2222222222222222,
              "#7201a8"
             ],
             [
              0.3333333333333333,
              "#9c179e"
             ],
             [
              0.4444444444444444,
              "#bd3786"
             ],
             [
              0.5555555555555556,
              "#d8576b"
             ],
             [
              0.6666666666666666,
              "#ed7953"
             ],
             [
              0.7777777777777778,
              "#fb9f3a"
             ],
             [
              0.8888888888888888,
              "#fdca26"
             ],
             [
              1,
              "#f0f921"
             ]
            ],
            "type": "histogram2dcontour"
           }
          ],
          "mesh3d": [
           {
            "colorbar": {
             "outlinewidth": 0,
             "ticks": ""
            },
            "type": "mesh3d"
           }
          ],
          "parcoords": [
           {
            "line": {
             "colorbar": {
              "outlinewidth": 0,
              "ticks": ""
             }
            },
            "type": "parcoords"
           }
          ],
          "pie": [
           {
            "automargin": true,
            "type": "pie"
           }
          ],
          "scatter": [
           {
            "fillpattern": {
             "fillmode": "overlay",
             "size": 10,
             "solidity": 0.2
            },
            "type": "scatter"
           }
          ],
          "scatter3d": [
           {
            "line": {
             "colorbar": {
              "outlinewidth": 0,
              "ticks": ""
             }
            },
            "marker": {
             "colorbar": {
              "outlinewidth": 0,
              "ticks": ""
             }
            },
            "type": "scatter3d"
           }
          ],
          "scattercarpet": [
           {
            "marker": {
             "colorbar": {
              "outlinewidth": 0,
              "ticks": ""
             }
            },
            "type": "scattercarpet"
           }
          ],
          "scattergeo": [
           {
            "marker": {
             "colorbar": {
              "outlinewidth": 0,
              "ticks": ""
             }
            },
            "type": "scattergeo"
           }
          ],
          "scattergl": [
           {
            "marker": {
             "colorbar": {
              "outlinewidth": 0,
              "ticks": ""
             }
            },
            "type": "scattergl"
           }
          ],
          "scattermap": [
           {
            "marker": {
             "colorbar": {
              "outlinewidth": 0,
              "ticks": ""
             }
            },
            "type": "scattermap"
           }
          ],
          "scattermapbox": [
           {
            "marker": {
             "colorbar": {
              "outlinewidth": 0,
              "ticks": ""
             }
            },
            "type": "scattermapbox"
           }
          ],
          "scatterpolar": [
           {
            "marker": {
             "colorbar": {
              "outlinewidth": 0,
              "ticks": ""
             }
            },
            "type": "scatterpolar"
           }
          ],
          "scatterpolargl": [
           {
            "marker": {
             "colorbar": {
              "outlinewidth": 0,
              "ticks": ""
             }
            },
            "type": "scatterpolargl"
           }
          ],
          "scatterternary": [
           {
            "marker": {
             "colorbar": {
              "outlinewidth": 0,
              "ticks": ""
             }
            },
            "type": "scatterternary"
           }
          ],
          "surface": [
           {
            "colorbar": {
             "outlinewidth": 0,
             "ticks": ""
            },
            "colorscale": [
             [
              0,
              "#0d0887"
             ],
             [
              0.1111111111111111,
              "#46039f"
             ],
             [
              0.2222222222222222,
              "#7201a8"
             ],
             [
              0.3333333333333333,
              "#9c179e"
             ],
             [
              0.4444444444444444,
              "#bd3786"
             ],
             [
              0.5555555555555556,
              "#d8576b"
             ],
             [
              0.6666666666666666,
              "#ed7953"
             ],
             [
              0.7777777777777778,
              "#fb9f3a"
             ],
             [
              0.8888888888888888,
              "#fdca26"
             ],
             [
              1,
              "#f0f921"
             ]
            ],
            "type": "surface"
           }
          ],
          "table": [
           {
            "cells": {
             "fill": {
              "color": "#EBF0F8"
             },
             "line": {
              "color": "white"
             }
            },
            "header": {
             "fill": {
              "color": "#C8D4E3"
             },
             "line": {
              "color": "white"
             }
            },
            "type": "table"
           }
          ]
         },
         "layout": {
          "annotationdefaults": {
           "arrowcolor": "#2a3f5f",
           "arrowhead": 0,
           "arrowwidth": 1
          },
          "autotypenumbers": "strict",
          "coloraxis": {
           "colorbar": {
            "outlinewidth": 0,
            "ticks": ""
           }
          },
          "colorscale": {
           "diverging": [
            [
             0,
             "#8e0152"
            ],
            [
             0.1,
             "#c51b7d"
            ],
            [
             0.2,
             "#de77ae"
            ],
            [
             0.3,
             "#f1b6da"
            ],
            [
             0.4,
             "#fde0ef"
            ],
            [
             0.5,
             "#f7f7f7"
            ],
            [
             0.6,
             "#e6f5d0"
            ],
            [
             0.7,
             "#b8e186"
            ],
            [
             0.8,
             "#7fbc41"
            ],
            [
             0.9,
             "#4d9221"
            ],
            [
             1,
             "#276419"
            ]
           ],
           "sequential": [
            [
             0,
             "#0d0887"
            ],
            [
             0.1111111111111111,
             "#46039f"
            ],
            [
             0.2222222222222222,
             "#7201a8"
            ],
            [
             0.3333333333333333,
             "#9c179e"
            ],
            [
             0.4444444444444444,
             "#bd3786"
            ],
            [
             0.5555555555555556,
             "#d8576b"
            ],
            [
             0.6666666666666666,
             "#ed7953"
            ],
            [
             0.7777777777777778,
             "#fb9f3a"
            ],
            [
             0.8888888888888888,
             "#fdca26"
            ],
            [
             1,
             "#f0f921"
            ]
           ],
           "sequentialminus": [
            [
             0,
             "#0d0887"
            ],
            [
             0.1111111111111111,
             "#46039f"
            ],
            [
             0.2222222222222222,
             "#7201a8"
            ],
            [
             0.3333333333333333,
             "#9c179e"
            ],
            [
             0.4444444444444444,
             "#bd3786"
            ],
            [
             0.5555555555555556,
             "#d8576b"
            ],
            [
             0.6666666666666666,
             "#ed7953"
            ],
            [
             0.7777777777777778,
             "#fb9f3a"
            ],
            [
             0.8888888888888888,
             "#fdca26"
            ],
            [
             1,
             "#f0f921"
            ]
           ]
          },
          "colorway": [
           "#636efa",
           "#EF553B",
           "#00cc96",
           "#ab63fa",
           "#FFA15A",
           "#19d3f3",
           "#FF6692",
           "#B6E880",
           "#FF97FF",
           "#FECB52"
          ],
          "font": {
           "color": "#2a3f5f"
          },
          "geo": {
           "bgcolor": "white",
           "lakecolor": "white",
           "landcolor": "white",
           "showlakes": true,
           "showland": true,
           "subunitcolor": "#C8D4E3"
          },
          "hoverlabel": {
           "align": "left"
          },
          "hovermode": "closest",
          "mapbox": {
           "style": "light"
          },
          "paper_bgcolor": "white",
          "plot_bgcolor": "white",
          "polar": {
           "angularaxis": {
            "gridcolor": "#EBF0F8",
            "linecolor": "#EBF0F8",
            "ticks": ""
           },
           "bgcolor": "white",
           "radialaxis": {
            "gridcolor": "#EBF0F8",
            "linecolor": "#EBF0F8",
            "ticks": ""
           }
          },
          "scene": {
           "xaxis": {
            "backgroundcolor": "white",
            "gridcolor": "#DFE8F3",
            "gridwidth": 2,
            "linecolor": "#EBF0F8",
            "showbackground": true,
            "ticks": "",
            "zerolinecolor": "#EBF0F8"
           },
           "yaxis": {
            "backgroundcolor": "white",
            "gridcolor": "#DFE8F3",
            "gridwidth": 2,
            "linecolor": "#EBF0F8",
            "showbackground": true,
            "ticks": "",
            "zerolinecolor": "#EBF0F8"
           },
           "zaxis": {
            "backgroundcolor": "white",
            "gridcolor": "#DFE8F3",
            "gridwidth": 2,
            "linecolor": "#EBF0F8",
            "showbackground": true,
            "ticks": "",
            "zerolinecolor": "#EBF0F8"
           }
          },
          "shapedefaults": {
           "line": {
            "color": "#2a3f5f"
           }
          },
          "ternary": {
           "aaxis": {
            "gridcolor": "#DFE8F3",
            "linecolor": "#A2B1C6",
            "ticks": ""
           },
           "baxis": {
            "gridcolor": "#DFE8F3",
            "linecolor": "#A2B1C6",
            "ticks": ""
           },
           "bgcolor": "white",
           "caxis": {
            "gridcolor": "#DFE8F3",
            "linecolor": "#A2B1C6",
            "ticks": ""
           }
          },
          "title": {
           "x": 0.05
          },
          "xaxis": {
           "automargin": true,
           "gridcolor": "#EBF0F8",
           "linecolor": "#EBF0F8",
           "ticks": "",
           "title": {
            "standoff": 15
           },
           "zerolinecolor": "#EBF0F8",
           "zerolinewidth": 2
          },
          "yaxis": {
           "automargin": true,
           "gridcolor": "#EBF0F8",
           "linecolor": "#EBF0F8",
           "ticks": "",
           "title": {
            "standoff": 15
           },
           "zerolinecolor": "#EBF0F8",
           "zerolinewidth": 2
          }
         }
        },
        "title": {
         "text": "Evolução da Quantidade e Percentual de Emendas por Ano"
        },
        "xaxis": {
         "ticktext": [
          "2022",
          "2023",
          "2024",
          "2025"
         ],
         "tickvals": {
          "bdata": "5gfnB+gH6Qc=",
          "dtype": "i2"
         },
         "title": {
          "text": "Ano"
         }
        },
        "yaxis": {
         "title": {
          "text": "Valores"
         }
        }
       }
      }
     },
     "metadata": {},
     "output_type": "display_data"
    }
   ],
   "source": [
    "\n",
    "# Dados para o gráfico\n",
    "anos = emenda_count_per_year.index.astype(int)\n",
    "quantidade_emendas = emenda_count_per_year.values\n",
    "percentual_emendas = emenda_percent_per_year.values * 100  # Converter para porcentagem\n",
    "\n",
    "# Criar o gráfico\n",
    "fig = go.Figure()\n",
    "\n",
    "# Adicionar barras para a quantidade de emendas\n",
    "fig.add_trace(go.Bar(\n",
    "    x=anos,\n",
    "    y=quantidade_emendas,\n",
    "    name='Quantidade de Emendas',\n",
    "    marker_color='blue'\n",
    "))\n",
    "\n",
    "# Adicionar anotações para o percentual em cada barra\n",
    "i = 0\n",
    "for ano, percentual in zip(anos, percentual_emendas):\n",
    "    fig.add_annotation(\n",
    "        x=ano,\n",
    "        y=emenda_count_per_year[i],\n",
    "        text=f'{percentual:.2f}%',\n",
    "        showarrow=False,\n",
    "        font=dict(size=12, color='black'),\n",
    "        yshift=10  # Ajustar a posição vertical da anotação\n",
    "    )\n",
    "    i+=1\n",
    "\n",
    "# Configurar layout\n",
    "fig.update_layout(\n",
    "    title='Evolução da Quantidade e Percentual de Emendas por Ano',\n",
    "    xaxis = dict(\n",
    "        title='Ano',\n",
    "        tickvals=anos,  # Define os valores dos ticks no eixo x\n",
    "        ticktext=[str(ano) for ano in anos]  # Define os rótulos dos ticks\n",
    "    ),\n",
    "    yaxis_title='Valores',\n",
    "    barmode='group',\n",
    "    legend_title='Métricas',\n",
    "    template='plotly_white'\n",
    ")\n",
    "\n",
    "fig.write_image(os.path.join(GRAFICOS_FOLDER, 'qtd_emendas_ano.png'))\n",
    "\n",
    "# Mostrar o gráfico\n",
    "fig.show()"
   ]
  },
  {
   "cell_type": "markdown",
   "id": "cea29067",
   "metadata": {},
   "source": [
    "### padronizada final"
   ]
  },
  {
   "cell_type": "code",
   "execution_count": null,
   "id": "a4bb6404",
   "metadata": {},
   "outputs": [
    {
     "data": {
      "text/plain": [
       "exercicio               object\n",
       "cod_emenda             float64\n",
       "direta_ou_indireta      object\n",
       "cod_orgao               object\n",
       "cod_unidade             object\n",
       "cod_programa             int64\n",
       "cod_funcao               int64\n",
       "cod_subfuncao            int64\n",
       "cod_proj_atividade      object\n",
       "cod_fonte                int64\n",
       "desc_orgao              object\n",
       "desc_unidade            object\n",
       "desc_programa           object\n",
       "desc_funcao             object\n",
       "desc_subfuncao          object\n",
       "desc_proj_atividade     object\n",
       "desc_fonte              object\n",
       "valor_orcado             int64\n",
       "index                   object\n",
       "is_emenda                 bool\n",
       "dtype: object"
      ]
     },
     "execution_count": 36,
     "metadata": {},
     "output_type": "execute_result"
    }
   ],
   "source": [
    "df_loa.dtypes"
   ]
  },
  {
   "cell_type": "code",
   "execution_count": null,
   "id": "af2a1b6e",
   "metadata": {},
   "outputs": [],
   "source": [
    "for col in df_loa.columns:\n",
    "    if col.startswith('cod'):\n",
    "        df_loa[col] = df_loa[col].fillna('').astype(str)"
   ]
  },
  {
   "cell_type": "code",
   "execution_count": null,
   "id": "31162e7c",
   "metadata": {},
   "outputs": [
    {
     "data": {
      "text/plain": [
       "exercicio              object\n",
       "cod_emenda             object\n",
       "direta_ou_indireta     object\n",
       "cod_orgao              object\n",
       "cod_unidade            object\n",
       "cod_programa           object\n",
       "cod_funcao             object\n",
       "cod_subfuncao          object\n",
       "cod_proj_atividade     object\n",
       "cod_fonte              object\n",
       "desc_orgao             object\n",
       "desc_unidade           object\n",
       "desc_programa          object\n",
       "desc_funcao            object\n",
       "desc_subfuncao         object\n",
       "desc_proj_atividade    object\n",
       "desc_fonte             object\n",
       "valor_orcado            int64\n",
       "index                  object\n",
       "is_emenda                bool\n",
       "dtype: object"
      ]
     },
     "execution_count": 38,
     "metadata": {},
     "output_type": "execute_result"
    }
   ],
   "source": [
    "df_loa.dtypes"
   ]
  },
  {
   "cell_type": "code",
   "execution_count": null,
   "id": "9dfa872e",
   "metadata": {},
   "outputs": [
    {
     "data": {
      "text/html": [
       "<div>\n",
       "<style scoped>\n",
       "    .dataframe tbody tr th:only-of-type {\n",
       "        vertical-align: middle;\n",
       "    }\n",
       "\n",
       "    .dataframe tbody tr th {\n",
       "        vertical-align: top;\n",
       "    }\n",
       "\n",
       "    .dataframe thead th {\n",
       "        text-align: right;\n",
       "    }\n",
       "</style>\n",
       "<table border=\"1\" class=\"dataframe\">\n",
       "  <thead>\n",
       "    <tr style=\"text-align: right;\">\n",
       "      <th></th>\n",
       "      <th>valor_orcado</th>\n",
       "    </tr>\n",
       "  </thead>\n",
       "  <tbody>\n",
       "    <tr>\n",
       "      <th>count</th>\n",
       "      <td>1.853100e+04</td>\n",
       "    </tr>\n",
       "    <tr>\n",
       "      <th>mean</th>\n",
       "      <td>2.245671e+07</td>\n",
       "    </tr>\n",
       "    <tr>\n",
       "      <th>std</th>\n",
       "      <td>2.090448e+08</td>\n",
       "    </tr>\n",
       "    <tr>\n",
       "      <th>min</th>\n",
       "      <td>0.000000e+00</td>\n",
       "    </tr>\n",
       "    <tr>\n",
       "      <th>25%</th>\n",
       "      <td>5.000000e+03</td>\n",
       "    </tr>\n",
       "    <tr>\n",
       "      <th>50%</th>\n",
       "      <td>2.000000e+05</td>\n",
       "    </tr>\n",
       "    <tr>\n",
       "      <th>75%</th>\n",
       "      <td>2.624757e+06</td>\n",
       "    </tr>\n",
       "    <tr>\n",
       "      <th>max</th>\n",
       "      <td>7.115266e+09</td>\n",
       "    </tr>\n",
       "  </tbody>\n",
       "</table>\n",
       "</div>"
      ],
      "text/plain": [
       "       valor_orcado\n",
       "count  1.853100e+04\n",
       "mean   2.245671e+07\n",
       "std    2.090448e+08\n",
       "min    0.000000e+00\n",
       "25%    5.000000e+03\n",
       "50%    2.000000e+05\n",
       "75%    2.624757e+06\n",
       "max    7.115266e+09"
      ]
     },
     "execution_count": 39,
     "metadata": {},
     "output_type": "execute_result"
    }
   ],
   "source": [
    "df_loa.describe()"
   ]
  },
  {
   "cell_type": "code",
   "execution_count": null,
   "id": "9f4f85af",
   "metadata": {},
   "outputs": [],
   "source": [
    "df_loa.to_csv(os.path.join(DATA_FOLDER, 'df_loa.csv'), index=False, sep=';')"
   ]
  },
  {
   "cell_type": "code",
   "execution_count": null,
   "id": "df73d85a",
   "metadata": {
    "vscode": {
     "languageId": "shellscript"
    }
   },
   "outputs": [
    {
     "name": "stdout",
     "output_type": "stream",
     "text": [
      "/home/h-pgy/projects/artigo_regionalizacao_emendas/venv/bin/python\n"
     ]
    }
   ],
   "source": [
    "!which python"
   ]
  }
 ],
 "metadata": {
  "kernelspec": {
   "display_name": "venv",
   "language": "python",
   "name": "python3"
  },
  "language_info": {
   "codemirror_mode": {
    "name": "ipython",
    "version": 3
   },
   "file_extension": ".py",
   "mimetype": "text/x-python",
   "name": "python",
   "nbconvert_exporter": "python",
   "pygments_lexer": "ipython3",
   "version": "3.13.3"
  }
 },
 "nbformat": 4,
 "nbformat_minor": 5
}
