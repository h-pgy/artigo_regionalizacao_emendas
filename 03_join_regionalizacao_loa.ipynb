{
 "cells": [
  {
   "cell_type": "markdown",
   "id": "b0ac5066",
   "metadata": {},
   "source": [
    "## Join Regionalização LOA\n",
    "\n",
    "Neste notebook fazemos o join dos datasets gerados nos notebooks 1 e 2.\n",
    "\n",
    "Esse join é realizado apenas para as dotações da LOA que representam emendas de vereador."
   ]
  },
  {
   "cell_type": "code",
   "execution_count": 1,
   "id": "a2c109e2",
   "metadata": {},
   "outputs": [],
   "source": [
    "import pandas as pd\n",
    "import os\n",
    "\n",
    "from config import DATA_FOLDER"
   ]
  },
  {
   "cell_type": "markdown",
   "id": "288b838e",
   "metadata": {},
   "source": [
    "## carregar dados"
   ]
  },
  {
   "cell_type": "code",
   "execution_count": 2,
   "id": "9d3eef4a",
   "metadata": {},
   "outputs": [],
   "source": [
    "df_loa = pd.read_csv(os.path.join(DATA_FOLDER, 'df_loa.csv'), low_memory=False, sep=';')\n",
    "df_da = pd.read_csv(os.path.join(DATA_FOLDER, 'df_da.csv'), low_memory=False, sep=';')"
   ]
  },
  {
   "cell_type": "code",
   "execution_count": 3,
   "id": "d34295d7",
   "metadata": {},
   "outputs": [
    {
     "data": {
      "text/html": [
       "<div>\n",
       "<style scoped>\n",
       "    .dataframe tbody tr th:only-of-type {\n",
       "        vertical-align: middle;\n",
       "    }\n",
       "\n",
       "    .dataframe tbody tr th {\n",
       "        vertical-align: top;\n",
       "    }\n",
       "\n",
       "    .dataframe thead th {\n",
       "        text-align: right;\n",
       "    }\n",
       "</style>\n",
       "<table border=\"1\" class=\"dataframe\">\n",
       "  <thead>\n",
       "    <tr style=\"text-align: right;\">\n",
       "      <th></th>\n",
       "      <th>exercicio</th>\n",
       "      <th>cod_emenda</th>\n",
       "      <th>direta_ou_indireta</th>\n",
       "      <th>cod_orgao</th>\n",
       "      <th>cod_unidade</th>\n",
       "      <th>cod_programa</th>\n",
       "      <th>cod_funcao</th>\n",
       "      <th>cod_subfuncao</th>\n",
       "      <th>cod_proj_atividade</th>\n",
       "      <th>cod_fonte</th>\n",
       "      <th>desc_orgao</th>\n",
       "      <th>desc_unidade</th>\n",
       "      <th>desc_programa</th>\n",
       "      <th>desc_funcao</th>\n",
       "      <th>desc_subfuncao</th>\n",
       "      <th>desc_proj_atividade</th>\n",
       "      <th>desc_fonte</th>\n",
       "      <th>valor_orcado</th>\n",
       "      <th>index</th>\n",
       "      <th>is_emenda</th>\n",
       "    </tr>\n",
       "  </thead>\n",
       "  <tbody>\n",
       "    <tr>\n",
       "      <th>0</th>\n",
       "      <td>2025</td>\n",
       "      <td>NaN</td>\n",
       "      <td>Administraçăo Direta</td>\n",
       "      <td>84</td>\n",
       "      <td>10</td>\n",
       "      <td>3003</td>\n",
       "      <td>10</td>\n",
       "      <td>304</td>\n",
       "      <td>2522</td>\n",
       "      <td>2</td>\n",
       "      <td>Fundo Municipal de Saúde</td>\n",
       "      <td>Fundo Municipal de Saúde</td>\n",
       "      <td>Açőes e Serviços da Saúde em Atençăo Básica, E...</td>\n",
       "      <td>Saúde</td>\n",
       "      <td>Vigilância Sanitária</td>\n",
       "      <td>Manutençăo e Operaçăo de Vigilância em Saúde</td>\n",
       "      <td>Transferęncias Federais</td>\n",
       "      <td>76700000</td>\n",
       "      <td>2025.84.10.2522</td>\n",
       "      <td>False</td>\n",
       "    </tr>\n",
       "    <tr>\n",
       "      <th>1</th>\n",
       "      <td>2025</td>\n",
       "      <td>NaN</td>\n",
       "      <td>Administraçăo Direta</td>\n",
       "      <td>94</td>\n",
       "      <td>10</td>\n",
       "      <td>3005</td>\n",
       "      <td>18</td>\n",
       "      <td>541</td>\n",
       "      <td>7117</td>\n",
       "      <td>8</td>\n",
       "      <td>Fundo Especial do Meio Ambiente e Desenvolvime...</td>\n",
       "      <td>Fundo Especial do Meio Ambiente e Desenvolvime...</td>\n",
       "      <td>Promoçăo da Sustentabilidade Ambiental</td>\n",
       "      <td>Gestăo Ambiental</td>\n",
       "      <td>Preservaçăo e Conservaçăo Ambiental</td>\n",
       "      <td>Recuperaçăo de áreas degradadas e/ou contaminadas</td>\n",
       "      <td>Tesouro Municipal - Recursos Vinculados</td>\n",
       "      <td>310000</td>\n",
       "      <td>2025.94.10.7117</td>\n",
       "      <td>False</td>\n",
       "    </tr>\n",
       "    <tr>\n",
       "      <th>2</th>\n",
       "      <td>2025</td>\n",
       "      <td>NaN</td>\n",
       "      <td>Administraçăo Direta</td>\n",
       "      <td>94</td>\n",
       "      <td>10</td>\n",
       "      <td>3005</td>\n",
       "      <td>18</td>\n",
       "      <td>541</td>\n",
       "      <td>7117</td>\n",
       "      <td>8</td>\n",
       "      <td>Fundo Especial do Meio Ambiente e Desenvolvime...</td>\n",
       "      <td>Fundo Especial do Meio Ambiente e Desenvolvime...</td>\n",
       "      <td>Promoçăo da Sustentabilidade Ambiental</td>\n",
       "      <td>Gestăo Ambiental</td>\n",
       "      <td>Preservaçăo e Conservaçăo Ambiental</td>\n",
       "      <td>Recuperaçăo de áreas degradadas e/ou contaminadas</td>\n",
       "      <td>Tesouro Municipal - Recursos Vinculados</td>\n",
       "      <td>400000</td>\n",
       "      <td>2025.94.10.7117</td>\n",
       "      <td>False</td>\n",
       "    </tr>\n",
       "    <tr>\n",
       "      <th>3</th>\n",
       "      <td>2025</td>\n",
       "      <td>NaN</td>\n",
       "      <td>Administraçăo Direta</td>\n",
       "      <td>20</td>\n",
       "      <td>50</td>\n",
       "      <td>3009</td>\n",
       "      <td>26</td>\n",
       "      <td>453</td>\n",
       "      <td>1800</td>\n",
       "      <td>1</td>\n",
       "      <td>Secretaria Municipal de Mobilidade e Trânsito</td>\n",
       "      <td>Secretaria Executiva de Transporte e Mobilidad...</td>\n",
       "      <td>Melhoria da Mobilidade Urbana Universal</td>\n",
       "      <td>Transporte</td>\n",
       "      <td>Transportes Coletivos Urbanos</td>\n",
       "      <td>Eletrificaçăo da frota de veículos do Sistema ...</td>\n",
       "      <td>Operaçőes de Crédito</td>\n",
       "      <td>7071768</td>\n",
       "      <td>2025.20.50.1800</td>\n",
       "      <td>False</td>\n",
       "    </tr>\n",
       "    <tr>\n",
       "      <th>4</th>\n",
       "      <td>2025</td>\n",
       "      <td>NaN</td>\n",
       "      <td>Administraçăo Direta</td>\n",
       "      <td>20</td>\n",
       "      <td>50</td>\n",
       "      <td>3009</td>\n",
       "      <td>26</td>\n",
       "      <td>453</td>\n",
       "      <td>1800</td>\n",
       "      <td>1</td>\n",
       "      <td>Secretaria Municipal de Mobilidade e Trânsito</td>\n",
       "      <td>Secretaria Executiva de Transporte e Mobilidad...</td>\n",
       "      <td>Melhoria da Mobilidade Urbana Universal</td>\n",
       "      <td>Transporte</td>\n",
       "      <td>Transportes Coletivos Urbanos</td>\n",
       "      <td>Eletrificaçăo da frota de veículos do Sistema ...</td>\n",
       "      <td>Operaçőes de Crédito</td>\n",
       "      <td>19229040</td>\n",
       "      <td>2025.20.50.1800</td>\n",
       "      <td>False</td>\n",
       "    </tr>\n",
       "  </tbody>\n",
       "</table>\n",
       "</div>"
      ],
      "text/plain": [
       "   exercicio  cod_emenda    direta_ou_indireta  cod_orgao  cod_unidade  \\\n",
       "0       2025         NaN  Administraçăo Direta         84           10   \n",
       "1       2025         NaN  Administraçăo Direta         94           10   \n",
       "2       2025         NaN  Administraçăo Direta         94           10   \n",
       "3       2025         NaN  Administraçăo Direta         20           50   \n",
       "4       2025         NaN  Administraçăo Direta         20           50   \n",
       "\n",
       "   cod_programa  cod_funcao  cod_subfuncao  cod_proj_atividade  cod_fonte  \\\n",
       "0          3003          10            304                2522          2   \n",
       "1          3005          18            541                7117          8   \n",
       "2          3005          18            541                7117          8   \n",
       "3          3009          26            453                1800          1   \n",
       "4          3009          26            453                1800          1   \n",
       "\n",
       "                                          desc_orgao  \\\n",
       "0                           Fundo Municipal de Saúde   \n",
       "1  Fundo Especial do Meio Ambiente e Desenvolvime...   \n",
       "2  Fundo Especial do Meio Ambiente e Desenvolvime...   \n",
       "3      Secretaria Municipal de Mobilidade e Trânsito   \n",
       "4      Secretaria Municipal de Mobilidade e Trânsito   \n",
       "\n",
       "                                        desc_unidade  \\\n",
       "0                           Fundo Municipal de Saúde   \n",
       "1  Fundo Especial do Meio Ambiente e Desenvolvime...   \n",
       "2  Fundo Especial do Meio Ambiente e Desenvolvime...   \n",
       "3  Secretaria Executiva de Transporte e Mobilidad...   \n",
       "4  Secretaria Executiva de Transporte e Mobilidad...   \n",
       "\n",
       "                                       desc_programa       desc_funcao  \\\n",
       "0  Açőes e Serviços da Saúde em Atençăo Básica, E...             Saúde   \n",
       "1             Promoçăo da Sustentabilidade Ambiental  Gestăo Ambiental   \n",
       "2             Promoçăo da Sustentabilidade Ambiental  Gestăo Ambiental   \n",
       "3            Melhoria da Mobilidade Urbana Universal        Transporte   \n",
       "4            Melhoria da Mobilidade Urbana Universal        Transporte   \n",
       "\n",
       "                        desc_subfuncao  \\\n",
       "0                 Vigilância Sanitária   \n",
       "1  Preservaçăo e Conservaçăo Ambiental   \n",
       "2  Preservaçăo e Conservaçăo Ambiental   \n",
       "3        Transportes Coletivos Urbanos   \n",
       "4        Transportes Coletivos Urbanos   \n",
       "\n",
       "                                 desc_proj_atividade  \\\n",
       "0       Manutençăo e Operaçăo de Vigilância em Saúde   \n",
       "1  Recuperaçăo de áreas degradadas e/ou contaminadas   \n",
       "2  Recuperaçăo de áreas degradadas e/ou contaminadas   \n",
       "3  Eletrificaçăo da frota de veículos do Sistema ...   \n",
       "4  Eletrificaçăo da frota de veículos do Sistema ...   \n",
       "\n",
       "                                desc_fonte  valor_orcado            index  \\\n",
       "0                  Transferęncias Federais      76700000  2025.84.10.2522   \n",
       "1  Tesouro Municipal - Recursos Vinculados        310000  2025.94.10.7117   \n",
       "2  Tesouro Municipal - Recursos Vinculados        400000  2025.94.10.7117   \n",
       "3                     Operaçőes de Crédito       7071768  2025.20.50.1800   \n",
       "4                     Operaçőes de Crédito      19229040  2025.20.50.1800   \n",
       "\n",
       "   is_emenda  \n",
       "0      False  \n",
       "1      False  \n",
       "2      False  \n",
       "3      False  \n",
       "4      False  "
      ]
     },
     "execution_count": 3,
     "metadata": {},
     "output_type": "execute_result"
    }
   ],
   "source": [
    "df_loa.head()"
   ]
  },
  {
   "cell_type": "markdown",
   "id": "8a06579e",
   "metadata": {},
   "source": [
    "## Selecionando apenas emendas\n",
    "\n",
    "Ao todo são mil emendas nos 4 anos da legislatura. O  dataset que estamos construindo trabalha apenas com elas."
   ]
  },
  {
   "cell_type": "code",
   "execution_count": 7,
   "id": "d3eb2030",
   "metadata": {},
   "outputs": [
    {
     "data": {
      "text/plain": [
       "np.float64(0.0551508283416977)"
      ]
     },
     "execution_count": 7,
     "metadata": {},
     "output_type": "execute_result"
    }
   ],
   "source": [
    "df_loa['is_emenda'].mean()"
   ]
  },
  {
   "cell_type": "code",
   "execution_count": 9,
   "id": "a6bf2ded",
   "metadata": {},
   "outputs": [
    {
     "data": {
      "text/plain": [
       "np.int64(1022)"
      ]
     },
     "execution_count": 9,
     "metadata": {},
     "output_type": "execute_result"
    }
   ],
   "source": [
    "df_loa['is_emenda'].sum()"
   ]
  },
  {
   "cell_type": "code",
   "execution_count": 10,
   "id": "9b6e8e09",
   "metadata": {},
   "outputs": [],
   "source": [
    "df_loa = df_loa[df_loa['is_emenda']].copy().reset_index(drop=True)"
   ]
  },
  {
   "cell_type": "code",
   "execution_count": 14,
   "id": "13876b92",
   "metadata": {},
   "outputs": [
    {
     "data": {
      "text/plain": [
       "np.True_"
      ]
     },
     "execution_count": 14,
     "metadata": {},
     "output_type": "execute_result"
    }
   ],
   "source": [
    "df_loa['is_emenda'].all()"
   ]
  },
  {
   "cell_type": "code",
   "execution_count": 15,
   "id": "6d65c7d6",
   "metadata": {},
   "outputs": [],
   "source": [
    "df_loa.drop('is_emenda', axis=1, inplace=True)"
   ]
  },
  {
   "cell_type": "code",
   "execution_count": 16,
   "id": "b1718f50",
   "metadata": {},
   "outputs": [
    {
     "data": {
      "text/plain": [
       "np.False_"
      ]
     },
     "execution_count": 16,
     "metadata": {},
     "output_type": "execute_result"
    }
   ],
   "source": [
    "df_loa['cod_emenda'].isnull().any()"
   ]
  },
  {
   "cell_type": "code",
   "execution_count": 17,
   "id": "493a39e3",
   "metadata": {},
   "outputs": [
    {
     "data": {
      "text/plain": [
       "1002      95.0\n",
       "365     3520.0\n",
       "903     1644.0\n",
       "743     6627.0\n",
       "254     3514.0\n",
       "Name: cod_emenda, dtype: float64"
      ]
     },
     "execution_count": 17,
     "metadata": {},
     "output_type": "execute_result"
    }
   ],
   "source": [
    "df_loa['cod_emenda'].sample(5)"
   ]
  },
  {
   "cell_type": "code",
   "execution_count": 18,
   "id": "3dc1c75e",
   "metadata": {},
   "outputs": [],
   "source": [
    "#posso transformar em int agora porque não tem mais NAN\n",
    "df_loa['cod_emenda'] = df_loa['cod_emenda'].astype(int)"
   ]
  },
  {
   "cell_type": "code",
   "execution_count": 13,
   "id": "3d17375e",
   "metadata": {},
   "outputs": [
    {
     "data": {
      "text/plain": [
       "exercicio\n",
       "2022    211\n",
       "2023    250\n",
       "2024    302\n",
       "2025    259\n",
       "Name: cod_emenda, dtype: int64"
      ]
     },
     "execution_count": 13,
     "metadata": {},
     "output_type": "execute_result"
    }
   ],
   "source": [
    "df_loa.groupby('exercicio').count()['cod_emenda']"
   ]
  },
  {
   "cell_type": "markdown",
   "id": "58d4cad5",
   "metadata": {},
   "source": [
    "## Join dataframes\n",
    "\n",
    "Agora vamos fazer join nos dataframes com base nos indices que foram criados.\n",
    "\n",
    "Os dados das emendas (df_loa) ficam na esquerda, e é um left join. Ou seja: estamos buscando as regionalizações das emendas."
   ]
  },
  {
   "cell_type": "code",
   "execution_count": 4,
   "id": "d272b202",
   "metadata": {},
   "outputs": [
    {
     "data": {
      "text/plain": [
       "exercicio                int64\n",
       "cod_emenda             float64\n",
       "direta_ou_indireta      object\n",
       "cod_orgao                int64\n",
       "cod_unidade              int64\n",
       "cod_programa             int64\n",
       "cod_funcao               int64\n",
       "cod_subfuncao            int64\n",
       "cod_proj_atividade       int64\n",
       "cod_fonte                int64\n",
       "desc_orgao              object\n",
       "desc_unidade            object\n",
       "desc_programa           object\n",
       "desc_funcao             object\n",
       "desc_subfuncao          object\n",
       "desc_proj_atividade     object\n",
       "desc_fonte              object\n",
       "valor_orcado             int64\n",
       "index                   object\n",
       "is_emenda                 bool\n",
       "dtype: object"
      ]
     },
     "execution_count": 4,
     "metadata": {},
     "output_type": "execute_result"
    }
   ],
   "source": [
    "df_loa.dtypes"
   ]
  },
  {
   "cell_type": "code",
   "execution_count": 5,
   "id": "ab388534",
   "metadata": {},
   "outputs": [
    {
     "data": {
      "text/plain": [
       "cod_regiao               int64\n",
       "cod_subprefeitura        int64\n",
       "cod_distrito             int64\n",
       "desc_regiao             object\n",
       "desc_subprefeitura      object\n",
       "desc_distrito           object\n",
       "valor_regionalizado    float64\n",
       "index                   object\n",
       "dtype: object"
      ]
     },
     "execution_count": 5,
     "metadata": {},
     "output_type": "execute_result"
    }
   ],
   "source": [
    "df_da.dtypes"
   ]
  },
  {
   "cell_type": "code",
   "execution_count": 19,
   "id": "adf0cd95",
   "metadata": {},
   "outputs": [
    {
     "data": {
      "text/html": [
       "<div>\n",
       "<style scoped>\n",
       "    .dataframe tbody tr th:only-of-type {\n",
       "        vertical-align: middle;\n",
       "    }\n",
       "\n",
       "    .dataframe tbody tr th {\n",
       "        vertical-align: top;\n",
       "    }\n",
       "\n",
       "    .dataframe thead th {\n",
       "        text-align: right;\n",
       "    }\n",
       "</style>\n",
       "<table border=\"1\" class=\"dataframe\">\n",
       "  <thead>\n",
       "    <tr style=\"text-align: right;\">\n",
       "      <th></th>\n",
       "      <th>exercicio</th>\n",
       "      <th>cod_emenda</th>\n",
       "      <th>direta_ou_indireta</th>\n",
       "      <th>cod_orgao</th>\n",
       "      <th>cod_unidade</th>\n",
       "      <th>cod_programa</th>\n",
       "      <th>cod_funcao</th>\n",
       "      <th>cod_subfuncao</th>\n",
       "      <th>cod_proj_atividade</th>\n",
       "      <th>cod_fonte</th>\n",
       "      <th>...</th>\n",
       "      <th>desc_fonte</th>\n",
       "      <th>valor_orcado</th>\n",
       "      <th>index</th>\n",
       "      <th>cod_regiao</th>\n",
       "      <th>cod_subprefeitura</th>\n",
       "      <th>cod_distrito</th>\n",
       "      <th>desc_regiao</th>\n",
       "      <th>desc_subprefeitura</th>\n",
       "      <th>desc_distrito</th>\n",
       "      <th>valor_regionalizado</th>\n",
       "    </tr>\n",
       "  </thead>\n",
       "  <tbody>\n",
       "    <tr>\n",
       "      <th>0</th>\n",
       "      <td>2025</td>\n",
       "      <td>3514</td>\n",
       "      <td>Administraçăo Direta</td>\n",
       "      <td>60</td>\n",
       "      <td>10</td>\n",
       "      <td>3001</td>\n",
       "      <td>13</td>\n",
       "      <td>392</td>\n",
       "      <td>9222</td>\n",
       "      <td>0</td>\n",
       "      <td>...</td>\n",
       "      <td>Tesouro Municipal</td>\n",
       "      <td>1000</td>\n",
       "      <td>2025.60.10.9222</td>\n",
       "      <td>0</td>\n",
       "      <td>0</td>\n",
       "      <td>0</td>\n",
       "      <td>Supra-Regional</td>\n",
       "      <td>Supra Subprefeitura</td>\n",
       "      <td>Supra-Distrital</td>\n",
       "      <td>1000.0</td>\n",
       "    </tr>\n",
       "    <tr>\n",
       "      <th>1</th>\n",
       "      <td>2025</td>\n",
       "      <td>1791</td>\n",
       "      <td>Administraçăo Direta</td>\n",
       "      <td>60</td>\n",
       "      <td>10</td>\n",
       "      <td>3022</td>\n",
       "      <td>15</td>\n",
       "      <td>452</td>\n",
       "      <td>9241</td>\n",
       "      <td>0</td>\n",
       "      <td>...</td>\n",
       "      <td>Tesouro Municipal</td>\n",
       "      <td>2000000</td>\n",
       "      <td>2025.60.10.9241</td>\n",
       "      <td>0</td>\n",
       "      <td>0</td>\n",
       "      <td>0</td>\n",
       "      <td>Supra-Regional</td>\n",
       "      <td>Supra Subprefeitura</td>\n",
       "      <td>Supra-Distrital</td>\n",
       "      <td>2000000.0</td>\n",
       "    </tr>\n",
       "    <tr>\n",
       "      <th>2</th>\n",
       "      <td>2025</td>\n",
       "      <td>3514</td>\n",
       "      <td>Administraçăo Direta</td>\n",
       "      <td>60</td>\n",
       "      <td>10</td>\n",
       "      <td>3017</td>\n",
       "      <td>27</td>\n",
       "      <td>812</td>\n",
       "      <td>9223</td>\n",
       "      <td>0</td>\n",
       "      <td>...</td>\n",
       "      <td>Tesouro Municipal</td>\n",
       "      <td>1000</td>\n",
       "      <td>2025.60.10.9223</td>\n",
       "      <td>0</td>\n",
       "      <td>0</td>\n",
       "      <td>0</td>\n",
       "      <td>Supra-Regional</td>\n",
       "      <td>Supra Subprefeitura</td>\n",
       "      <td>Supra-Distrital</td>\n",
       "      <td>1000.0</td>\n",
       "    </tr>\n",
       "    <tr>\n",
       "      <th>3</th>\n",
       "      <td>2025</td>\n",
       "      <td>3549</td>\n",
       "      <td>Administraçăo Direta</td>\n",
       "      <td>20</td>\n",
       "      <td>10</td>\n",
       "      <td>3009</td>\n",
       "      <td>26</td>\n",
       "      <td>453</td>\n",
       "      <td>9145</td>\n",
       "      <td>0</td>\n",
       "      <td>...</td>\n",
       "      <td>Tesouro Municipal</td>\n",
       "      <td>100000</td>\n",
       "      <td>2025.20.10.9145</td>\n",
       "      <td>0</td>\n",
       "      <td>0</td>\n",
       "      <td>0</td>\n",
       "      <td>Supra-Regional</td>\n",
       "      <td>Supra Subprefeitura</td>\n",
       "      <td>Supra-Distrital</td>\n",
       "      <td>100000.0</td>\n",
       "    </tr>\n",
       "    <tr>\n",
       "      <th>4</th>\n",
       "      <td>2025</td>\n",
       "      <td>3533</td>\n",
       "      <td>Administraçăo Direta</td>\n",
       "      <td>20</td>\n",
       "      <td>10</td>\n",
       "      <td>3009</td>\n",
       "      <td>26</td>\n",
       "      <td>572</td>\n",
       "      <td>9138</td>\n",
       "      <td>0</td>\n",
       "      <td>...</td>\n",
       "      <td>Tesouro Municipal</td>\n",
       "      <td>30000</td>\n",
       "      <td>2025.20.10.9138</td>\n",
       "      <td>0</td>\n",
       "      <td>0</td>\n",
       "      <td>0</td>\n",
       "      <td>Supra-Regional</td>\n",
       "      <td>Supra Subprefeitura</td>\n",
       "      <td>Supra-Distrital</td>\n",
       "      <td>30000.0</td>\n",
       "    </tr>\n",
       "  </tbody>\n",
       "</table>\n",
       "<p>5 rows × 26 columns</p>\n",
       "</div>"
      ],
      "text/plain": [
       "   exercicio  cod_emenda    direta_ou_indireta  cod_orgao  cod_unidade  \\\n",
       "0       2025        3514  Administraçăo Direta         60           10   \n",
       "1       2025        1791  Administraçăo Direta         60           10   \n",
       "2       2025        3514  Administraçăo Direta         60           10   \n",
       "3       2025        3549  Administraçăo Direta         20           10   \n",
       "4       2025        3533  Administraçăo Direta         20           10   \n",
       "\n",
       "   cod_programa  cod_funcao  cod_subfuncao  cod_proj_atividade  cod_fonte  \\\n",
       "0          3001          13            392                9222          0   \n",
       "1          3022          15            452                9241          0   \n",
       "2          3017          27            812                9223          0   \n",
       "3          3009          26            453                9145          0   \n",
       "4          3009          26            572                9138          0   \n",
       "\n",
       "   ...         desc_fonte valor_orcado            index cod_regiao  \\\n",
       "0  ...  Tesouro Municipal         1000  2025.60.10.9222          0   \n",
       "1  ...  Tesouro Municipal      2000000  2025.60.10.9241          0   \n",
       "2  ...  Tesouro Municipal         1000  2025.60.10.9223          0   \n",
       "3  ...  Tesouro Municipal       100000  2025.20.10.9145          0   \n",
       "4  ...  Tesouro Municipal        30000  2025.20.10.9138          0   \n",
       "\n",
       "  cod_subprefeitura cod_distrito     desc_regiao   desc_subprefeitura  \\\n",
       "0                 0            0  Supra-Regional  Supra Subprefeitura   \n",
       "1                 0            0  Supra-Regional  Supra Subprefeitura   \n",
       "2                 0            0  Supra-Regional  Supra Subprefeitura   \n",
       "3                 0            0  Supra-Regional  Supra Subprefeitura   \n",
       "4                 0            0  Supra-Regional  Supra Subprefeitura   \n",
       "\n",
       "     desc_distrito  valor_regionalizado  \n",
       "0  Supra-Distrital               1000.0  \n",
       "1  Supra-Distrital            2000000.0  \n",
       "2  Supra-Distrital               1000.0  \n",
       "3  Supra-Distrital             100000.0  \n",
       "4  Supra-Distrital              30000.0  \n",
       "\n",
       "[5 rows x 26 columns]"
      ]
     },
     "execution_count": 19,
     "metadata": {},
     "output_type": "execute_result"
    }
   ],
   "source": [
    "df_merge = pd.merge(df_loa, df_da, how='left', on='index', suffixes=('', '_da'))\n",
    "df_merge.head()"
   ]
  },
  {
   "cell_type": "code",
   "execution_count": 20,
   "id": "02815175",
   "metadata": {},
   "outputs": [
    {
     "data": {
      "text/plain": [
       "np.False_"
      ]
     },
     "execution_count": 20,
     "metadata": {},
     "output_type": "execute_result"
    }
   ],
   "source": [
    "df_merge['desc_regiao'].isnull().any()"
   ]
  },
  {
   "cell_type": "code",
   "execution_count": 21,
   "id": "421e4a41",
   "metadata": {},
   "outputs": [
    {
     "data": {
      "text/plain": [
       "desc_regiao\n",
       "Supra-Regional    906\n",
       "Sul                76\n",
       "Leste              71\n",
       "Norte              14\n",
       "Oeste               8\n",
       "Centro              2\n",
       "Name: count, dtype: int64"
      ]
     },
     "execution_count": 21,
     "metadata": {},
     "output_type": "execute_result"
    }
   ],
   "source": [
    "df_merge['desc_regiao'].value_counts()"
   ]
  },
  {
   "cell_type": "code",
   "execution_count": 22,
   "id": "9a5401ae",
   "metadata": {},
   "outputs": [],
   "source": [
    "df_merge.to_csv(os.path.join(DATA_FOLDER, 'df_merge_loa_da.csv'), sep=';', index=False)"
   ]
  },
  {
   "cell_type": "code",
   "execution_count": null,
   "id": "d78d2e1f",
   "metadata": {},
   "outputs": [],
   "source": []
  }
 ],
 "metadata": {
  "kernelspec": {
   "display_name": "venv",
   "language": "python",
   "name": "python3"
  },
  "language_info": {
   "codemirror_mode": {
    "name": "ipython",
    "version": 3
   },
   "file_extension": ".py",
   "mimetype": "text/x-python",
   "name": "python",
   "nbconvert_exporter": "python",
   "pygments_lexer": "ipython3",
   "version": "3.13.3"
  }
 },
 "nbformat": 4,
 "nbformat_minor": 5
}
