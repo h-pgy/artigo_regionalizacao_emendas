{
 "cells": [
  {
   "cell_type": "code",
   "execution_count": 25,
   "metadata": {},
   "outputs": [],
   "source": [
    "import pandas as pd\n",
    "import os\n",
    "from typing import Optional\n",
    "from pandas import DataFrame\n"
   ]
  },
  {
   "cell_type": "code",
   "execution_count": 26,
   "metadata": {},
   "outputs": [],
   "source": [
    "from utils import copy_df\n",
    "from config import DATA_FOLDER"
   ]
  },
  {
   "cell_type": "markdown",
   "metadata": {},
   "source": [
    "### Download dos dados da página de orçamento da Prefeitura"
   ]
  },
  {
   "cell_type": "code",
   "execution_count": 27,
   "metadata": {},
   "outputs": [],
   "source": [
    "BASE_URL = 'https://orcamento.sf.prefeitura.sp.gov.br/orcamento/uploads/2024/'"
   ]
  },
  {
   "cell_type": "code",
   "execution_count": 28,
   "metadata": {},
   "outputs": [],
   "source": [
    "def build_url(base_url:str, file:str)->str:\n",
    "\n",
    "    return base_url + file\n",
    "\n",
    "def csv_fpath(fpath:str)->str:\n",
    "\n",
    "    if not fpath.endswith('.csv'):\n",
    "        fpath = fpath+'.csv'\n",
    "    return fpath\n",
    "\n",
    "def save_csv(df:pd.DataFrame, fpath:str, **save_kwargs)->str:\n",
    "\n",
    "    fpath = csv_fpath(fpath)\n",
    "\n",
    "    df.to_csv(fpath, sep=';', index=False, **save_kwargs)\n",
    "\n",
    "    return os.path.abspath(fpath)\n",
    "\n",
    "\n",
    "def load_csv(fpath:str, **read_kwargs)->pd.DataFrame:\n",
    "\n",
    "    if not fpath.endswith('.csv'):\n",
    "        raise ValueError(f'fpath {fpath} is not a csv file')\n",
    "    \n",
    "    return pd.read_csv(fpath, **read_kwargs)\n",
    "\n",
    "\n",
    "def solve_data_file_path(file:str, folder=DATA_FOLDER)->str:\n",
    "\n",
    "    if not os.path.exists(folder):\n",
    "        os.mkdir(folder)\n",
    "\n",
    "    folder = os.path.abspath(folder)\n",
    "\n",
    "    if os.path.dirname(file) == folder:\n",
    "        return file\n",
    "    \n",
    "    return os.path.join(folder, file)\n",
    "\n",
    "\n",
    "def read_file_from_url(file:str, base_url=BASE_URL, **read_kwargs)->pd.DataFrame:\n",
    "\n",
    "    url = build_url(base_url, file)\n",
    "\n",
    "    return pd.read_csv(url, **read_kwargs)\n"
   ]
  },
  {
   "cell_type": "code",
   "execution_count": 29,
   "metadata": {},
   "outputs": [],
   "source": [
    "\n",
    "\n",
    "def cached_download(file:str, folder= DATA_FOLDER, base_url = BASE_URL, \n",
    "                     read_params:Optional[dict]=None, save_params:Optional[dict]=None,\n",
    "                     load_from_url_params:Optional[dict]=None)->pd.DataFrame:\n",
    "\n",
    "    read_params = read_params or {}\n",
    "    save_params = save_params or {}\n",
    "    load_from_url_params = load_from_url_params or {}\n",
    "\n",
    "    filepath = solve_data_file_path(file, folder)\n",
    "\n",
    "    #early return if already saved - only reads\n",
    "    if os.path.exists(filepath) and os.path.isfile(filepath):\n",
    "        print(f'Loading file {file}')\n",
    "        return load_csv(filepath, **read_params)\n",
    "    \n",
    "\n",
    "    df: DataFrame = read_file_from_url(file, base_url=base_url, **load_from_url_params)\n",
    "\n",
    "    save_csv(df, filepath, **save_params)\n",
    "\n",
    "    return df\n"
   ]
  },
  {
   "cell_type": "code",
   "execution_count": 30,
   "metadata": {},
   "outputs": [],
   "source": [
    "file_execucao_2024= 'basedadosexecucao_1224.csv'\n",
    "file_da_2024 = 'basedadosDA_1224.csv'\n"
   ]
  },
  {
   "cell_type": "code",
   "execution_count": 31,
   "metadata": {},
   "outputs": [
    {
     "name": "stdout",
     "output_type": "stream",
     "text": [
      "Loading file basedadosexecucao_1224.csv\n",
      "Loading file basedadosDA_1224.csv\n"
     ]
    },
    {
     "name": "stderr",
     "output_type": "stream",
     "text": [
      "/tmp/ipykernel_114107/3213725603.py:25: DtypeWarning: Columns (27,28,29,30,31) have mixed types. Specify dtype option on import or set low_memory=False.\n",
      "  return pd.read_csv(fpath, **read_kwargs)\n"
     ]
    }
   ],
   "source": [
    "load_from_url_params = {'encoding' : 'latin1', 'sep' : ';'}\n",
    "read_params = {'sep' : ';'}\n",
    "\n",
    "df_execucao: DataFrame = cached_download(file_execucao_2024, \n",
    "                                         load_from_url_params=load_from_url_params,\n",
    "                                         read_params=read_params)\n",
    "\n",
    "\n",
    "df_da: DataFrame = cached_download(file_da_2024, \n",
    "                                         load_from_url_params=load_from_url_params,\n",
    "                                        read_params=read_params)"
   ]
  },
  {
   "cell_type": "markdown",
   "metadata": {},
   "source": [
    "### Execucao Orçamentária"
   ]
  },
  {
   "cell_type": "code",
   "execution_count": 32,
   "metadata": {},
   "outputs": [
    {
     "data": {
      "text/html": [
       "<div>\n",
       "<style scoped>\n",
       "    .dataframe tbody tr th:only-of-type {\n",
       "        vertical-align: middle;\n",
       "    }\n",
       "\n",
       "    .dataframe tbody tr th {\n",
       "        vertical-align: top;\n",
       "    }\n",
       "\n",
       "    .dataframe thead th {\n",
       "        text-align: right;\n",
       "    }\n",
       "</style>\n",
       "<table border=\"1\" class=\"dataframe\">\n",
       "  <thead>\n",
       "    <tr style=\"text-align: right;\">\n",
       "      <th></th>\n",
       "      <th>DataInicial</th>\n",
       "      <th>DataFinal</th>\n",
       "      <th>Cd_AnoExecucao</th>\n",
       "      <th>Cd_Exercicio</th>\n",
       "      <th>Cd_Dotacao_Id</th>\n",
       "      <th>Administracao</th>\n",
       "      <th>Cd_Orgao</th>\n",
       "      <th>Sigla_Orgao</th>\n",
       "      <th>Ds_Orgao</th>\n",
       "      <th>Cd_Unidade</th>\n",
       "      <th>...</th>\n",
       "      <th>Vl_Congelado</th>\n",
       "      <th>Vl_Descongelado</th>\n",
       "      <th>Vl_CongeladoLiquido</th>\n",
       "      <th>Disponivel</th>\n",
       "      <th>Vl_ReservadoLiquido</th>\n",
       "      <th>Vl_EmpenhadoLiquido</th>\n",
       "      <th>Vl_Liquidado</th>\n",
       "      <th>Vl_Pago</th>\n",
       "      <th>Saldo_Dotacao</th>\n",
       "      <th>DataExtracao</th>\n",
       "    </tr>\n",
       "  </thead>\n",
       "  <tbody>\n",
       "    <tr>\n",
       "      <th>0</th>\n",
       "      <td>01/01/2024</td>\n",
       "      <td>31/12/2024</td>\n",
       "      <td>2024</td>\n",
       "      <td>2024</td>\n",
       "      <td>169108</td>\n",
       "      <td>Direta</td>\n",
       "      <td>7</td>\n",
       "      <td>FMD</td>\n",
       "      <td>Fundo Municipal de Desenvolvimento Social</td>\n",
       "      <td>10</td>\n",
       "      <td>...</td>\n",
       "      <td>0</td>\n",
       "      <td>0</td>\n",
       "      <td>0</td>\n",
       "      <td>1000</td>\n",
       "      <td>0</td>\n",
       "      <td>0</td>\n",
       "      <td>0</td>\n",
       "      <td>0</td>\n",
       "      <td>1000</td>\n",
       "      <td>18/01/2025</td>\n",
       "    </tr>\n",
       "    <tr>\n",
       "      <th>1</th>\n",
       "      <td>01/01/2024</td>\n",
       "      <td>31/12/2024</td>\n",
       "      <td>2024</td>\n",
       "      <td>2024</td>\n",
       "      <td>173723</td>\n",
       "      <td>Direta</td>\n",
       "      <td>7</td>\n",
       "      <td>FMD</td>\n",
       "      <td>Fundo Municipal de Desenvolvimento Social</td>\n",
       "      <td>10</td>\n",
       "      <td>...</td>\n",
       "      <td>0</td>\n",
       "      <td>0</td>\n",
       "      <td>0</td>\n",
       "      <td>1317978,6</td>\n",
       "      <td>1314177</td>\n",
       "      <td>1314177</td>\n",
       "      <td>1314177</td>\n",
       "      <td>1314177</td>\n",
       "      <td>3801,6</td>\n",
       "      <td>18/01/2025</td>\n",
       "    </tr>\n",
       "    <tr>\n",
       "      <th>2</th>\n",
       "      <td>01/01/2024</td>\n",
       "      <td>31/12/2024</td>\n",
       "      <td>2024</td>\n",
       "      <td>2024</td>\n",
       "      <td>171046</td>\n",
       "      <td>Direta</td>\n",
       "      <td>7</td>\n",
       "      <td>FMD</td>\n",
       "      <td>Fundo Municipal de Desenvolvimento Social</td>\n",
       "      <td>10</td>\n",
       "      <td>...</td>\n",
       "      <td>0</td>\n",
       "      <td>0</td>\n",
       "      <td>0</td>\n",
       "      <td>3131324,4</td>\n",
       "      <td>3131324,4</td>\n",
       "      <td>3131324,4</td>\n",
       "      <td>2940879,9</td>\n",
       "      <td>2791266,85</td>\n",
       "      <td>0</td>\n",
       "      <td>18/01/2025</td>\n",
       "    </tr>\n",
       "    <tr>\n",
       "      <th>3</th>\n",
       "      <td>01/01/2024</td>\n",
       "      <td>31/12/2024</td>\n",
       "      <td>2024</td>\n",
       "      <td>2024</td>\n",
       "      <td>173862</td>\n",
       "      <td>Direta</td>\n",
       "      <td>7</td>\n",
       "      <td>FMD</td>\n",
       "      <td>Fundo Municipal de Desenvolvimento Social</td>\n",
       "      <td>10</td>\n",
       "      <td>...</td>\n",
       "      <td>0</td>\n",
       "      <td>0</td>\n",
       "      <td>0</td>\n",
       "      <td>37258939,15</td>\n",
       "      <td>37222552,12</td>\n",
       "      <td>37222552,12</td>\n",
       "      <td>30999672,71</td>\n",
       "      <td>30291725,36</td>\n",
       "      <td>36387,03</td>\n",
       "      <td>18/01/2025</td>\n",
       "    </tr>\n",
       "    <tr>\n",
       "      <th>4</th>\n",
       "      <td>01/01/2024</td>\n",
       "      <td>31/12/2024</td>\n",
       "      <td>2024</td>\n",
       "      <td>2024</td>\n",
       "      <td>180471</td>\n",
       "      <td>Direta</td>\n",
       "      <td>7</td>\n",
       "      <td>FMD</td>\n",
       "      <td>Fundo Municipal de Desenvolvimento Social</td>\n",
       "      <td>10</td>\n",
       "      <td>...</td>\n",
       "      <td>0</td>\n",
       "      <td>0</td>\n",
       "      <td>0</td>\n",
       "      <td>2000000</td>\n",
       "      <td>2000000</td>\n",
       "      <td>2000000</td>\n",
       "      <td>2000000</td>\n",
       "      <td>2000000</td>\n",
       "      <td>0</td>\n",
       "      <td>18/01/2025</td>\n",
       "    </tr>\n",
       "  </tbody>\n",
       "</table>\n",
       "<p>5 rows × 61 columns</p>\n",
       "</div>"
      ],
      "text/plain": [
       "  DataInicial   DataFinal  Cd_AnoExecucao  Cd_Exercicio  Cd_Dotacao_Id  \\\n",
       "0  01/01/2024  31/12/2024            2024          2024         169108   \n",
       "1  01/01/2024  31/12/2024            2024          2024         173723   \n",
       "2  01/01/2024  31/12/2024            2024          2024         171046   \n",
       "3  01/01/2024  31/12/2024            2024          2024         173862   \n",
       "4  01/01/2024  31/12/2024            2024          2024         180471   \n",
       "\n",
       "  Administracao  Cd_Orgao Sigla_Orgao  \\\n",
       "0        Direta         7         FMD   \n",
       "1        Direta         7         FMD   \n",
       "2        Direta         7         FMD   \n",
       "3        Direta         7         FMD   \n",
       "4        Direta         7         FMD   \n",
       "\n",
       "                                    Ds_Orgao  Cd_Unidade  ... Vl_Congelado  \\\n",
       "0  Fundo Municipal de Desenvolvimento Social          10  ...            0   \n",
       "1  Fundo Municipal de Desenvolvimento Social          10  ...            0   \n",
       "2  Fundo Municipal de Desenvolvimento Social          10  ...            0   \n",
       "3  Fundo Municipal de Desenvolvimento Social          10  ...            0   \n",
       "4  Fundo Municipal de Desenvolvimento Social          10  ...            0   \n",
       "\n",
       "   Vl_Descongelado Vl_CongeladoLiquido   Disponivel Vl_ReservadoLiquido  \\\n",
       "0                0                   0         1000                   0   \n",
       "1                0                   0    1317978,6             1314177   \n",
       "2                0                   0    3131324,4           3131324,4   \n",
       "3                0                   0  37258939,15         37222552,12   \n",
       "4                0                   0      2000000             2000000   \n",
       "\n",
       "   Vl_EmpenhadoLiquido Vl_Liquidado      Vl_Pago Saldo_Dotacao  DataExtracao  \n",
       "0                    0            0            0          1000    18/01/2025  \n",
       "1              1314177      1314177      1314177        3801,6    18/01/2025  \n",
       "2            3131324,4    2940879,9   2791266,85             0    18/01/2025  \n",
       "3          37222552,12  30999672,71  30291725,36      36387,03    18/01/2025  \n",
       "4              2000000      2000000      2000000             0    18/01/2025  \n",
       "\n",
       "[5 rows x 61 columns]"
      ]
     },
     "execution_count": 32,
     "metadata": {},
     "output_type": "execute_result"
    }
   ],
   "source": [
    "df_execucao.head()"
   ]
  },
  {
   "cell_type": "markdown",
   "metadata": {},
   "source": [
    "Como checamos abaixo, é a execução do ano inteiro de 2024."
   ]
  },
  {
   "cell_type": "code",
   "execution_count": 33,
   "metadata": {},
   "outputs": [
    {
     "data": {
      "text/plain": [
       "array(['01/01/2024'], dtype=object)"
      ]
     },
     "execution_count": 33,
     "metadata": {},
     "output_type": "execute_result"
    }
   ],
   "source": [
    "df_execucao['DataInicial'].unique()"
   ]
  },
  {
   "cell_type": "code",
   "execution_count": 34,
   "metadata": {},
   "outputs": [
    {
     "data": {
      "text/plain": [
       "array(['31/12/2024'], dtype=object)"
      ]
     },
     "execution_count": 34,
     "metadata": {},
     "output_type": "execute_result"
    }
   ],
   "source": [
    "df_execucao['DataFinal'].unique()"
   ]
  },
  {
   "cell_type": "code",
   "execution_count": 35,
   "metadata": {},
   "outputs": [
    {
     "data": {
      "text/plain": [
       "array([2024])"
      ]
     },
     "execution_count": 35,
     "metadata": {},
     "output_type": "execute_result"
    }
   ],
   "source": [
    "df_execucao['Cd_AnoExecucao'].unique()"
   ]
  },
  {
   "cell_type": "code",
   "execution_count": 36,
   "metadata": {},
   "outputs": [
    {
     "data": {
      "text/plain": [
       "array([2024])"
      ]
     },
     "execution_count": 36,
     "metadata": {},
     "output_type": "execute_result"
    }
   ],
   "source": [
    "df_execucao['Cd_Exercicio'].unique()"
   ]
  },
  {
   "cell_type": "markdown",
   "metadata": {},
   "source": [
    "Vamos filtrar as colunas que nos interessam"
   ]
  },
  {
   "cell_type": "code",
   "execution_count": 37,
   "metadata": {},
   "outputs": [
    {
     "name": "stdout",
     "output_type": "stream",
     "text": [
      "DataInicial\n",
      "DataFinal\n",
      "Cd_AnoExecucao\n",
      "Cd_Exercicio\n",
      "Cd_Dotacao_Id\n",
      "Administracao\n",
      "Cd_Orgao\n",
      "Sigla_Orgao\n",
      "Ds_Orgao\n",
      "Cd_Unidade\n",
      "Ds_Unidade\n",
      "Cd_Funcao\n",
      "Ds_Funcao\n",
      "Cd_SubFuncao\n",
      "Ds_SubFuncao\n",
      "Cd_Programa\n",
      "Ds_Programa\n",
      "PA\n",
      "PAPA\n",
      "ProjetoAtividade\n",
      "Ds_Projeto_Atividade\n",
      "ProjAtiv_Descricao\n",
      "Cd_Despesa\n",
      "Ds_Despesa\n",
      "Categoria_Despesa\n",
      "Ds_Categoria\n",
      "Grupo_Despesa\n",
      "Ds_Grupo\n",
      "Cd_Modalidade\n",
      "Ds_Modalidade\n",
      "Cd_Elemento\n",
      "Cd_Fonte\n",
      "Ds_Fonte\n",
      "COD_EX_FONT_REC\n",
      "TXT_EX_FONT_REC\n",
      "COD_DSTN_REC\n",
      "TXT_DSTN_REC\n",
      "COD_VINC_REC_PMSP\n",
      "TXT_VINC_PMSP\n",
      "COD_TIP_CRED_ORCM\n",
      "TXT_TIP_CRED_ORCM\n",
      "COD_RDZD_FONT_REC\n",
      "TXT_FONT_REC_RDZD\n",
      "Cd_Nro_Emenda_Dotacao\n",
      "Vl_Orcado_Ano\n",
      "Vl_Suplementado\n",
      "Vl_Reduzido\n",
      "Vl_SuplementadoLiquido\n",
      "Vl_SuplementadoEmTramitacao\n",
      "Vl_ReduzidoEmTramitacao\n",
      "Vl_Orcado_Atualizado\n",
      "Vl_Congelado\n",
      "Vl_Descongelado\n",
      "Vl_CongeladoLiquido\n",
      "Disponivel\n",
      "Vl_ReservadoLiquido\n",
      "Vl_EmpenhadoLiquido\n",
      "Vl_Liquidado\n",
      "Vl_Pago\n",
      "Saldo_Dotacao\n",
      "DataExtracao\n"
     ]
    }
   ],
   "source": [
    "for col in df_execucao.columns:\n",
    "    print(col)"
   ]
  },
  {
   "cell_type": "code",
   "execution_count": 38,
   "metadata": {},
   "outputs": [],
   "source": [
    "codigos_dotacao = [col for col in df_execucao.columns if (col.startswith('Cd')\n",
    "                   or col in {'ProjetoAtividade', 'Categoria_Despesa'})\n",
    "                   and col not in {'Cd_AnoExecucao', 'Cd_Exercicio', 'Cd_Dotacao_Id'}]"
   ]
  },
  {
   "cell_type": "code",
   "execution_count": 39,
   "metadata": {},
   "outputs": [
    {
     "data": {
      "text/plain": [
       "['Cd_Orgao',\n",
       " 'Cd_Unidade',\n",
       " 'Cd_Funcao',\n",
       " 'Cd_SubFuncao',\n",
       " 'Cd_Programa',\n",
       " 'ProjetoAtividade',\n",
       " 'Cd_Despesa',\n",
       " 'Categoria_Despesa',\n",
       " 'Cd_Modalidade',\n",
       " 'Cd_Elemento',\n",
       " 'Cd_Fonte',\n",
       " 'Cd_Nro_Emenda_Dotacao']"
      ]
     },
     "execution_count": 39,
     "metadata": {},
     "output_type": "execute_result"
    }
   ],
   "source": [
    "codigos_dotacao"
   ]
  },
  {
   "cell_type": "code",
   "execution_count": 40,
   "metadata": {},
   "outputs": [],
   "source": [
    "@copy_df\n",
    "def build_dotacao(df:pd.DataFrame, cols_cod_dotacao:list[str]=codigos_dotacao)->DataFrame:\n",
    "\n",
    "    df_cods = df[cols_cod_dotacao].copy()\n",
    "    df['dotacao'] = df_cods.astype(str).agg('.'.join, axis=1)\n",
    "\n",
    "    return df"
   ]
  },
  {
   "cell_type": "code",
   "execution_count": 41,
   "metadata": {},
   "outputs": [],
   "source": [
    "df_execucao = build_dotacao(df_execucao)"
   ]
  },
  {
   "cell_type": "code",
   "execution_count": 42,
   "metadata": {},
   "outputs": [
    {
     "data": {
      "text/plain": [
       "4901     46.10.15.122.3024.2100.33900800.3.90.8.0.nan\n",
       "8971    83.10.16.122.3024.2100.31901100.3.90.11.9.nan\n",
       "1471    16.18.12.368.3010.2839.33503900.3.50.39.0.nan\n",
       "3562    28.17.28.846.3004.6815.31901300.3.90.13.0.nan\n",
       "2172    20.10.26.572.3009.1240.44905100.4.90.51.0.nan\n",
       "3496    27.10.18.542.3005.6660.33903900.3.90.39.0.nan\n",
       "5621    57.10.15.452.3022.1137.44903900.4.90.39.0.nan\n",
       "1693    16.22.12.368.3010.2839.33503900.3.50.39.0.nan\n",
       "5288    52.10.15.451.3022.1170.44903900.4.90.39.0.nan\n",
       "4308    34.10.14.422.3018.4327.33503900.3.50.39.0.nan\n",
       "Name: dotacao, dtype: object"
      ]
     },
     "execution_count": 42,
     "metadata": {},
     "output_type": "execute_result"
    }
   ],
   "source": [
    "df_execucao['dotacao'].sample(10)"
   ]
  },
  {
   "cell_type": "code",
   "execution_count": 43,
   "metadata": {},
   "outputs": [
    {
     "data": {
      "text/plain": [
       "array([12, 13])"
      ]
     },
     "execution_count": 43,
     "metadata": {},
     "output_type": "execute_result"
    }
   ],
   "source": [
    "df_execucao['dotacao'].str.split('.').apply(lambda x: len(x)).unique()"
   ]
  },
  {
   "cell_type": "code",
   "execution_count": 44,
   "metadata": {},
   "outputs": [
    {
     "data": {
      "text/plain": [
       "np.True_"
      ]
     },
     "execution_count": 44,
     "metadata": {},
     "output_type": "execute_result"
    }
   ],
   "source": [
    "df_execucao['dotacao'].duplicated().any()"
   ]
  },
  {
   "cell_type": "code",
   "execution_count": 45,
   "metadata": {},
   "outputs": [
    {
     "data": {
      "text/plain": [
       "np.float64(0.4341823630136986)"
      ]
     },
     "execution_count": 45,
     "metadata": {},
     "output_type": "execute_result"
    }
   ],
   "source": [
    "df_execucao['dotacao'].duplicated().mean()"
   ]
  },
  {
   "cell_type": "code",
   "execution_count": 46,
   "metadata": {},
   "outputs": [],
   "source": [
    "colunas_descricao = [col for col in df_execucao.columns\n",
    "                     if col.startswith('Ds')]"
   ]
  },
  {
   "cell_type": "code",
   "execution_count": 47,
   "metadata": {},
   "outputs": [
    {
     "data": {
      "text/plain": [
       "['Ds_Orgao',\n",
       " 'Ds_Unidade',\n",
       " 'Ds_Funcao',\n",
       " 'Ds_SubFuncao',\n",
       " 'Ds_Programa',\n",
       " 'Ds_Projeto_Atividade',\n",
       " 'Ds_Despesa',\n",
       " 'Ds_Categoria',\n",
       " 'Ds_Grupo',\n",
       " 'Ds_Modalidade',\n",
       " 'Ds_Fonte']"
      ]
     },
     "execution_count": 47,
     "metadata": {},
     "output_type": "execute_result"
    }
   ],
   "source": [
    "colunas_descricao"
   ]
  },
  {
   "cell_type": "code",
   "execution_count": 53,
   "metadata": {},
   "outputs": [
    {
     "data": {
      "text/plain": [
       "Index(['DataInicial', 'DataFinal', 'Cd_AnoExecucao', 'Cd_Exercicio',\n",
       "       'Cd_Dotacao_Id', 'Administracao', 'Cd_Orgao', 'Sigla_Orgao', 'Ds_Orgao',\n",
       "       'Cd_Unidade', 'Ds_Unidade', 'Cd_Funcao', 'Ds_Funcao', 'Cd_SubFuncao',\n",
       "       'Ds_SubFuncao', 'Cd_Programa', 'Ds_Programa', 'PA', 'PAPA',\n",
       "       'ProjetoAtividade', 'Ds_Projeto_Atividade', 'ProjAtiv_Descricao',\n",
       "       'Cd_Despesa', 'Ds_Despesa', 'Categoria_Despesa', 'Ds_Categoria',\n",
       "       'Grupo_Despesa', 'Ds_Grupo', 'Cd_Modalidade', 'Ds_Modalidade',\n",
       "       'Cd_Elemento', 'Cd_Fonte', 'Ds_Fonte', 'COD_EX_FONT_REC',\n",
       "       'TXT_EX_FONT_REC', 'COD_DSTN_REC', 'TXT_DSTN_REC', 'COD_VINC_REC_PMSP',\n",
       "       'TXT_VINC_PMSP', 'COD_TIP_CRED_ORCM', 'TXT_TIP_CRED_ORCM',\n",
       "       'COD_RDZD_FONT_REC', 'TXT_FONT_REC_RDZD', 'Cd_Nro_Emenda_Dotacao',\n",
       "       'Vl_Orcado_Ano', 'Vl_Suplementado', 'Vl_Reduzido',\n",
       "       'Vl_SuplementadoLiquido', 'Vl_SuplementadoEmTramitacao',\n",
       "       'Vl_ReduzidoEmTramitacao', 'Vl_Orcado_Atualizado', 'Vl_Congelado',\n",
       "       'Vl_Descongelado', 'Vl_CongeladoLiquido', 'Disponivel',\n",
       "       'Vl_ReservadoLiquido', 'Vl_EmpenhadoLiquido', 'Vl_Liquidado', 'Vl_Pago',\n",
       "       'Saldo_Dotacao', 'DataExtracao', 'dotacao'],\n",
       "      dtype='object')"
      ]
     },
     "execution_count": 53,
     "metadata": {},
     "output_type": "execute_result"
    }
   ],
   "source": [
    "df_execucao.columns"
   ]
  },
  {
   "cell_type": "code",
   "execution_count": 52,
   "metadata": {},
   "outputs": [],
   "source": [
    "cols_valores = ['Vl_Orcado_Atualizado', 'Vl_EmpenhadoLiquido', 'Vl_CongeladoLiquido', 'Vl_Liquidado', 'Saldo_Dotacao']"
   ]
  },
  {
   "cell_type": "code",
   "execution_count": 54,
   "metadata": {},
   "outputs": [],
   "source": [
    "cols_interesse = codigos_dotacao + colunas_descricao + cols_valores"
   ]
  },
  {
   "cell_type": "code",
   "execution_count": 55,
   "metadata": {},
   "outputs": [],
   "source": [
    "df_execucao = df_execucao[cols_interesse]"
   ]
  },
  {
   "cell_type": "code",
   "execution_count": 57,
   "metadata": {},
   "outputs": [
    {
     "data": {
      "text/html": [
       "<div>\n",
       "<style scoped>\n",
       "    .dataframe tbody tr th:only-of-type {\n",
       "        vertical-align: middle;\n",
       "    }\n",
       "\n",
       "    .dataframe tbody tr th {\n",
       "        vertical-align: top;\n",
       "    }\n",
       "\n",
       "    .dataframe thead th {\n",
       "        text-align: right;\n",
       "    }\n",
       "</style>\n",
       "<table border=\"1\" class=\"dataframe\">\n",
       "  <thead>\n",
       "    <tr style=\"text-align: right;\">\n",
       "      <th></th>\n",
       "      <th>Cd_Orgao</th>\n",
       "      <th>Cd_Unidade</th>\n",
       "      <th>Cd_Funcao</th>\n",
       "      <th>Cd_SubFuncao</th>\n",
       "      <th>Cd_Programa</th>\n",
       "      <th>ProjetoAtividade</th>\n",
       "      <th>Cd_Despesa</th>\n",
       "      <th>Categoria_Despesa</th>\n",
       "      <th>Cd_Modalidade</th>\n",
       "      <th>Cd_Elemento</th>\n",
       "      <th>...</th>\n",
       "      <th>Ds_Despesa</th>\n",
       "      <th>Ds_Categoria</th>\n",
       "      <th>Ds_Grupo</th>\n",
       "      <th>Ds_Modalidade</th>\n",
       "      <th>Ds_Fonte</th>\n",
       "      <th>Vl_Orcado_Atualizado</th>\n",
       "      <th>Vl_EmpenhadoLiquido</th>\n",
       "      <th>Vl_CongeladoLiquido</th>\n",
       "      <th>Vl_Liquidado</th>\n",
       "      <th>Saldo_Dotacao</th>\n",
       "    </tr>\n",
       "  </thead>\n",
       "  <tbody>\n",
       "    <tr>\n",
       "      <th>0</th>\n",
       "      <td>7</td>\n",
       "      <td>10</td>\n",
       "      <td>8</td>\n",
       "      <td>244</td>\n",
       "      <td>3023</td>\n",
       "      <td>3399</td>\n",
       "      <td>44905100</td>\n",
       "      <td>4</td>\n",
       "      <td>90</td>\n",
       "      <td>51</td>\n",
       "      <td>...</td>\n",
       "      <td>Obras e Instalações</td>\n",
       "      <td>Despesas de Capital</td>\n",
       "      <td>INVESTIMENTOS</td>\n",
       "      <td>Aplicações Diretas</td>\n",
       "      <td>Tesouro Municipal - Recursos Vinculados</td>\n",
       "      <td>1000</td>\n",
       "      <td>0</td>\n",
       "      <td>0</td>\n",
       "      <td>0</td>\n",
       "      <td>1000</td>\n",
       "    </tr>\n",
       "    <tr>\n",
       "      <th>1</th>\n",
       "      <td>7</td>\n",
       "      <td>10</td>\n",
       "      <td>10</td>\n",
       "      <td>301</td>\n",
       "      <td>3003</td>\n",
       "      <td>1525</td>\n",
       "      <td>44505200</td>\n",
       "      <td>4</td>\n",
       "      <td>50</td>\n",
       "      <td>52</td>\n",
       "      <td>...</td>\n",
       "      <td>Equipamentos e Material Permanente</td>\n",
       "      <td>Despesas de Capital</td>\n",
       "      <td>INVESTIMENTOS</td>\n",
       "      <td>Transferências a Instituições Privadas sem fin...</td>\n",
       "      <td>Tesouro Municipal - Recursos Vinculados</td>\n",
       "      <td>1317978,6</td>\n",
       "      <td>1314177</td>\n",
       "      <td>0</td>\n",
       "      <td>1314177</td>\n",
       "      <td>3801,6</td>\n",
       "    </tr>\n",
       "    <tr>\n",
       "      <th>2</th>\n",
       "      <td>7</td>\n",
       "      <td>10</td>\n",
       "      <td>10</td>\n",
       "      <td>301</td>\n",
       "      <td>3003</td>\n",
       "      <td>1525</td>\n",
       "      <td>44905100</td>\n",
       "      <td>4</td>\n",
       "      <td>90</td>\n",
       "      <td>51</td>\n",
       "      <td>...</td>\n",
       "      <td>Obras e Instalações</td>\n",
       "      <td>Despesas de Capital</td>\n",
       "      <td>INVESTIMENTOS</td>\n",
       "      <td>Aplicações Diretas</td>\n",
       "      <td>Tesouro Municipal - Recursos Vinculados</td>\n",
       "      <td>3131324,4</td>\n",
       "      <td>3131324,4</td>\n",
       "      <td>0</td>\n",
       "      <td>2940879,9</td>\n",
       "      <td>0</td>\n",
       "    </tr>\n",
       "    <tr>\n",
       "      <th>3</th>\n",
       "      <td>7</td>\n",
       "      <td>10</td>\n",
       "      <td>10</td>\n",
       "      <td>301</td>\n",
       "      <td>3003</td>\n",
       "      <td>1525</td>\n",
       "      <td>44905100</td>\n",
       "      <td>4</td>\n",
       "      <td>90</td>\n",
       "      <td>51</td>\n",
       "      <td>...</td>\n",
       "      <td>Obras e Instalações</td>\n",
       "      <td>Despesas de Capital</td>\n",
       "      <td>INVESTIMENTOS</td>\n",
       "      <td>Aplicações Diretas</td>\n",
       "      <td>Tesouro Municipal - Recursos Vinculados</td>\n",
       "      <td>37258939,15</td>\n",
       "      <td>37222552,12</td>\n",
       "      <td>0</td>\n",
       "      <td>30999672,71</td>\n",
       "      <td>36387,03</td>\n",
       "    </tr>\n",
       "    <tr>\n",
       "      <th>4</th>\n",
       "      <td>7</td>\n",
       "      <td>10</td>\n",
       "      <td>10</td>\n",
       "      <td>301</td>\n",
       "      <td>3003</td>\n",
       "      <td>1525</td>\n",
       "      <td>44905100</td>\n",
       "      <td>4</td>\n",
       "      <td>90</td>\n",
       "      <td>51</td>\n",
       "      <td>...</td>\n",
       "      <td>Obras e Instalações</td>\n",
       "      <td>Despesas de Capital</td>\n",
       "      <td>INVESTIMENTOS</td>\n",
       "      <td>Aplicações Diretas</td>\n",
       "      <td>Alienação de Bens/Ativos</td>\n",
       "      <td>2000000</td>\n",
       "      <td>2000000</td>\n",
       "      <td>0</td>\n",
       "      <td>2000000</td>\n",
       "      <td>0</td>\n",
       "    </tr>\n",
       "  </tbody>\n",
       "</table>\n",
       "<p>5 rows × 28 columns</p>\n",
       "</div>"
      ],
      "text/plain": [
       "   Cd_Orgao  Cd_Unidade  Cd_Funcao  Cd_SubFuncao  Cd_Programa  \\\n",
       "0         7          10          8           244         3023   \n",
       "1         7          10         10           301         3003   \n",
       "2         7          10         10           301         3003   \n",
       "3         7          10         10           301         3003   \n",
       "4         7          10         10           301         3003   \n",
       "\n",
       "   ProjetoAtividade  Cd_Despesa  Categoria_Despesa  Cd_Modalidade  \\\n",
       "0              3399    44905100                  4             90   \n",
       "1              1525    44505200                  4             50   \n",
       "2              1525    44905100                  4             90   \n",
       "3              1525    44905100                  4             90   \n",
       "4              1525    44905100                  4             90   \n",
       "\n",
       "   Cd_Elemento  ...                          Ds_Despesa         Ds_Categoria  \\\n",
       "0           51  ...                 Obras e Instalações  Despesas de Capital   \n",
       "1           52  ...  Equipamentos e Material Permanente  Despesas de Capital   \n",
       "2           51  ...                 Obras e Instalações  Despesas de Capital   \n",
       "3           51  ...                 Obras e Instalações  Despesas de Capital   \n",
       "4           51  ...                 Obras e Instalações  Despesas de Capital   \n",
       "\n",
       "        Ds_Grupo                                      Ds_Modalidade  \\\n",
       "0  INVESTIMENTOS                                 Aplicações Diretas   \n",
       "1  INVESTIMENTOS  Transferências a Instituições Privadas sem fin...   \n",
       "2  INVESTIMENTOS                                 Aplicações Diretas   \n",
       "3  INVESTIMENTOS                                 Aplicações Diretas   \n",
       "4  INVESTIMENTOS                                 Aplicações Diretas   \n",
       "\n",
       "                                  Ds_Fonte Vl_Orcado_Atualizado  \\\n",
       "0  Tesouro Municipal - Recursos Vinculados                 1000   \n",
       "1  Tesouro Municipal - Recursos Vinculados            1317978,6   \n",
       "2  Tesouro Municipal - Recursos Vinculados            3131324,4   \n",
       "3  Tesouro Municipal - Recursos Vinculados          37258939,15   \n",
       "4                 Alienação de Bens/Ativos              2000000   \n",
       "\n",
       "  Vl_EmpenhadoLiquido Vl_CongeladoLiquido Vl_Liquidado Saldo_Dotacao  \n",
       "0                   0                   0            0          1000  \n",
       "1             1314177                   0      1314177        3801,6  \n",
       "2           3131324,4                   0    2940879,9             0  \n",
       "3         37222552,12                   0  30999672,71      36387,03  \n",
       "4             2000000                   0      2000000             0  \n",
       "\n",
       "[5 rows x 28 columns]"
      ]
     },
     "execution_count": 57,
     "metadata": {},
     "output_type": "execute_result"
    }
   ],
   "source": [
    "df_execucao.head()"
   ]
  },
  {
   "cell_type": "code",
   "execution_count": null,
   "metadata": {},
   "outputs": [],
   "source": []
  }
 ],
 "metadata": {
  "kernelspec": {
   "display_name": "venv",
   "language": "python",
   "name": "python3"
  },
  "language_info": {
   "codemirror_mode": {
    "name": "ipython",
    "version": 3
   },
   "file_extension": ".py",
   "mimetype": "text/x-python",
   "name": "python",
   "nbconvert_exporter": "python",
   "pygments_lexer": "ipython3",
   "version": "3.13.2"
  }
 },
 "nbformat": 4,
 "nbformat_minor": 2
}
