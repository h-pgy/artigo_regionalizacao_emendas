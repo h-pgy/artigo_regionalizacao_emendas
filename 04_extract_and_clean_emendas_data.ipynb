{
 "cells": [
  {
   "cell_type": "markdown",
   "id": "0eaf3aee",
   "metadata": {},
   "source": [
    "# Extração e limpeza dos dados de emendas\n",
    "\n",
    "Neste notebook extraímos e limpamos os dados da relação de emendas por vereador.\n",
    "\n",
    "Como no notebook anterior, são utilizadas as relações de emendas por vereador para os anos de 2022 a 2025 (ou seja, referentes às LOAs da legislatura eleita em 2020)."
   ]
  },
  {
   "cell_type": "code",
   "execution_count": 1,
   "id": "3facb632",
   "metadata": {},
   "outputs": [],
   "source": [
    "import requests\n",
    "import xml.etree.ElementTree as ET\n",
    "import json\n",
    "import pandas as pd\n",
    "import plotly.express as px\n",
    "import plotly.graph_objects as go\n",
    "from typing import Optional\n",
    "import os\n",
    "\n",
    "from config import GRAFICOS_FOLDER, DATA_FOLDER\n"
   ]
  },
  {
   "cell_type": "markdown",
   "id": "10ed55b5",
   "metadata": {},
   "source": [
    "## Extração de dados"
   ]
  },
  {
   "cell_type": "code",
   "execution_count": 2,
   "id": "6ef5e2b8",
   "metadata": {},
   "outputs": [],
   "source": [
    "class ExtractEmendasDataYear:\n",
    "\n",
    "    base_url = 'http://saeows.saopaulo.sp.leg.br/Servico/'\n",
    "\n",
    "    def __init__(self, service:str, endpoint:str)->None:\n",
    "        \"\"\"\n",
    "        Initialize the ExtractEmendasDataYear class.\n",
    "\n",
    "        Parameters:\n",
    "        base_url (str): The base URL for the API.\n",
    "        endpoint (str): The endpoint for the API.\n",
    "        \"\"\"\n",
    "\n",
    "        if service.startswith('/'):\n",
    "            service = service[1:]\n",
    "\n",
    "        if not service.endswith('/'):\n",
    "            service += '/'\n",
    "\n",
    "        if not endpoint.startswith('/'):\n",
    "            endpoint = '/' + endpoint\n",
    "\n",
    "        if endpoint.endswith('/'):\n",
    "            endpoint = endpoint[:-1]\n",
    "\n",
    "        self.base_url = self.base_url + service\n",
    "        self.endpoint = endpoint\n",
    "\n",
    "    def __build_url(self, ano: int) -> str:\n",
    "        \"\"\"\n",
    "        Build the URL for the API request.\n",
    "        \"\"\"\n",
    "        return f'{self.base_url}{self.endpoint}?exercicio={ano}'\n",
    "\n",
    "    def __get_data(self, ano: int) -> str:\n",
    "        \"\"\"\n",
    "        Get data from the API for a specific year.\n",
    "\n",
    "        Parameters:\n",
    "        ano (int): The year for which data is to be fetched.\n",
    "\n",
    "        Returns:\n",
    "        str: The response text (a XML with JSON data).\n",
    "        \"\"\"\n",
    "\n",
    "        url = self.__build_url(ano)\n",
    "\n",
    "        response = requests.get(url)\n",
    "        if response.status_code == 200:\n",
    "            return response.text\n",
    "        else:\n",
    "            raise RuntimeError(f\"Failed to fetch data for year {ano}: {response.status_code}\")\n",
    "\n",
    "    def __build_xml_tree(self, xml_string:str)-> ET.Element:\n",
    "        \"\"\"\n",
    "        Build an XML tree from a string.\n",
    "\n",
    "        Parameters:\n",
    "        xml_string (str): The XML string to be parsed.\n",
    "\n",
    "        Returns:\n",
    "        Element: The root element of the parsed XML tree.\n",
    "        \"\"\"\n",
    "        return ET.fromstring(xml_string)\n",
    "\n",
    "    def __parse_xml_to_json(self, xml_string: str) -> dict:\n",
    "        \"\"\"\n",
    "        Parse the XML string and extract the JSON data.\n",
    "\n",
    "        Parameters:\n",
    "        xml_string (str): The XML string to be parsed.\n",
    "\n",
    "        Returns:\n",
    "        dict: The extracted JSON data.\n",
    "        \"\"\"\n",
    "        root = self.__build_xml_tree(xml_string)\n",
    "        json_str = root.text.strip()\n",
    "\n",
    "        try:\n",
    "            json_data = json.loads(json_str)\n",
    "            return json_data\n",
    "\n",
    "        except json.JSONDecodeError as e:\n",
    "            raise RuntimeError(f\"Erro ao decodificar JSON : {e}\")\n",
    "\n",
    "    def __json_to_dataframe(self, json_data:dict) -> pd.DataFrame:\n",
    "        \"\"\"\n",
    "        Convert JSON data to a pandas DataFrame.\n",
    "\n",
    "        Parameters:\n",
    "        json_data (dict): The JSON data to be converted.\n",
    "\n",
    "        Returns:\n",
    "        DataFrame: The resulting DataFrame.\n",
    "        \"\"\"\n",
    "        df = pd.json_normalize(json_data)\n",
    "        return df\n",
    "\n",
    "    def __pipeline(self, ano:int)->pd.DataFrame:\n",
    "        \"\"\"\n",
    "        Execute the data extraction pipeline for a specific year.\n",
    "\n",
    "        Parameters:\n",
    "        ano (int): The year for which data is to be processed.\n",
    "\n",
    "        Returns:\n",
    "        DataFrame: The resulting DataFrame.\n",
    "        \"\"\"\n",
    "        xml_string = self.__get_data(ano)\n",
    "        json_data = self.__parse_xml_to_json(xml_string)\n",
    "        df = self.__json_to_dataframe(json_data)\n",
    "\n",
    "        return df\n",
    "\n",
    "    def __call__(self, ano: int) -> pd.DataFrame:\n",
    "        \"\"\"\n",
    "        Execute the data extraction pipeline for a specific year when the object is called.\n",
    "\n",
    "        Parameters:\n",
    "        ano (int): The year for which data is to be processed.\n",
    "\n",
    "        Returns:\n",
    "        DataFrame: The resulting DataFrame.\n",
    "        \"\"\"\n",
    "\n",
    "        return self.__pipeline(ano)\n"
   ]
  },
  {
   "cell_type": "code",
   "execution_count": 3,
   "id": "0dec17e1",
   "metadata": {},
   "outputs": [],
   "source": [
    "ANOS = tuple(range(2022, 2026))\n"
   ]
  },
  {
   "cell_type": "code",
   "execution_count": 4,
   "id": "c3026c94",
   "metadata": {},
   "outputs": [],
   "source": [
    "def load_emendas(fname:str, endpoint:str, service:str='IntegracaoPMSP.asmx', anos:[int]=ANOS)->pd.DataFrame:\n",
    "    \"\"\"\n",
    "    Load emendas data for the specified years.\n",
    "\n",
    "    Parameters:\n",
    "    anos (list): List of years to load data for.\n",
    "\n",
    "    Returns:\n",
    "    DataFrame: The combined DataFrame containing data for all specified years.\n",
    "    \"\"\"\n",
    "\n",
    "    extract_emenda_data = ExtractEmendasDataYear(\n",
    "        service = service,\n",
    "        endpoint = endpoint\n",
    "        )\n",
    "\n",
    "    fpath = os.path.join(DATA_FOLDER, fname)\n",
    "    if os.path.exists(fpath):\n",
    "        print('Loading already downloaded data')\n",
    "        df = pd.read_csv(fpath, sep=';')\n",
    "        return df\n",
    "\n",
    "    dfs = []\n",
    "    for ano in anos:\n",
    "        print('Extracting data for year', ano)\n",
    "        df = extract_emenda_data(ano)\n",
    "        df['ano'] = ano\n",
    "        dfs.append(df)\n",
    "\n",
    "    df = pd.concat(dfs, ignore_index=True)\n",
    "    df.to_csv(fpath, index=False, sep=';')\n",
    "\n",
    "    return df"
   ]
  },
  {
   "cell_type": "code",
   "execution_count": 5,
   "id": "7a082bd4",
   "metadata": {},
   "outputs": [
    {
     "name": "stdout",
     "output_type": "stream",
     "text": [
      "Loading already downloaded data\n"
     ]
    }
   ],
   "source": [
    "df_emendas_vereadores = load_emendas(fname='emendas_vereaadores.csv',endpoint='EmendasVereadoresJson')"
   ]
  },
  {
   "cell_type": "code",
   "execution_count": 6,
   "id": "ed4061b3",
   "metadata": {},
   "outputs": [
    {
     "data": {
      "text/plain": [
       "array([2022, 2023, 2024, 2025])"
      ]
     },
     "execution_count": 6,
     "metadata": {},
     "output_type": "execute_result"
    }
   ],
   "source": [
    "df_emendas_vereadores['ano'].unique()"
   ]
  },
  {
   "cell_type": "code",
   "execution_count": 7,
   "id": "2db388cd",
   "metadata": {},
   "outputs": [
    {
     "name": "stdout",
     "output_type": "stream",
     "text": [
      "Loading already downloaded data\n"
     ]
    }
   ],
   "source": [
    "df_vereadores = load_emendas(fname='vereadores.csv',endpoint='VereadoresJson')"
   ]
  },
  {
   "cell_type": "code",
   "execution_count": 8,
   "id": "3cb72c1a",
   "metadata": {},
   "outputs": [
    {
     "data": {
      "text/plain": [
       "array([2022, 2023, 2024, 2025])"
      ]
     },
     "execution_count": 8,
     "metadata": {},
     "output_type": "execute_result"
    }
   ],
   "source": [
    "df_vereadores['ano'].unique()"
   ]
  },
  {
   "cell_type": "code",
   "execution_count": 9,
   "id": "325943b7",
   "metadata": {},
   "outputs": [
    {
     "name": "stdout",
     "output_type": "stream",
     "text": [
      "Loading already downloaded data\n"
     ]
    }
   ],
   "source": [
    "df_partidos = load_emendas(fname='partidos.csv', endpoint='PartidosJson')"
   ]
  },
  {
   "cell_type": "code",
   "execution_count": 10,
   "id": "25e23606",
   "metadata": {},
   "outputs": [
    {
     "data": {
      "text/plain": [
       "array([2022, 2023, 2024, 2025])"
      ]
     },
     "execution_count": 10,
     "metadata": {},
     "output_type": "execute_result"
    }
   ],
   "source": [
    "df_partidos['ano'].unique()"
   ]
  },
  {
   "cell_type": "markdown",
   "id": "37822f7c",
   "metadata": {},
   "source": [
    "## Filtrando as colunas\n",
    "\n",
    "Não vamos usar todas as colunas no estudo. Então agora filtramos os dataframes"
   ]
  },
  {
   "cell_type": "code",
   "execution_count": 11,
   "id": "28163534",
   "metadata": {},
   "outputs": [
    {
     "data": {
      "text/html": [
       "<div>\n",
       "<style scoped>\n",
       "    .dataframe tbody tr th:only-of-type {\n",
       "        vertical-align: middle;\n",
       "    }\n",
       "\n",
       "    .dataframe tbody tr th {\n",
       "        vertical-align: top;\n",
       "    }\n",
       "\n",
       "    .dataframe thead th {\n",
       "        text-align: right;\n",
       "    }\n",
       "</style>\n",
       "<table border=\"1\" class=\"dataframe\">\n",
       "  <thead>\n",
       "    <tr style=\"text-align: right;\">\n",
       "      <th></th>\n",
       "      <th>Numero</th>\n",
       "      <th>Vereador</th>\n",
       "      <th>DataEmenda</th>\n",
       "      <th>IdExercEmp</th>\n",
       "      <th>Motivo</th>\n",
       "      <th>ano</th>\n",
       "    </tr>\n",
       "  </thead>\n",
       "  <tbody>\n",
       "    <tr>\n",
       "      <th>0</th>\n",
       "      <td>79</td>\n",
       "      <td>1454</td>\n",
       "      <td>02/12/2021</td>\n",
       "      <td>580</td>\n",
       "      <td>Trata-se de importante medida para garantir os...</td>\n",
       "      <td>2022</td>\n",
       "    </tr>\n",
       "    <tr>\n",
       "      <th>1</th>\n",
       "      <td>1806</td>\n",
       "      <td>1422</td>\n",
       "      <td>09/12/2021</td>\n",
       "      <td>580</td>\n",
       "      <td>Melhorias diversas.</td>\n",
       "      <td>2022</td>\n",
       "    </tr>\n",
       "    <tr>\n",
       "      <th>2</th>\n",
       "      <td>115</td>\n",
       "      <td>1456</td>\n",
       "      <td>07/12/2021</td>\n",
       "      <td>580</td>\n",
       "      <td>Melhoria de Infra estrutura dos bairros dos di...</td>\n",
       "      <td>2022</td>\n",
       "    </tr>\n",
       "    <tr>\n",
       "      <th>3</th>\n",
       "      <td>116</td>\n",
       "      <td>1456</td>\n",
       "      <td>07/12/2021</td>\n",
       "      <td>580</td>\n",
       "      <td>Melhoria de infra estrutura dos bairros dos di...</td>\n",
       "      <td>2022</td>\n",
       "    </tr>\n",
       "    <tr>\n",
       "      <th>4</th>\n",
       "      <td>117</td>\n",
       "      <td>1456</td>\n",
       "      <td>07/12/2021</td>\n",
       "      <td>580</td>\n",
       "      <td>No local, ao lado do terreno indicado, existe ...</td>\n",
       "      <td>2022</td>\n",
       "    </tr>\n",
       "  </tbody>\n",
       "</table>\n",
       "</div>"
      ],
      "text/plain": [
       "   Numero  Vereador  DataEmenda  IdExercEmp  \\\n",
       "0      79      1454  02/12/2021         580   \n",
       "1    1806      1422  09/12/2021         580   \n",
       "2     115      1456  07/12/2021         580   \n",
       "3     116      1456  07/12/2021         580   \n",
       "4     117      1456  07/12/2021         580   \n",
       "\n",
       "                                              Motivo   ano  \n",
       "0  Trata-se de importante medida para garantir os...  2022  \n",
       "1                                Melhorias diversas.  2022  \n",
       "2  Melhoria de Infra estrutura dos bairros dos di...  2022  \n",
       "3  Melhoria de infra estrutura dos bairros dos di...  2022  \n",
       "4  No local, ao lado do terreno indicado, existe ...  2022  "
      ]
     },
     "execution_count": 11,
     "metadata": {},
     "output_type": "execute_result"
    }
   ],
   "source": [
    "df_emendas_vereadores.head()"
   ]
  },
  {
   "cell_type": "markdown",
   "id": "9b8be2b3",
   "metadata": {},
   "source": [
    "as emendas de vereadores tem duplicadas. provavelmente por conta da data da proposição. vou ordenar pela data e pegar a ultima"
   ]
  },
  {
   "cell_type": "code",
   "execution_count": 12,
   "id": "be064aff",
   "metadata": {},
   "outputs": [
    {
     "data": {
      "text/plain": [
       "np.True_"
      ]
     },
     "execution_count": 12,
     "metadata": {},
     "output_type": "execute_result"
    }
   ],
   "source": [
    "df_emendas_vereadores[['Numero', 'Vereador', 'ano']].duplicated().any()"
   ]
  },
  {
   "cell_type": "code",
   "execution_count": 13,
   "id": "d3c4dd1e",
   "metadata": {},
   "outputs": [
    {
     "data": {
      "text/plain": [
       "np.float64(0.32826187183033656)"
      ]
     },
     "execution_count": 13,
     "metadata": {},
     "output_type": "execute_result"
    }
   ],
   "source": [
    "df_emendas_vereadores[['Numero', 'Vereador', 'ano']].duplicated().mean()"
   ]
  },
  {
   "cell_type": "code",
   "execution_count": 14,
   "id": "b5635576",
   "metadata": {},
   "outputs": [
    {
     "data": {
      "text/plain": [
       "np.float64(0.32826187183033656)"
      ]
     },
     "execution_count": 14,
     "metadata": {},
     "output_type": "execute_result"
    }
   ],
   "source": [
    "df_emendas_vereadores[['Numero', 'Vereador', 'ano', 'Motivo']].duplicated().mean()"
   ]
  },
  {
   "cell_type": "code",
   "execution_count": 15,
   "id": "1b1b37b2",
   "metadata": {},
   "outputs": [
    {
     "data": {
      "text/html": [
       "<div>\n",
       "<style scoped>\n",
       "    .dataframe tbody tr th:only-of-type {\n",
       "        vertical-align: middle;\n",
       "    }\n",
       "\n",
       "    .dataframe tbody tr th {\n",
       "        vertical-align: top;\n",
       "    }\n",
       "\n",
       "    .dataframe thead th {\n",
       "        text-align: right;\n",
       "    }\n",
       "</style>\n",
       "<table border=\"1\" class=\"dataframe\">\n",
       "  <thead>\n",
       "    <tr style=\"text-align: right;\">\n",
       "      <th></th>\n",
       "      <th>Numero</th>\n",
       "      <th>Vereador</th>\n",
       "      <th>DataEmenda</th>\n",
       "      <th>IdExercEmp</th>\n",
       "      <th>Motivo</th>\n",
       "      <th>ano</th>\n",
       "    </tr>\n",
       "  </thead>\n",
       "  <tbody>\n",
       "    <tr>\n",
       "      <th>0</th>\n",
       "      <td>79</td>\n",
       "      <td>1454</td>\n",
       "      <td>2021-12-02</td>\n",
       "      <td>580</td>\n",
       "      <td>Trata-se de importante medida para garantir os...</td>\n",
       "      <td>2022</td>\n",
       "    </tr>\n",
       "    <tr>\n",
       "      <th>1</th>\n",
       "      <td>1806</td>\n",
       "      <td>1422</td>\n",
       "      <td>2021-12-09</td>\n",
       "      <td>580</td>\n",
       "      <td>Melhorias diversas.</td>\n",
       "      <td>2022</td>\n",
       "    </tr>\n",
       "    <tr>\n",
       "      <th>2</th>\n",
       "      <td>115</td>\n",
       "      <td>1456</td>\n",
       "      <td>2021-12-07</td>\n",
       "      <td>580</td>\n",
       "      <td>Melhoria de Infra estrutura dos bairros dos di...</td>\n",
       "      <td>2022</td>\n",
       "    </tr>\n",
       "    <tr>\n",
       "      <th>3</th>\n",
       "      <td>116</td>\n",
       "      <td>1456</td>\n",
       "      <td>2021-12-07</td>\n",
       "      <td>580</td>\n",
       "      <td>Melhoria de infra estrutura dos bairros dos di...</td>\n",
       "      <td>2022</td>\n",
       "    </tr>\n",
       "    <tr>\n",
       "      <th>4</th>\n",
       "      <td>117</td>\n",
       "      <td>1456</td>\n",
       "      <td>2021-12-07</td>\n",
       "      <td>580</td>\n",
       "      <td>No local, ao lado do terreno indicado, existe ...</td>\n",
       "      <td>2022</td>\n",
       "    </tr>\n",
       "  </tbody>\n",
       "</table>\n",
       "</div>"
      ],
      "text/plain": [
       "   Numero  Vereador DataEmenda  IdExercEmp  \\\n",
       "0      79      1454 2021-12-02         580   \n",
       "1    1806      1422 2021-12-09         580   \n",
       "2     115      1456 2021-12-07         580   \n",
       "3     116      1456 2021-12-07         580   \n",
       "4     117      1456 2021-12-07         580   \n",
       "\n",
       "                                              Motivo   ano  \n",
       "0  Trata-se de importante medida para garantir os...  2022  \n",
       "1                                Melhorias diversas.  2022  \n",
       "2  Melhoria de Infra estrutura dos bairros dos di...  2022  \n",
       "3  Melhoria de infra estrutura dos bairros dos di...  2022  \n",
       "4  No local, ao lado do terreno indicado, existe ...  2022  "
      ]
     },
     "execution_count": 15,
     "metadata": {},
     "output_type": "execute_result"
    }
   ],
   "source": [
    "df_emendas_vereadores['DataEmenda'] = pd.to_datetime(df_emendas_vereadores['DataEmenda'], format='%d/%m/%Y', errors='coerce')\n",
    "df_emendas_vereadores.head()"
   ]
  },
  {
   "cell_type": "code",
   "execution_count": 16,
   "id": "55b96ff0",
   "metadata": {},
   "outputs": [
    {
     "data": {
      "text/plain": [
       "np.int64(24)"
      ]
     },
     "execution_count": 16,
     "metadata": {},
     "output_type": "execute_result"
    }
   ],
   "source": [
    "df_emendas_vereadores['DataEmenda'].isna().sum()"
   ]
  },
  {
   "cell_type": "code",
   "execution_count": 17,
   "id": "d968ea3a",
   "metadata": {},
   "outputs": [],
   "source": [
    "df_emendas_vereadores = df_emendas_vereadores[df_emendas_vereadores['DataEmenda'].notnull()].reset_index(drop=True)"
   ]
  },
  {
   "cell_type": "code",
   "execution_count": 18,
   "id": "4d1715cc",
   "metadata": {},
   "outputs": [],
   "source": [
    "df_emendas_vereadores = df_emendas_vereadores[df_emendas_vereadores['DataEmenda'].notnull()] \\\n",
    "    .sort_values(by='DataEmenda', ascending=True) \\\n",
    "    .reset_index(drop=True)"
   ]
  },
  {
   "cell_type": "markdown",
   "id": "8dc5ef09",
   "metadata": {},
   "source": [
    "Vamos ficar com a ultima propositura de cada emenda"
   ]
  },
  {
   "cell_type": "code",
   "execution_count": 19,
   "id": "8faffff2",
   "metadata": {},
   "outputs": [],
   "source": [
    "df_emendas_vereadores.drop_duplicates(['Numero', 'Vereador', 'ano'], inplace=True, keep='last')"
   ]
  },
  {
   "cell_type": "code",
   "execution_count": 20,
   "id": "438ac5bc",
   "metadata": {},
   "outputs": [],
   "source": [
    "df_emendas_vereadores = df_emendas_vereadores[['Numero', 'Vereador', 'ano', 'Motivo']].copy()"
   ]
  },
  {
   "cell_type": "code",
   "execution_count": 21,
   "id": "4acd8aa0",
   "metadata": {},
   "outputs": [],
   "source": [
    "df_emendas_vereadores.rename(columns={'Numero': 'num_emenda', 'Vereador': 'cod_vereador', 'Motivo' : 'motivo'}, inplace=True)"
   ]
  },
  {
   "cell_type": "code",
   "execution_count": 22,
   "id": "ead0ba20",
   "metadata": {},
   "outputs": [
    {
     "data": {
      "text/html": [
       "<div>\n",
       "<style scoped>\n",
       "    .dataframe tbody tr th:only-of-type {\n",
       "        vertical-align: middle;\n",
       "    }\n",
       "\n",
       "    .dataframe tbody tr th {\n",
       "        vertical-align: top;\n",
       "    }\n",
       "\n",
       "    .dataframe thead th {\n",
       "        text-align: right;\n",
       "    }\n",
       "</style>\n",
       "<table border=\"1\" class=\"dataframe\">\n",
       "  <thead>\n",
       "    <tr style=\"text-align: right;\">\n",
       "      <th></th>\n",
       "      <th>num_emenda</th>\n",
       "      <th>cod_vereador</th>\n",
       "      <th>ano</th>\n",
       "      <th>motivo</th>\n",
       "    </tr>\n",
       "  </thead>\n",
       "  <tbody>\n",
       "    <tr>\n",
       "      <th>0</th>\n",
       "      <td>79</td>\n",
       "      <td>1454</td>\n",
       "      <td>2022</td>\n",
       "      <td>Trata-se de importante medida para garantir os...</td>\n",
       "    </tr>\n",
       "    <tr>\n",
       "      <th>1</th>\n",
       "      <td>85</td>\n",
       "      <td>1451</td>\n",
       "      <td>2022</td>\n",
       "      <td>contratação de equipes  de logradouros para at...</td>\n",
       "    </tr>\n",
       "    <tr>\n",
       "      <th>2</th>\n",
       "      <td>86</td>\n",
       "      <td>1451</td>\n",
       "      <td>2022</td>\n",
       "      <td>para atendimento de demandas relacionadas a co...</td>\n",
       "    </tr>\n",
       "    <tr>\n",
       "      <th>3</th>\n",
       "      <td>87</td>\n",
       "      <td>1451</td>\n",
       "      <td>2022</td>\n",
       "      <td>Atender demanda relacionadas a conservação e m...</td>\n",
       "    </tr>\n",
       "    <tr>\n",
       "      <th>4</th>\n",
       "      <td>88</td>\n",
       "      <td>1451</td>\n",
       "      <td>2022</td>\n",
       "      <td>A propositura dos recursos ira levar a comunid...</td>\n",
       "    </tr>\n",
       "  </tbody>\n",
       "</table>\n",
       "</div>"
      ],
      "text/plain": [
       "   num_emenda  cod_vereador   ano  \\\n",
       "0          79          1454  2022   \n",
       "1          85          1451  2022   \n",
       "2          86          1451  2022   \n",
       "3          87          1451  2022   \n",
       "4          88          1451  2022   \n",
       "\n",
       "                                              motivo  \n",
       "0  Trata-se de importante medida para garantir os...  \n",
       "1  contratação de equipes  de logradouros para at...  \n",
       "2  para atendimento de demandas relacionadas a co...  \n",
       "3  Atender demanda relacionadas a conservação e m...  \n",
       "4  A propositura dos recursos ira levar a comunid...  "
      ]
     },
     "execution_count": 22,
     "metadata": {},
     "output_type": "execute_result"
    }
   ],
   "source": [
    "df_emendas_vereadores.head()"
   ]
  },
  {
   "cell_type": "code",
   "execution_count": 23,
   "id": "750e2aaa",
   "metadata": {},
   "outputs": [
    {
     "data": {
      "text/plain": [
       "np.False_"
      ]
     },
     "execution_count": 23,
     "metadata": {},
     "output_type": "execute_result"
    }
   ],
   "source": [
    "df_emendas_vereadores.duplicated().any()"
   ]
  },
  {
   "cell_type": "code",
   "execution_count": 24,
   "id": "ff73dc42",
   "metadata": {},
   "outputs": [
    {
     "data": {
      "text/html": [
       "<div>\n",
       "<style scoped>\n",
       "    .dataframe tbody tr th:only-of-type {\n",
       "        vertical-align: middle;\n",
       "    }\n",
       "\n",
       "    .dataframe tbody tr th {\n",
       "        vertical-align: top;\n",
       "    }\n",
       "\n",
       "    .dataframe thead th {\n",
       "        text-align: right;\n",
       "    }\n",
       "</style>\n",
       "<table border=\"1\" class=\"dataframe\">\n",
       "  <thead>\n",
       "    <tr style=\"text-align: right;\">\n",
       "      <th></th>\n",
       "      <th>Numero</th>\n",
       "      <th>Apelido</th>\n",
       "      <th>Nome</th>\n",
       "      <th>Partido</th>\n",
       "      <th>ano</th>\n",
       "    </tr>\n",
       "  </thead>\n",
       "  <tbody>\n",
       "    <tr>\n",
       "      <th>0</th>\n",
       "      <td>1423</td>\n",
       "      <td>ANDRÉ SANTOS</td>\n",
       "      <td>ANDRÉ SANTOS</td>\n",
       "      <td>10</td>\n",
       "      <td>2022</td>\n",
       "    </tr>\n",
       "    <tr>\n",
       "      <th>1</th>\n",
       "      <td>1430</td>\n",
       "      <td>ATÍLIO FRANCISCO</td>\n",
       "      <td>ATÍLIO FRANCISCO</td>\n",
       "      <td>10</td>\n",
       "      <td>2022</td>\n",
       "    </tr>\n",
       "    <tr>\n",
       "      <th>2</th>\n",
       "      <td>1472</td>\n",
       "      <td>Bancada REPUBLICANOS</td>\n",
       "      <td>Bancada REPUBLICANOS</td>\n",
       "      <td>10</td>\n",
       "      <td>2022</td>\n",
       "    </tr>\n",
       "    <tr>\n",
       "      <th>3</th>\n",
       "      <td>1473</td>\n",
       "      <td>Liderança REPUBLICANOS</td>\n",
       "      <td>Liderança REPUBLICANOS</td>\n",
       "      <td>10</td>\n",
       "      <td>2022</td>\n",
       "    </tr>\n",
       "    <tr>\n",
       "      <th>4</th>\n",
       "      <td>1457</td>\n",
       "      <td>SANSÃO PEREIRA</td>\n",
       "      <td>SANSÃO PEREIRA</td>\n",
       "      <td>10</td>\n",
       "      <td>2022</td>\n",
       "    </tr>\n",
       "  </tbody>\n",
       "</table>\n",
       "</div>"
      ],
      "text/plain": [
       "   Numero                 Apelido                    Nome  Partido   ano\n",
       "0    1423            ANDRÉ SANTOS            ANDRÉ SANTOS       10  2022\n",
       "1    1430        ATÍLIO FRANCISCO        ATÍLIO FRANCISCO       10  2022\n",
       "2    1472    Bancada REPUBLICANOS    Bancada REPUBLICANOS       10  2022\n",
       "3    1473  Liderança REPUBLICANOS  Liderança REPUBLICANOS       10  2022\n",
       "4    1457          SANSÃO PEREIRA          SANSÃO PEREIRA       10  2022"
      ]
     },
     "execution_count": 24,
     "metadata": {},
     "output_type": "execute_result"
    }
   ],
   "source": [
    "df_vereadores.head()"
   ]
  },
  {
   "cell_type": "code",
   "execution_count": 25,
   "id": "466f2668",
   "metadata": {},
   "outputs": [],
   "source": [
    "df_vereadores = df_vereadores[['Numero', 'Apelido', 'Partido', 'ano']].copy()\n",
    "df_vereadores.rename(columns={'Numero': 'cod_vereador', 'Apelido': 'apelido', 'Partido' : 'cod_partido'}, inplace=True)"
   ]
  },
  {
   "cell_type": "code",
   "execution_count": 26,
   "id": "8fda8eb8",
   "metadata": {},
   "outputs": [
    {
     "data": {
      "text/html": [
       "<div>\n",
       "<style scoped>\n",
       "    .dataframe tbody tr th:only-of-type {\n",
       "        vertical-align: middle;\n",
       "    }\n",
       "\n",
       "    .dataframe tbody tr th {\n",
       "        vertical-align: top;\n",
       "    }\n",
       "\n",
       "    .dataframe thead th {\n",
       "        text-align: right;\n",
       "    }\n",
       "</style>\n",
       "<table border=\"1\" class=\"dataframe\">\n",
       "  <thead>\n",
       "    <tr style=\"text-align: right;\">\n",
       "      <th></th>\n",
       "      <th>cod_vereador</th>\n",
       "      <th>apelido</th>\n",
       "      <th>cod_partido</th>\n",
       "      <th>ano</th>\n",
       "    </tr>\n",
       "  </thead>\n",
       "  <tbody>\n",
       "    <tr>\n",
       "      <th>0</th>\n",
       "      <td>1423</td>\n",
       "      <td>ANDRÉ SANTOS</td>\n",
       "      <td>10</td>\n",
       "      <td>2022</td>\n",
       "    </tr>\n",
       "    <tr>\n",
       "      <th>1</th>\n",
       "      <td>1430</td>\n",
       "      <td>ATÍLIO FRANCISCO</td>\n",
       "      <td>10</td>\n",
       "      <td>2022</td>\n",
       "    </tr>\n",
       "    <tr>\n",
       "      <th>2</th>\n",
       "      <td>1472</td>\n",
       "      <td>Bancada REPUBLICANOS</td>\n",
       "      <td>10</td>\n",
       "      <td>2022</td>\n",
       "    </tr>\n",
       "    <tr>\n",
       "      <th>3</th>\n",
       "      <td>1473</td>\n",
       "      <td>Liderança REPUBLICANOS</td>\n",
       "      <td>10</td>\n",
       "      <td>2022</td>\n",
       "    </tr>\n",
       "    <tr>\n",
       "      <th>4</th>\n",
       "      <td>1457</td>\n",
       "      <td>SANSÃO PEREIRA</td>\n",
       "      <td>10</td>\n",
       "      <td>2022</td>\n",
       "    </tr>\n",
       "  </tbody>\n",
       "</table>\n",
       "</div>"
      ],
      "text/plain": [
       "   cod_vereador                 apelido  cod_partido   ano\n",
       "0          1423            ANDRÉ SANTOS           10  2022\n",
       "1          1430        ATÍLIO FRANCISCO           10  2022\n",
       "2          1472    Bancada REPUBLICANOS           10  2022\n",
       "3          1473  Liderança REPUBLICANOS           10  2022\n",
       "4          1457          SANSÃO PEREIRA           10  2022"
      ]
     },
     "execution_count": 26,
     "metadata": {},
     "output_type": "execute_result"
    }
   ],
   "source": [
    "df_vereadores.head()"
   ]
  },
  {
   "cell_type": "code",
   "execution_count": 27,
   "id": "8e0905f1",
   "metadata": {},
   "outputs": [
    {
     "data": {
      "text/plain": [
       "np.False_"
      ]
     },
     "execution_count": 27,
     "metadata": {},
     "output_type": "execute_result"
    }
   ],
   "source": [
    "df_vereadores.duplicated().any()"
   ]
  },
  {
   "cell_type": "code",
   "execution_count": 28,
   "id": "fd385c55",
   "metadata": {},
   "outputs": [
    {
     "data": {
      "text/html": [
       "<div>\n",
       "<style scoped>\n",
       "    .dataframe tbody tr th:only-of-type {\n",
       "        vertical-align: middle;\n",
       "    }\n",
       "\n",
       "    .dataframe tbody tr th {\n",
       "        vertical-align: top;\n",
       "    }\n",
       "\n",
       "    .dataframe thead th {\n",
       "        text-align: right;\n",
       "    }\n",
       "</style>\n",
       "<table border=\"1\" class=\"dataframe\">\n",
       "  <thead>\n",
       "    <tr style=\"text-align: right;\">\n",
       "      <th></th>\n",
       "      <th>Numero</th>\n",
       "      <th>Nome</th>\n",
       "      <th>Sigla</th>\n",
       "      <th>ano</th>\n",
       "    </tr>\n",
       "  </thead>\n",
       "  <tbody>\n",
       "    <tr>\n",
       "      <th>0</th>\n",
       "      <td>10</td>\n",
       "      <td>REPUBLICANOS</td>\n",
       "      <td>REPUBLICANOS</td>\n",
       "      <td>2022</td>\n",
       "    </tr>\n",
       "    <tr>\n",
       "      <th>1</th>\n",
       "      <td>11</td>\n",
       "      <td>PARTIDO PROGRESSISTA</td>\n",
       "      <td>PP</td>\n",
       "      <td>2022</td>\n",
       "    </tr>\n",
       "    <tr>\n",
       "      <th>2</th>\n",
       "      <td>12</td>\n",
       "      <td>PARTIDO DEMOCRATICO TRABALHISTA</td>\n",
       "      <td>PDT</td>\n",
       "      <td>2022</td>\n",
       "    </tr>\n",
       "    <tr>\n",
       "      <th>3</th>\n",
       "      <td>13</td>\n",
       "      <td>PARTIDO DOS TRABALHADORES</td>\n",
       "      <td>PT</td>\n",
       "      <td>2022</td>\n",
       "    </tr>\n",
       "    <tr>\n",
       "      <th>4</th>\n",
       "      <td>14</td>\n",
       "      <td>PARTIDO TRABALHISTA BRASILEIRO</td>\n",
       "      <td>PTB</td>\n",
       "      <td>2022</td>\n",
       "    </tr>\n",
       "  </tbody>\n",
       "</table>\n",
       "</div>"
      ],
      "text/plain": [
       "   Numero                             Nome         Sigla   ano\n",
       "0      10                     REPUBLICANOS  REPUBLICANOS  2022\n",
       "1      11             PARTIDO PROGRESSISTA            PP  2022\n",
       "2      12  PARTIDO DEMOCRATICO TRABALHISTA           PDT  2022\n",
       "3      13        PARTIDO DOS TRABALHADORES            PT  2022\n",
       "4      14   PARTIDO TRABALHISTA BRASILEIRO           PTB  2022"
      ]
     },
     "execution_count": 28,
     "metadata": {},
     "output_type": "execute_result"
    }
   ],
   "source": [
    "df_partidos.head()"
   ]
  },
  {
   "cell_type": "code",
   "execution_count": 29,
   "id": "cdad73a6",
   "metadata": {},
   "outputs": [],
   "source": [
    "df_partidos = df_partidos[['Numero', 'Sigla', 'Nome', 'ano']].copy()"
   ]
  },
  {
   "cell_type": "code",
   "execution_count": 30,
   "id": "91d364b9",
   "metadata": {},
   "outputs": [],
   "source": [
    "df_partidos.rename(columns={'Numero': 'cod_partido', 'Sigla': 'sigla', 'Nome' : 'nome_partido'}, inplace=True)"
   ]
  },
  {
   "cell_type": "code",
   "execution_count": 31,
   "id": "6c4a602d",
   "metadata": {},
   "outputs": [
    {
     "data": {
      "text/plain": [
       "np.False_"
      ]
     },
     "execution_count": 31,
     "metadata": {},
     "output_type": "execute_result"
    }
   ],
   "source": [
    "df_partidos.duplicated().any()"
   ]
  },
  {
   "cell_type": "markdown",
   "id": "b25e96f7",
   "metadata": {},
   "source": [
    "## Joins\n",
    "\n",
    "\n",
    "Agora vamos unificar os datasets em um único"
   ]
  },
  {
   "cell_type": "markdown",
   "id": "c18e3741",
   "metadata": {},
   "source": [
    "### Join vereadores\n",
    "\n",
    "Unir vereadores e partidos."
   ]
  },
  {
   "cell_type": "code",
   "execution_count": 32,
   "id": "9347603b",
   "metadata": {},
   "outputs": [
    {
     "data": {
      "text/plain": [
       "np.False_"
      ]
     },
     "execution_count": 32,
     "metadata": {},
     "output_type": "execute_result"
    }
   ],
   "source": [
    "df_vereadores['cod_partido'].isnull().any()"
   ]
  },
  {
   "cell_type": "code",
   "execution_count": 33,
   "id": "c9d3239b",
   "metadata": {},
   "outputs": [
    {
     "data": {
      "text/plain": [
       "116    10\n",
       "144    15\n",
       "2      10\n",
       "Name: cod_partido, dtype: int64"
      ]
     },
     "execution_count": 33,
     "metadata": {},
     "output_type": "execute_result"
    }
   ],
   "source": [
    "df_vereadores['cod_partido'].sample(3)  "
   ]
  },
  {
   "cell_type": "code",
   "execution_count": 34,
   "id": "f399c7ac",
   "metadata": {},
   "outputs": [
    {
     "data": {
      "text/plain": [
       "np.False_"
      ]
     },
     "execution_count": 34,
     "metadata": {},
     "output_type": "execute_result"
    }
   ],
   "source": [
    "df_partidos['cod_partido'].isnull().any()"
   ]
  },
  {
   "cell_type": "code",
   "execution_count": 35,
   "id": "5c00844f",
   "metadata": {},
   "outputs": [
    {
     "data": {
      "text/plain": [
       "14     54\n",
       "53    105\n",
       "33     13\n",
       "Name: cod_partido, dtype: int64"
      ]
     },
     "execution_count": 35,
     "metadata": {},
     "output_type": "execute_result"
    }
   ],
   "source": [
    "df_partidos['cod_partido'].sample(3)"
   ]
  },
  {
   "cell_type": "code",
   "execution_count": 36,
   "id": "dc78e3dc",
   "metadata": {},
   "outputs": [],
   "source": [
    "df_vereadores_partido = pd.merge(df_vereadores, df_partidos, how='left', on=['ano', 'cod_partido'])"
   ]
  },
  {
   "cell_type": "code",
   "execution_count": 37,
   "id": "cc0b56b5",
   "metadata": {},
   "outputs": [
    {
     "data": {
      "text/plain": [
       "np.False_"
      ]
     },
     "execution_count": 37,
     "metadata": {},
     "output_type": "execute_result"
    }
   ],
   "source": [
    "df_vereadores_partido['cod_partido'].isnull().any()"
   ]
  },
  {
   "cell_type": "code",
   "execution_count": 38,
   "id": "e73cfb4e",
   "metadata": {},
   "outputs": [
    {
     "data": {
      "text/html": [
       "<div>\n",
       "<style scoped>\n",
       "    .dataframe tbody tr th:only-of-type {\n",
       "        vertical-align: middle;\n",
       "    }\n",
       "\n",
       "    .dataframe tbody tr th {\n",
       "        vertical-align: top;\n",
       "    }\n",
       "\n",
       "    .dataframe thead th {\n",
       "        text-align: right;\n",
       "    }\n",
       "</style>\n",
       "<table border=\"1\" class=\"dataframe\">\n",
       "  <thead>\n",
       "    <tr style=\"text-align: right;\">\n",
       "      <th></th>\n",
       "      <th>cod_vereador</th>\n",
       "      <th>apelido</th>\n",
       "      <th>cod_partido</th>\n",
       "      <th>ano</th>\n",
       "      <th>sigla</th>\n",
       "      <th>nome_partido</th>\n",
       "    </tr>\n",
       "  </thead>\n",
       "  <tbody>\n",
       "    <tr>\n",
       "      <th>0</th>\n",
       "      <td>1423</td>\n",
       "      <td>ANDRÉ SANTOS</td>\n",
       "      <td>10</td>\n",
       "      <td>2022</td>\n",
       "      <td>REPUBLICANOS</td>\n",
       "      <td>REPUBLICANOS</td>\n",
       "    </tr>\n",
       "    <tr>\n",
       "      <th>1</th>\n",
       "      <td>1430</td>\n",
       "      <td>ATÍLIO FRANCISCO</td>\n",
       "      <td>10</td>\n",
       "      <td>2022</td>\n",
       "      <td>REPUBLICANOS</td>\n",
       "      <td>REPUBLICANOS</td>\n",
       "    </tr>\n",
       "    <tr>\n",
       "      <th>2</th>\n",
       "      <td>1472</td>\n",
       "      <td>Bancada REPUBLICANOS</td>\n",
       "      <td>10</td>\n",
       "      <td>2022</td>\n",
       "      <td>REPUBLICANOS</td>\n",
       "      <td>REPUBLICANOS</td>\n",
       "    </tr>\n",
       "    <tr>\n",
       "      <th>3</th>\n",
       "      <td>1473</td>\n",
       "      <td>Liderança REPUBLICANOS</td>\n",
       "      <td>10</td>\n",
       "      <td>2022</td>\n",
       "      <td>REPUBLICANOS</td>\n",
       "      <td>REPUBLICANOS</td>\n",
       "    </tr>\n",
       "    <tr>\n",
       "      <th>4</th>\n",
       "      <td>1457</td>\n",
       "      <td>SANSÃO PEREIRA</td>\n",
       "      <td>10</td>\n",
       "      <td>2022</td>\n",
       "      <td>REPUBLICANOS</td>\n",
       "      <td>REPUBLICANOS</td>\n",
       "    </tr>\n",
       "  </tbody>\n",
       "</table>\n",
       "</div>"
      ],
      "text/plain": [
       "   cod_vereador                 apelido  cod_partido   ano         sigla  \\\n",
       "0          1423            ANDRÉ SANTOS           10  2022  REPUBLICANOS   \n",
       "1          1430        ATÍLIO FRANCISCO           10  2022  REPUBLICANOS   \n",
       "2          1472    Bancada REPUBLICANOS           10  2022  REPUBLICANOS   \n",
       "3          1473  Liderança REPUBLICANOS           10  2022  REPUBLICANOS   \n",
       "4          1457          SANSÃO PEREIRA           10  2022  REPUBLICANOS   \n",
       "\n",
       "   nome_partido  \n",
       "0  REPUBLICANOS  \n",
       "1  REPUBLICANOS  \n",
       "2  REPUBLICANOS  \n",
       "3  REPUBLICANOS  \n",
       "4  REPUBLICANOS  "
      ]
     },
     "execution_count": 38,
     "metadata": {},
     "output_type": "execute_result"
    }
   ],
   "source": [
    "df_vereadores_partido.head()"
   ]
  },
  {
   "cell_type": "markdown",
   "id": "9735f1b8",
   "metadata": {},
   "source": [
    "## Join emendas"
   ]
  },
  {
   "cell_type": "code",
   "execution_count": 39,
   "id": "12101a4f",
   "metadata": {},
   "outputs": [
    {
     "data": {
      "text/html": [
       "<div>\n",
       "<style scoped>\n",
       "    .dataframe tbody tr th:only-of-type {\n",
       "        vertical-align: middle;\n",
       "    }\n",
       "\n",
       "    .dataframe tbody tr th {\n",
       "        vertical-align: top;\n",
       "    }\n",
       "\n",
       "    .dataframe thead th {\n",
       "        text-align: right;\n",
       "    }\n",
       "</style>\n",
       "<table border=\"1\" class=\"dataframe\">\n",
       "  <thead>\n",
       "    <tr style=\"text-align: right;\">\n",
       "      <th></th>\n",
       "      <th>num_emenda</th>\n",
       "      <th>cod_vereador</th>\n",
       "      <th>ano</th>\n",
       "      <th>motivo</th>\n",
       "    </tr>\n",
       "  </thead>\n",
       "  <tbody>\n",
       "    <tr>\n",
       "      <th>0</th>\n",
       "      <td>79</td>\n",
       "      <td>1454</td>\n",
       "      <td>2022</td>\n",
       "      <td>Trata-se de importante medida para garantir os...</td>\n",
       "    </tr>\n",
       "    <tr>\n",
       "      <th>1</th>\n",
       "      <td>85</td>\n",
       "      <td>1451</td>\n",
       "      <td>2022</td>\n",
       "      <td>contratação de equipes  de logradouros para at...</td>\n",
       "    </tr>\n",
       "    <tr>\n",
       "      <th>2</th>\n",
       "      <td>86</td>\n",
       "      <td>1451</td>\n",
       "      <td>2022</td>\n",
       "      <td>para atendimento de demandas relacionadas a co...</td>\n",
       "    </tr>\n",
       "    <tr>\n",
       "      <th>3</th>\n",
       "      <td>87</td>\n",
       "      <td>1451</td>\n",
       "      <td>2022</td>\n",
       "      <td>Atender demanda relacionadas a conservação e m...</td>\n",
       "    </tr>\n",
       "    <tr>\n",
       "      <th>4</th>\n",
       "      <td>88</td>\n",
       "      <td>1451</td>\n",
       "      <td>2022</td>\n",
       "      <td>A propositura dos recursos ira levar a comunid...</td>\n",
       "    </tr>\n",
       "  </tbody>\n",
       "</table>\n",
       "</div>"
      ],
      "text/plain": [
       "   num_emenda  cod_vereador   ano  \\\n",
       "0          79          1454  2022   \n",
       "1          85          1451  2022   \n",
       "2          86          1451  2022   \n",
       "3          87          1451  2022   \n",
       "4          88          1451  2022   \n",
       "\n",
       "                                              motivo  \n",
       "0  Trata-se de importante medida para garantir os...  \n",
       "1  contratação de equipes  de logradouros para at...  \n",
       "2  para atendimento de demandas relacionadas a co...  \n",
       "3  Atender demanda relacionadas a conservação e m...  \n",
       "4  A propositura dos recursos ira levar a comunid...  "
      ]
     },
     "execution_count": 39,
     "metadata": {},
     "output_type": "execute_result"
    }
   ],
   "source": [
    "df_emendas_vereadores.head()"
   ]
  },
  {
   "cell_type": "code",
   "execution_count": 40,
   "id": "1b28c9a9",
   "metadata": {},
   "outputs": [],
   "source": [
    "df_emendas_vereadores_detalhado = pd.merge(df_emendas_vereadores, df_vereadores_partido, how='left', on=['ano', 'cod_vereador'])"
   ]
  },
  {
   "cell_type": "code",
   "execution_count": 41,
   "id": "cb653a52",
   "metadata": {},
   "outputs": [
    {
     "data": {
      "text/html": [
       "<div>\n",
       "<style scoped>\n",
       "    .dataframe tbody tr th:only-of-type {\n",
       "        vertical-align: middle;\n",
       "    }\n",
       "\n",
       "    .dataframe tbody tr th {\n",
       "        vertical-align: top;\n",
       "    }\n",
       "\n",
       "    .dataframe thead th {\n",
       "        text-align: right;\n",
       "    }\n",
       "</style>\n",
       "<table border=\"1\" class=\"dataframe\">\n",
       "  <thead>\n",
       "    <tr style=\"text-align: right;\">\n",
       "      <th></th>\n",
       "      <th>num_emenda</th>\n",
       "      <th>cod_vereador</th>\n",
       "      <th>ano</th>\n",
       "      <th>motivo</th>\n",
       "      <th>apelido</th>\n",
       "      <th>cod_partido</th>\n",
       "      <th>sigla</th>\n",
       "      <th>nome_partido</th>\n",
       "    </tr>\n",
       "  </thead>\n",
       "  <tbody>\n",
       "    <tr>\n",
       "      <th>0</th>\n",
       "      <td>79</td>\n",
       "      <td>1454</td>\n",
       "      <td>2022</td>\n",
       "      <td>Trata-se de importante medida para garantir os...</td>\n",
       "      <td>RODRIGO GOULART</td>\n",
       "      <td>41</td>\n",
       "      <td>PSD</td>\n",
       "      <td>PARTIDO SOCIAL DEMOCRATICO</td>\n",
       "    </tr>\n",
       "    <tr>\n",
       "      <th>1</th>\n",
       "      <td>85</td>\n",
       "      <td>1451</td>\n",
       "      <td>2022</td>\n",
       "      <td>contratação de equipes  de logradouros para at...</td>\n",
       "      <td>RINALDI DIGILIO</td>\n",
       "      <td>107</td>\n",
       "      <td>PSL</td>\n",
       "      <td>PARTIDO SOCIAL LIBERAL</td>\n",
       "    </tr>\n",
       "    <tr>\n",
       "      <th>2</th>\n",
       "      <td>86</td>\n",
       "      <td>1451</td>\n",
       "      <td>2022</td>\n",
       "      <td>para atendimento de demandas relacionadas a co...</td>\n",
       "      <td>RINALDI DIGILIO</td>\n",
       "      <td>107</td>\n",
       "      <td>PSL</td>\n",
       "      <td>PARTIDO SOCIAL LIBERAL</td>\n",
       "    </tr>\n",
       "    <tr>\n",
       "      <th>3</th>\n",
       "      <td>87</td>\n",
       "      <td>1451</td>\n",
       "      <td>2022</td>\n",
       "      <td>Atender demanda relacionadas a conservação e m...</td>\n",
       "      <td>RINALDI DIGILIO</td>\n",
       "      <td>107</td>\n",
       "      <td>PSL</td>\n",
       "      <td>PARTIDO SOCIAL LIBERAL</td>\n",
       "    </tr>\n",
       "    <tr>\n",
       "      <th>4</th>\n",
       "      <td>88</td>\n",
       "      <td>1451</td>\n",
       "      <td>2022</td>\n",
       "      <td>A propositura dos recursos ira levar a comunid...</td>\n",
       "      <td>RINALDI DIGILIO</td>\n",
       "      <td>107</td>\n",
       "      <td>PSL</td>\n",
       "      <td>PARTIDO SOCIAL LIBERAL</td>\n",
       "    </tr>\n",
       "  </tbody>\n",
       "</table>\n",
       "</div>"
      ],
      "text/plain": [
       "   num_emenda  cod_vereador   ano  \\\n",
       "0          79          1454  2022   \n",
       "1          85          1451  2022   \n",
       "2          86          1451  2022   \n",
       "3          87          1451  2022   \n",
       "4          88          1451  2022   \n",
       "\n",
       "                                              motivo          apelido  \\\n",
       "0  Trata-se de importante medida para garantir os...  RODRIGO GOULART   \n",
       "1  contratação de equipes  de logradouros para at...  RINALDI DIGILIO   \n",
       "2  para atendimento de demandas relacionadas a co...  RINALDI DIGILIO   \n",
       "3  Atender demanda relacionadas a conservação e m...  RINALDI DIGILIO   \n",
       "4  A propositura dos recursos ira levar a comunid...  RINALDI DIGILIO   \n",
       "\n",
       "   cod_partido sigla                nome_partido  \n",
       "0           41   PSD  PARTIDO SOCIAL DEMOCRATICO  \n",
       "1          107   PSL      PARTIDO SOCIAL LIBERAL  \n",
       "2          107   PSL      PARTIDO SOCIAL LIBERAL  \n",
       "3          107   PSL      PARTIDO SOCIAL LIBERAL  \n",
       "4          107   PSL      PARTIDO SOCIAL LIBERAL  "
      ]
     },
     "execution_count": 41,
     "metadata": {},
     "output_type": "execute_result"
    }
   ],
   "source": [
    "df_emendas_vereadores_detalhado.head()"
   ]
  },
  {
   "cell_type": "code",
   "execution_count": 42,
   "id": "54fc0d24",
   "metadata": {},
   "outputs": [
    {
     "data": {
      "text/plain": [
       "np.False_"
      ]
     },
     "execution_count": 42,
     "metadata": {},
     "output_type": "execute_result"
    }
   ],
   "source": [
    "df_emendas_vereadores_detalhado['sigla'].isnull().any()"
   ]
  },
  {
   "cell_type": "code",
   "execution_count": 43,
   "id": "b91bf739",
   "metadata": {},
   "outputs": [],
   "source": [
    "df_emendas_vereadores_detalhado.rename({'sigla' : 'sigla_partido', 'motivo' : 'motivo_emenda'}, axis=1, inplace=True)"
   ]
  },
  {
   "cell_type": "code",
   "execution_count": 44,
   "id": "0dac0ad5",
   "metadata": {},
   "outputs": [
    {
     "data": {
      "text/plain": [
       "apelido\n",
       "SIDNEY CRUZ                  327\n",
       "DR. SIDNEY CRUZ              150\n",
       "PROFESSOR TONINHO VESPOLI    134\n",
       "LUANA ALVES                  129\n",
       "MILTON LEITE                  57\n",
       "CELSO GIANNAZI                36\n",
       "ARSELINO TATTO                34\n",
       "RICARDO TEIXEIRA              30\n",
       "SANSÃO PEREIRA                27\n",
       "ATÍLIO FRANCISCO              25\n",
       "Name: num_emenda, dtype: int64"
      ]
     },
     "execution_count": 44,
     "metadata": {},
     "output_type": "execute_result"
    }
   ],
   "source": [
    "df_emendas_vereadores_detalhado.groupby('apelido').count()['num_emenda'].nlargest(10)"
   ]
  },
  {
   "cell_type": "code",
   "execution_count": 45,
   "id": "9e7f659e",
   "metadata": {},
   "outputs": [
    {
     "data": {
      "text/plain": [
       "sigla_partido\n",
       "SOLIDARIEDADE    389\n",
       "PSOL             349\n",
       "MDB              128\n",
       "PT               126\n",
       "UNIÃO            108\n",
       "PSDB              73\n",
       "REPUBLICANOS      67\n",
       "PSD               40\n",
       "DEM               27\n",
       "PL                21\n",
       "Name: num_emenda, dtype: int64"
      ]
     },
     "execution_count": 45,
     "metadata": {},
     "output_type": "execute_result"
    }
   ],
   "source": [
    "df_emendas_vereadores_detalhado.groupby('sigla_partido').count()['num_emenda'].nlargest(10)"
   ]
  },
  {
   "cell_type": "code",
   "execution_count": 46,
   "id": "9ce0465b",
   "metadata": {},
   "outputs": [
    {
     "data": {
      "text/plain": [
       "array(['PSD', 'PSL', 'PT', 'PSB', 'REPUBLICANOS', 'PSDB', 'PL', 'PSOL',\n",
       "       'MDB', 'PATRIOTA', 'PSC', 'DEM', 'PTB', 'PODE', 'NOVO', 'PV',\n",
       "       'SOLIDARIEDADE', 'PP', 'UNIÃO', 'AVANTE', 'Sem Filiação'],\n",
       "      dtype=object)"
      ]
     },
     "execution_count": 46,
     "metadata": {},
     "output_type": "execute_result"
    }
   ],
   "source": [
    "df_emendas_vereadores_detalhado['sigla_partido'].unique()"
   ]
  },
  {
   "cell_type": "code",
   "execution_count": 47,
   "id": "8d47c487",
   "metadata": {},
   "outputs": [],
   "source": [
    "df_emendas_vereadores_detalhado.to_csv(os.path.join(DATA_FOLDER, 'df_merge_emendas_vereadores.csv'), index=False, sep=';')"
   ]
  }
 ],
 "metadata": {
  "kernelspec": {
   "display_name": "venv",
   "language": "python",
   "name": "python3"
  },
  "language_info": {
   "codemirror_mode": {
    "name": "ipython",
    "version": 3
   },
   "file_extension": ".py",
   "mimetype": "text/x-python",
   "name": "python",
   "nbconvert_exporter": "python",
   "pygments_lexer": "ipython3",
   "version": "3.13.3"
  }
 },
 "nbformat": 4,
 "nbformat_minor": 5
}
