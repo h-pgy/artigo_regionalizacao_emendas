{
 "cells": [
  {
   "cell_type": "markdown",
   "id": "93a091d1",
   "metadata": {},
   "source": [
    "# Extract and clean regionalizacao\n",
    "\n",
    "Neste notebook extraímos os dados de regionalização da LOA e fazemos a limpeza dos dados."
   ]
  },
  {
   "cell_type": "code",
   "execution_count": 1,
   "id": "0a842a64",
   "metadata": {},
   "outputs": [],
   "source": [
    "import pandas as pd\n",
    "from typing import Optional\n",
    "import plotly.graph_objects as go\n",
    "import os\n",
    "\n",
    "from utils.download_file import download_csv_as_dataframe\n",
    "\n",
    "from config import DATA_FOLDER, GRAFICOS_FOLDER \n",
    "\n",
    "pd.set_option('display.max_columns', None)"
   ]
  },
  {
   "cell_type": "markdown",
   "id": "30e1d299",
   "metadata": {},
   "source": [
    "## Extração dos dados"
   ]
  },
  {
   "cell_type": "code",
   "execution_count": 2,
   "id": "a1dc74f3",
   "metadata": {},
   "outputs": [],
   "source": [
    "class DownloadLoaRegionalizada:\n",
    "\n",
    "    base_url = 'https://orcamento.sf.prefeitura.sp.gov.br/orcamento/uploads'\n",
    "\n",
    "    files = {\n",
    "\n",
    "        2025 : 'LOA.25_VersionamentoDetalhamentoAcao.csv',\n",
    "        2024 : 'DAAprovado2024.csv',\n",
    "        2023 : 'DAAprovado2023.csv',\n",
    "        2022 : 'DAAprovado2022.csv'\n",
    "    }\n",
    "\n",
    "    def __build_url(self, year: int) -> str:\n",
    "        \"\"\"\n",
    "        Builds the complete URL for downloading the LOA file for a given year.\n",
    "\n",
    "        Args:\n",
    "            year (int): The year for which the LOA file URL is to be built.\n",
    "\n",
    "        Returns:\n",
    "            str: The complete URL as a string.\n",
    "        \"\"\"\n",
    "        endpoint = f'{year}/{self.files[year]}'\n",
    "        return self.base_url + '/' + endpoint\n",
    "\n",
    "    def __download(self, year: int, **read_kwargs)->pd.DataFrame:\n",
    "        \"\"\"\n",
    "        Downloads the LOA file for a given year and returns it as a pandas DataFrame.\n",
    "\n",
    "        Args:\n",
    "            year (int): The year for which the LOA file is to be downloaded.\n",
    "\n",
    "        Returns:\n",
    "            pd.DataFrame: The downloaded LOA file as a pandas DataFrame.\n",
    "        \"\"\"\n",
    "\n",
    "\n",
    "\n",
    "        url = self.__build_url(year)\n",
    "        df = download_csv_as_dataframe(url, **read_kwargs)\n",
    "        \n",
    "        return df\n",
    "\n",
    "    def __concat_year_dfs(self, year_list:[str], **read_kwargs)->pd.DataFrame:\n",
    "        \"\"\"\n",
    "        Concatenates DataFrames for the specified years into a single DataFrame.\n",
    "\n",
    "        Args:\n",
    "            year_list (list): List of years for which DataFrames are to be concatenated.\n",
    "\n",
    "        Returns:\n",
    "            pd.DataFrame: The concatenated DataFrame.\n",
    "        \"\"\"\n",
    "        dfs = [self.__download(year, **read_kwargs) for year in year_list]\n",
    "\n",
    "        return pd.concat(dfs, ignore_index=True)\n",
    "\n",
    "    def __describe_concated_df(self, df: pd.DataFrame) -> None:\n",
    "        \"\"\"\n",
    "        Prints the shape, columns, and missing values for the given DataFrame.\n",
    "\n",
    "        Args:\n",
    "            df (pd.DataFrame): The DataFrame to describe.\n",
    "        \"\"\"\n",
    "        print(\"Shape of DataFrame:\", df.shape)\n",
    "        print(\"Columns in DataFrame:\", df.columns.tolist())\n",
    "        print(\"Missing values per column:\")\n",
    "        print(df.isnull().sum())\n",
    "\n",
    "\n",
    "    def __call__(self, year_list: Optional[[str]]=None, **read_kwargs)->pd.DataFrame:\n",
    "        \"\"\"\n",
    "        Downloads and concatenates LOA files for the specified years.\n",
    "\n",
    "        Args:\n",
    "            year_list (list): List of years for which LOA files are to be downloaded.\n",
    "\n",
    "        Returns:\n",
    "            pd.DataFrame: The concatenated DataFrame containing the LOA data.\n",
    "        \"\"\"\n",
    "        if year_list is None:\n",
    "            year_list = self.files.keys()\n",
    "\n",
    "        df = self.__concat_year_dfs(year_list, **read_kwargs)\n",
    "        self.__describe_concated_df(df)\n",
    "\n",
    "        return df"
   ]
  },
  {
   "cell_type": "code",
   "execution_count": 3,
   "id": "37b45926",
   "metadata": {},
   "outputs": [],
   "source": [
    "download_da = DownloadLoaRegionalizada()"
   ]
  },
  {
   "cell_type": "code",
   "execution_count": 4,
   "id": "9f442b96",
   "metadata": {},
   "outputs": [
    {
     "name": "stdout",
     "output_type": "stream",
     "text": [
      "Shape of DataFrame: (62117, 22)\n",
      "Columns in DataFrame: ['COD_PROGRAMA_METAS', 'COD_COMPLT_DA', 'COD_META', 'DESC_META', 'COD_REGIAO', 'DESC_REGIAO', 'COD_SUBPREFEITURA', 'DESC_SUBPREFEITURA', 'COD_DISTRITO', 'DESC_DISTRITO', 'COD_DA', 'DESC_DA', 'VALOR_DA', 'ORGAO', 'DESC_ORGAO', 'UNIDADE', 'DESC_UNIDADE', 'PA', 'DESC_PA', 'ANO_EX', 'COD_EMP', 'NOME_EMP']\n",
      "Missing values per column:\n",
      "COD_PROGRAMA_METAS    0\n",
      "COD_COMPLT_DA         0\n",
      "COD_META              0\n",
      "DESC_META             0\n",
      "COD_REGIAO            0\n",
      "DESC_REGIAO           0\n",
      "COD_SUBPREFEITURA     0\n",
      "DESC_SUBPREFEITURA    0\n",
      "COD_DISTRITO          0\n",
      "DESC_DISTRITO         0\n",
      "COD_DA                0\n",
      "DESC_DA               0\n",
      "VALOR_DA              0\n",
      "ORGAO                 0\n",
      "DESC_ORGAO            0\n",
      "UNIDADE               0\n",
      "DESC_UNIDADE          0\n",
      "PA                    0\n",
      "DESC_PA               0\n",
      "ANO_EX                0\n",
      "COD_EMP               0\n",
      "NOME_EMP              0\n",
      "dtype: int64\n"
     ]
    }
   ],
   "source": [
    "df = download_da(encoding='latin-1', sep=';')"
   ]
  },
  {
   "cell_type": "code",
   "execution_count": 5,
   "id": "d1ba9151",
   "metadata": {},
   "outputs": [
    {
     "data": {
      "text/html": [
       "<div>\n",
       "<style scoped>\n",
       "    .dataframe tbody tr th:only-of-type {\n",
       "        vertical-align: middle;\n",
       "    }\n",
       "\n",
       "    .dataframe tbody tr th {\n",
       "        vertical-align: top;\n",
       "    }\n",
       "\n",
       "    .dataframe thead th {\n",
       "        text-align: right;\n",
       "    }\n",
       "</style>\n",
       "<table border=\"1\" class=\"dataframe\">\n",
       "  <thead>\n",
       "    <tr style=\"text-align: right;\">\n",
       "      <th></th>\n",
       "      <th>COD_PROGRAMA_METAS</th>\n",
       "      <th>COD_COMPLT_DA</th>\n",
       "      <th>COD_META</th>\n",
       "      <th>DESC_META</th>\n",
       "      <th>COD_REGIAO</th>\n",
       "      <th>DESC_REGIAO</th>\n",
       "      <th>COD_SUBPREFEITURA</th>\n",
       "      <th>DESC_SUBPREFEITURA</th>\n",
       "      <th>COD_DISTRITO</th>\n",
       "      <th>DESC_DISTRITO</th>\n",
       "      <th>COD_DA</th>\n",
       "      <th>DESC_DA</th>\n",
       "      <th>VALOR_DA</th>\n",
       "      <th>ORGAO</th>\n",
       "      <th>DESC_ORGAO</th>\n",
       "      <th>UNIDADE</th>\n",
       "      <th>DESC_UNIDADE</th>\n",
       "      <th>PA</th>\n",
       "      <th>DESC_PA</th>\n",
       "      <th>ANO_EX</th>\n",
       "      <th>COD_EMP</th>\n",
       "      <th>NOME_EMP</th>\n",
       "    </tr>\n",
       "  </thead>\n",
       "  <tbody>\n",
       "    <tr>\n",
       "      <th>0</th>\n",
       "      <td>4</td>\n",
       "      <td>777.01.01.00.0001</td>\n",
       "      <td>777</td>\n",
       "      <td>Despesa Regionalizável</td>\n",
       "      <td>1</td>\n",
       "      <td>Norte</td>\n",
       "      <td>1</td>\n",
       "      <td>Subprefeitura Perus/Anhanguera</td>\n",
       "      <td>0</td>\n",
       "      <td>Supra-Distrital</td>\n",
       "      <td>1</td>\n",
       "      <td>Subprefeitura Perus/Anhanguera</td>\n",
       "      <td>15631304,34</td>\n",
       "      <td>27</td>\n",
       "      <td>Secretaria Municipal do Verde e do Meio Ambiente</td>\n",
       "      <td>10</td>\n",
       "      <td>Gabinete do Secretário</td>\n",
       "      <td>2703</td>\n",
       "      <td>Manutenção e Operação de Parques Urbanos e Lin...</td>\n",
       "      <td>2025</td>\n",
       "      <td>1</td>\n",
       "      <td>PREFEITURA DO MUNICÍPIO DE SÃO PAULO</td>\n",
       "    </tr>\n",
       "    <tr>\n",
       "      <th>1</th>\n",
       "      <td>4</td>\n",
       "      <td>777.01.02.00.0001</td>\n",
       "      <td>777</td>\n",
       "      <td>Despesa Regionalizável</td>\n",
       "      <td>1</td>\n",
       "      <td>Norte</td>\n",
       "      <td>2</td>\n",
       "      <td>Subprefeitura Pirituba/Jaraguá</td>\n",
       "      <td>0</td>\n",
       "      <td>Supra-Distrital</td>\n",
       "      <td>1</td>\n",
       "      <td>Subprefeitura Pirituba/Jaraguá</td>\n",
       "      <td>11067455,85</td>\n",
       "      <td>27</td>\n",
       "      <td>Secretaria Municipal do Verde e do Meio Ambiente</td>\n",
       "      <td>10</td>\n",
       "      <td>Gabinete do Secretário</td>\n",
       "      <td>2703</td>\n",
       "      <td>Manutenção e Operação de Parques Urbanos e Lin...</td>\n",
       "      <td>2025</td>\n",
       "      <td>1</td>\n",
       "      <td>PREFEITURA DO MUNICÍPIO DE SÃO PAULO</td>\n",
       "    </tr>\n",
       "    <tr>\n",
       "      <th>2</th>\n",
       "      <td>4</td>\n",
       "      <td>777.04.13.00.0001</td>\n",
       "      <td>777</td>\n",
       "      <td>Despesa Regionalizável</td>\n",
       "      <td>4</td>\n",
       "      <td>Sul</td>\n",
       "      <td>13</td>\n",
       "      <td>Subprefeitura Ipiranga</td>\n",
       "      <td>0</td>\n",
       "      <td>Supra-Distrital</td>\n",
       "      <td>1</td>\n",
       "      <td>Subprefeitura Ipiranga</td>\n",
       "      <td>0</td>\n",
       "      <td>27</td>\n",
       "      <td>Secretaria Municipal do Verde e do Meio Ambiente</td>\n",
       "      <td>10</td>\n",
       "      <td>Gabinete do Secretário</td>\n",
       "      <td>7129</td>\n",
       "      <td>Ampliação, Reforma e Requalificação de Viveiro...</td>\n",
       "      <td>2025</td>\n",
       "      <td>1</td>\n",
       "      <td>PREFEITURA DO MUNICÍPIO DE SÃO PAULO</td>\n",
       "    </tr>\n",
       "    <tr>\n",
       "      <th>3</th>\n",
       "      <td>4</td>\n",
       "      <td>777.02.21.00.0001</td>\n",
       "      <td>777</td>\n",
       "      <td>Despesa Regionalizável</td>\n",
       "      <td>2</td>\n",
       "      <td>Leste</td>\n",
       "      <td>21</td>\n",
       "      <td>Subprefeitura Penha</td>\n",
       "      <td>0</td>\n",
       "      <td>Supra-Distrital</td>\n",
       "      <td>1</td>\n",
       "      <td>Subprefeitura Penha</td>\n",
       "      <td>0</td>\n",
       "      <td>27</td>\n",
       "      <td>Secretaria Municipal do Verde e do Meio Ambiente</td>\n",
       "      <td>10</td>\n",
       "      <td>Gabinete do Secretário</td>\n",
       "      <td>7129</td>\n",
       "      <td>Ampliação, Reforma e Requalificação de Viveiro...</td>\n",
       "      <td>2025</td>\n",
       "      <td>1</td>\n",
       "      <td>PREFEITURA DO MUNICÍPIO DE SÃO PAULO</td>\n",
       "    </tr>\n",
       "    <tr>\n",
       "      <th>4</th>\n",
       "      <td>4</td>\n",
       "      <td>777.02.21.00.0001</td>\n",
       "      <td>777</td>\n",
       "      <td>Despesa Regionalizável</td>\n",
       "      <td>2</td>\n",
       "      <td>Leste</td>\n",
       "      <td>21</td>\n",
       "      <td>Subprefeitura Penha</td>\n",
       "      <td>0</td>\n",
       "      <td>Supra-Distrital</td>\n",
       "      <td>1</td>\n",
       "      <td>Subprefeitura Penha</td>\n",
       "      <td>0</td>\n",
       "      <td>29</td>\n",
       "      <td>Secretaria Municipal de Urbanismo e Licenciamento</td>\n",
       "      <td>20</td>\n",
       "      <td>Operação Urbana Consorciada Água Branca</td>\n",
       "      <td>3350</td>\n",
       "      <td>Ampliação, Reforma e Requalificação de Áreas P...</td>\n",
       "      <td>2025</td>\n",
       "      <td>1</td>\n",
       "      <td>PREFEITURA DO MUNICÍPIO DE SÃO PAULO</td>\n",
       "    </tr>\n",
       "  </tbody>\n",
       "</table>\n",
       "</div>"
      ],
      "text/plain": [
       "   COD_PROGRAMA_METAS      COD_COMPLT_DA  COD_META               DESC_META  \\\n",
       "0                   4  777.01.01.00.0001       777  Despesa Regionalizável   \n",
       "1                   4  777.01.02.00.0001       777  Despesa Regionalizável   \n",
       "2                   4  777.04.13.00.0001       777  Despesa Regionalizável   \n",
       "3                   4  777.02.21.00.0001       777  Despesa Regionalizável   \n",
       "4                   4  777.02.21.00.0001       777  Despesa Regionalizável   \n",
       "\n",
       "   COD_REGIAO DESC_REGIAO  COD_SUBPREFEITURA              DESC_SUBPREFEITURA  \\\n",
       "0           1       Norte                  1  Subprefeitura Perus/Anhanguera   \n",
       "1           1       Norte                  2  Subprefeitura Pirituba/Jaraguá   \n",
       "2           4         Sul                 13          Subprefeitura Ipiranga   \n",
       "3           2       Leste                 21             Subprefeitura Penha   \n",
       "4           2       Leste                 21             Subprefeitura Penha   \n",
       "\n",
       "   COD_DISTRITO    DESC_DISTRITO  COD_DA                         DESC_DA  \\\n",
       "0             0  Supra-Distrital       1  Subprefeitura Perus/Anhanguera   \n",
       "1             0  Supra-Distrital       1  Subprefeitura Pirituba/Jaraguá   \n",
       "2             0  Supra-Distrital       1          Subprefeitura Ipiranga   \n",
       "3             0  Supra-Distrital       1             Subprefeitura Penha   \n",
       "4             0  Supra-Distrital       1             Subprefeitura Penha   \n",
       "\n",
       "      VALOR_DA  ORGAO                                         DESC_ORGAO  \\\n",
       "0  15631304,34     27   Secretaria Municipal do Verde e do Meio Ambiente   \n",
       "1  11067455,85     27   Secretaria Municipal do Verde e do Meio Ambiente   \n",
       "2            0     27   Secretaria Municipal do Verde e do Meio Ambiente   \n",
       "3            0     27   Secretaria Municipal do Verde e do Meio Ambiente   \n",
       "4            0     29  Secretaria Municipal de Urbanismo e Licenciamento   \n",
       "\n",
       "   UNIDADE                             DESC_UNIDADE    PA  \\\n",
       "0       10                   Gabinete do Secretário  2703   \n",
       "1       10                   Gabinete do Secretário  2703   \n",
       "2       10                   Gabinete do Secretário  7129   \n",
       "3       10                   Gabinete do Secretário  7129   \n",
       "4       20  Operação Urbana Consorciada Água Branca  3350   \n",
       "\n",
       "                                             DESC_PA  ANO_EX  COD_EMP  \\\n",
       "0  Manutenção e Operação de Parques Urbanos e Lin...    2025        1   \n",
       "1  Manutenção e Operação de Parques Urbanos e Lin...    2025        1   \n",
       "2  Ampliação, Reforma e Requalificação de Viveiro...    2025        1   \n",
       "3  Ampliação, Reforma e Requalificação de Viveiro...    2025        1   \n",
       "4  Ampliação, Reforma e Requalificação de Áreas P...    2025        1   \n",
       "\n",
       "                               NOME_EMP  \n",
       "0  PREFEITURA DO MUNICÍPIO DE SÃO PAULO  \n",
       "1  PREFEITURA DO MUNICÍPIO DE SÃO PAULO  \n",
       "2  PREFEITURA DO MUNICÍPIO DE SÃO PAULO  \n",
       "3  PREFEITURA DO MUNICÍPIO DE SÃO PAULO  \n",
       "4  PREFEITURA DO MUNICÍPIO DE SÃO PAULO  "
      ]
     },
     "execution_count": 5,
     "metadata": {},
     "output_type": "execute_result"
    }
   ],
   "source": [
    "df.head()"
   ]
  },
  {
   "cell_type": "markdown",
   "id": "7e097704",
   "metadata": {},
   "source": [
    "### Padronizando cols"
   ]
  },
  {
   "cell_type": "code",
   "execution_count": 6,
   "id": "a447ff29",
   "metadata": {},
   "outputs": [
    {
     "data": {
      "text/plain": [
       "Index(['COD_PROGRAMA_METAS', 'COD_COMPLT_DA', 'COD_META', 'DESC_META',\n",
       "       'COD_REGIAO', 'DESC_REGIAO', 'COD_SUBPREFEITURA', 'DESC_SUBPREFEITURA',\n",
       "       'COD_DISTRITO', 'DESC_DISTRITO', 'COD_DA', 'DESC_DA', 'VALOR_DA',\n",
       "       'ORGAO', 'DESC_ORGAO', 'UNIDADE', 'DESC_UNIDADE', 'PA', 'DESC_PA',\n",
       "       'ANO_EX', 'COD_EMP', 'NOME_EMP'],\n",
       "      dtype='object')"
      ]
     },
     "execution_count": 6,
     "metadata": {},
     "output_type": "execute_result"
    }
   ],
   "source": [
    "df.columns"
   ]
  },
  {
   "cell_type": "code",
   "execution_count": 7,
   "id": "537bd005",
   "metadata": {},
   "outputs": [],
   "source": [
    "colunas_padronizadas = {\n",
    "    'ANO_EX' : 'exercicio',\n",
    "    'ORGAO' : 'cod_orgao',\n",
    "    'UNIDADE' : 'cod_unidade',\n",
    "    'PA' : 'cod_proj_atividade',\n",
    "    'COD_REGIAO' : 'cod_regiao',\n",
    "    'COD_SUBPREFEITURA' : 'cod_subprefeitura',\n",
    "    'COD_DISTRITO' : 'cod_distrito',\n",
    "    'DESC_REGIAO' : 'desc_regiao',\n",
    "    'DESC_SUBPREFEITURA' : 'desc_subprefeitura',\n",
    "    'DESC_DISTRITO' : 'desc_distrito',\n",
    "    'VALOR_DA' : 'valor_regionalizado'\n",
    "}"
   ]
  },
  {
   "cell_type": "code",
   "execution_count": 8,
   "id": "7177a29a",
   "metadata": {},
   "outputs": [],
   "source": [
    "df = df[[col for col in colunas_padronizadas.keys()]]"
   ]
  },
  {
   "cell_type": "code",
   "execution_count": 9,
   "id": "16923d68",
   "metadata": {},
   "outputs": [],
   "source": [
    "df = df.rename(columns=colunas_padronizadas)"
   ]
  },
  {
   "cell_type": "code",
   "execution_count": 10,
   "id": "5884acd7",
   "metadata": {},
   "outputs": [
    {
     "data": {
      "text/html": [
       "<div>\n",
       "<style scoped>\n",
       "    .dataframe tbody tr th:only-of-type {\n",
       "        vertical-align: middle;\n",
       "    }\n",
       "\n",
       "    .dataframe tbody tr th {\n",
       "        vertical-align: top;\n",
       "    }\n",
       "\n",
       "    .dataframe thead th {\n",
       "        text-align: right;\n",
       "    }\n",
       "</style>\n",
       "<table border=\"1\" class=\"dataframe\">\n",
       "  <thead>\n",
       "    <tr style=\"text-align: right;\">\n",
       "      <th></th>\n",
       "      <th>exercicio</th>\n",
       "      <th>cod_orgao</th>\n",
       "      <th>cod_unidade</th>\n",
       "      <th>cod_proj_atividade</th>\n",
       "      <th>cod_regiao</th>\n",
       "      <th>cod_subprefeitura</th>\n",
       "      <th>cod_distrito</th>\n",
       "      <th>desc_regiao</th>\n",
       "      <th>desc_subprefeitura</th>\n",
       "      <th>desc_distrito</th>\n",
       "      <th>valor_regionalizado</th>\n",
       "    </tr>\n",
       "  </thead>\n",
       "  <tbody>\n",
       "    <tr>\n",
       "      <th>0</th>\n",
       "      <td>2025</td>\n",
       "      <td>27</td>\n",
       "      <td>10</td>\n",
       "      <td>2703</td>\n",
       "      <td>1</td>\n",
       "      <td>1</td>\n",
       "      <td>0</td>\n",
       "      <td>Norte</td>\n",
       "      <td>Subprefeitura Perus/Anhanguera</td>\n",
       "      <td>Supra-Distrital</td>\n",
       "      <td>15631304,34</td>\n",
       "    </tr>\n",
       "    <tr>\n",
       "      <th>1</th>\n",
       "      <td>2025</td>\n",
       "      <td>27</td>\n",
       "      <td>10</td>\n",
       "      <td>2703</td>\n",
       "      <td>1</td>\n",
       "      <td>2</td>\n",
       "      <td>0</td>\n",
       "      <td>Norte</td>\n",
       "      <td>Subprefeitura Pirituba/Jaraguá</td>\n",
       "      <td>Supra-Distrital</td>\n",
       "      <td>11067455,85</td>\n",
       "    </tr>\n",
       "    <tr>\n",
       "      <th>2</th>\n",
       "      <td>2025</td>\n",
       "      <td>27</td>\n",
       "      <td>10</td>\n",
       "      <td>7129</td>\n",
       "      <td>4</td>\n",
       "      <td>13</td>\n",
       "      <td>0</td>\n",
       "      <td>Sul</td>\n",
       "      <td>Subprefeitura Ipiranga</td>\n",
       "      <td>Supra-Distrital</td>\n",
       "      <td>0</td>\n",
       "    </tr>\n",
       "    <tr>\n",
       "      <th>3</th>\n",
       "      <td>2025</td>\n",
       "      <td>27</td>\n",
       "      <td>10</td>\n",
       "      <td>7129</td>\n",
       "      <td>2</td>\n",
       "      <td>21</td>\n",
       "      <td>0</td>\n",
       "      <td>Leste</td>\n",
       "      <td>Subprefeitura Penha</td>\n",
       "      <td>Supra-Distrital</td>\n",
       "      <td>0</td>\n",
       "    </tr>\n",
       "    <tr>\n",
       "      <th>4</th>\n",
       "      <td>2025</td>\n",
       "      <td>29</td>\n",
       "      <td>20</td>\n",
       "      <td>3350</td>\n",
       "      <td>2</td>\n",
       "      <td>21</td>\n",
       "      <td>0</td>\n",
       "      <td>Leste</td>\n",
       "      <td>Subprefeitura Penha</td>\n",
       "      <td>Supra-Distrital</td>\n",
       "      <td>0</td>\n",
       "    </tr>\n",
       "  </tbody>\n",
       "</table>\n",
       "</div>"
      ],
      "text/plain": [
       "   exercicio  cod_orgao  cod_unidade  cod_proj_atividade  cod_regiao  \\\n",
       "0       2025         27           10                2703           1   \n",
       "1       2025         27           10                2703           1   \n",
       "2       2025         27           10                7129           4   \n",
       "3       2025         27           10                7129           2   \n",
       "4       2025         29           20                3350           2   \n",
       "\n",
       "   cod_subprefeitura  cod_distrito desc_regiao  \\\n",
       "0                  1             0       Norte   \n",
       "1                  2             0       Norte   \n",
       "2                 13             0         Sul   \n",
       "3                 21             0       Leste   \n",
       "4                 21             0       Leste   \n",
       "\n",
       "               desc_subprefeitura    desc_distrito valor_regionalizado  \n",
       "0  Subprefeitura Perus/Anhanguera  Supra-Distrital         15631304,34  \n",
       "1  Subprefeitura Pirituba/Jaraguá  Supra-Distrital         11067455,85  \n",
       "2          Subprefeitura Ipiranga  Supra-Distrital                   0  \n",
       "3             Subprefeitura Penha  Supra-Distrital                   0  \n",
       "4             Subprefeitura Penha  Supra-Distrital                   0  "
      ]
     },
     "execution_count": 10,
     "metadata": {},
     "output_type": "execute_result"
    }
   ],
   "source": [
    "df.head()"
   ]
  },
  {
   "cell_type": "markdown",
   "id": "f16f4263",
   "metadata": {},
   "source": [
    "### Arrumando datatypes"
   ]
  },
  {
   "cell_type": "code",
   "execution_count": 11,
   "id": "167cfbbb",
   "metadata": {},
   "outputs": [
    {
     "data": {
      "text/plain": [
       "exercicio               int64\n",
       "cod_orgao               int64\n",
       "cod_unidade             int64\n",
       "cod_proj_atividade      int64\n",
       "cod_regiao              int64\n",
       "cod_subprefeitura       int64\n",
       "cod_distrito            int64\n",
       "desc_regiao            object\n",
       "desc_subprefeitura     object\n",
       "desc_distrito          object\n",
       "valor_regionalizado    object\n",
       "dtype: object"
      ]
     },
     "execution_count": 11,
     "metadata": {},
     "output_type": "execute_result"
    }
   ],
   "source": [
    "df.dtypes"
   ]
  },
  {
   "cell_type": "code",
   "execution_count": 12,
   "id": "6e5e6b69",
   "metadata": {},
   "outputs": [
    {
     "data": {
      "text/plain": [
       "valor_regionalizado\n",
       "0          21697\n",
       "0          11123\n",
       "1000        1428\n",
       "31          1171\n",
       "31,25        688\n",
       "           ...  \n",
       "9840650        1\n",
       "3591224        1\n",
       "4116481        1\n",
       "3560000        1\n",
       "629644         1\n",
       "Name: count, Length: 10035, dtype: int64"
      ]
     },
     "execution_count": 12,
     "metadata": {},
     "output_type": "execute_result"
    }
   ],
   "source": [
    "df['valor_regionalizado'].value_counts(dropna=False)"
   ]
  },
  {
   "cell_type": "code",
   "execution_count": 13,
   "id": "d02ebe89",
   "metadata": {},
   "outputs": [
    {
     "data": {
      "text/plain": [
       "0    15631304,34\n",
       "1    11067455,85\n",
       "2              0\n",
       "Name: valor_regionalizado, dtype: object"
      ]
     },
     "execution_count": 13,
     "metadata": {},
     "output_type": "execute_result"
    }
   ],
   "source": [
    "df['valor_regionalizado'].head(3)"
   ]
  },
  {
   "cell_type": "code",
   "execution_count": 14,
   "id": "9ab1c584",
   "metadata": {},
   "outputs": [],
   "source": [
    "df['valor_regionalizado'] = df['valor_regionalizado'].astype(str).str.replace(',', '.').astype(float)"
   ]
  },
  {
   "cell_type": "code",
   "execution_count": 15,
   "id": "79fc530f",
   "metadata": {},
   "outputs": [
    {
     "data": {
      "text/plain": [
       "np.False_"
      ]
     },
     "execution_count": 15,
     "metadata": {},
     "output_type": "execute_result"
    }
   ],
   "source": [
    "df['valor_regionalizado'].isnull().any()"
   ]
  },
  {
   "cell_type": "code",
   "execution_count": 16,
   "id": "b5ba2e89",
   "metadata": {},
   "outputs": [
    {
     "data": {
      "text/plain": [
       "count    6.211700e+04\n",
       "mean     6.699377e+06\n",
       "std      1.125534e+08\n",
       "min      0.000000e+00\n",
       "25%      0.000000e+00\n",
       "50%      0.000000e+00\n",
       "75%      3.743770e+05\n",
       "max      1.223759e+10\n",
       "Name: valor_regionalizado, dtype: float64"
      ]
     },
     "execution_count": 16,
     "metadata": {},
     "output_type": "execute_result"
    }
   ],
   "source": [
    "df['valor_regionalizado'].describe()"
   ]
  },
  {
   "cell_type": "code",
   "execution_count": 17,
   "id": "93d2453e",
   "metadata": {},
   "outputs": [
    {
     "data": {
      "text/plain": [
       "exercicio                int64\n",
       "cod_orgao                int64\n",
       "cod_unidade              int64\n",
       "cod_proj_atividade       int64\n",
       "cod_regiao               int64\n",
       "cod_subprefeitura        int64\n",
       "cod_distrito             int64\n",
       "desc_regiao             object\n",
       "desc_subprefeitura      object\n",
       "desc_distrito           object\n",
       "valor_regionalizado    float64\n",
       "dtype: object"
      ]
     },
     "execution_count": 17,
     "metadata": {},
     "output_type": "execute_result"
    }
   ],
   "source": [
    "df.dtypes"
   ]
  },
  {
   "cell_type": "markdown",
   "id": "cbfa36b4",
   "metadata": {},
   "source": [
    "### criando o indice para dar merge\n",
    "\n",
    "indice igual no outro notebook"
   ]
  },
  {
   "cell_type": "code",
   "execution_count": 18,
   "id": "71597802",
   "metadata": {},
   "outputs": [],
   "source": [
    "def fill_zeros(df:pd.DataFrame, col:str, num_zeros:int)->None:\n",
    "    \"\"\"\n",
    "    Fills NaN values in the specified column of the DataFrame with zeros.\n",
    "\n",
    "    Args:\n",
    "        df (pd.DataFrame): The DataFrame to modify.\n",
    "        col (str): The column name to fill with zeros.\n",
    "    \"\"\"\n",
    "    df[col] = df[col].astype(int).astype(str)\n",
    "    df[col] = df[col].str.zfill(num_zeros)\n",
    "\n",
    "    print(col, df[col].str.len().unique())"
   ]
  },
  {
   "cell_type": "code",
   "execution_count": 19,
   "id": "0310dd39",
   "metadata": {},
   "outputs": [
    {
     "name": "stdout",
     "output_type": "stream",
     "text": [
      "exercicio [4]\n",
      "cod_orgao [2]\n",
      "cod_unidade [2]\n",
      "cod_proj_atividade [4]\n"
     ]
    }
   ],
   "source": [
    "fill_zeros(df, 'exercicio', 4)\n",
    "fill_zeros(df, 'cod_orgao', 2)\n",
    "fill_zeros(df, 'cod_unidade', 2)\n",
    "fill_zeros(df, 'cod_proj_atividade', 4)"
   ]
  },
  {
   "cell_type": "code",
   "execution_count": 20,
   "id": "4ce29769",
   "metadata": {},
   "outputs": [],
   "source": [
    "df['index'] = df[['exercicio', 'cod_orgao', 'cod_unidade', 'cod_proj_atividade']].astype(str).agg('.'.join, axis=1)"
   ]
  },
  {
   "cell_type": "code",
   "execution_count": 21,
   "id": "37ae1332",
   "metadata": {},
   "outputs": [
    {
     "data": {
      "text/plain": [
       "Index(['exercicio', 'cod_orgao', 'cod_unidade', 'cod_proj_atividade',\n",
       "       'cod_regiao', 'cod_subprefeitura', 'cod_distrito', 'desc_regiao',\n",
       "       'desc_subprefeitura', 'desc_distrito', 'valor_regionalizado', 'index'],\n",
       "      dtype='object')"
      ]
     },
     "execution_count": 21,
     "metadata": {},
     "output_type": "execute_result"
    }
   ],
   "source": [
    "df.columns"
   ]
  },
  {
   "cell_type": "code",
   "execution_count": 22,
   "id": "d70df224",
   "metadata": {},
   "outputs": [
    {
     "data": {
      "text/html": [
       "<div>\n",
       "<style scoped>\n",
       "    .dataframe tbody tr th:only-of-type {\n",
       "        vertical-align: middle;\n",
       "    }\n",
       "\n",
       "    .dataframe tbody tr th {\n",
       "        vertical-align: top;\n",
       "    }\n",
       "\n",
       "    .dataframe thead th {\n",
       "        text-align: right;\n",
       "    }\n",
       "</style>\n",
       "<table border=\"1\" class=\"dataframe\">\n",
       "  <thead>\n",
       "    <tr style=\"text-align: right;\">\n",
       "      <th></th>\n",
       "      <th>cod_regiao</th>\n",
       "      <th>cod_subprefeitura</th>\n",
       "      <th>cod_distrito</th>\n",
       "      <th>desc_regiao</th>\n",
       "      <th>desc_subprefeitura</th>\n",
       "      <th>desc_distrito</th>\n",
       "      <th>valor_regionalizado</th>\n",
       "      <th>index</th>\n",
       "    </tr>\n",
       "  </thead>\n",
       "  <tbody>\n",
       "    <tr>\n",
       "      <th>0</th>\n",
       "      <td>1</td>\n",
       "      <td>1</td>\n",
       "      <td>0</td>\n",
       "      <td>Norte</td>\n",
       "      <td>Subprefeitura Perus/Anhanguera</td>\n",
       "      <td>Supra-Distrital</td>\n",
       "      <td>15631304.34</td>\n",
       "      <td>2025.27.10.2703</td>\n",
       "    </tr>\n",
       "    <tr>\n",
       "      <th>1</th>\n",
       "      <td>1</td>\n",
       "      <td>2</td>\n",
       "      <td>0</td>\n",
       "      <td>Norte</td>\n",
       "      <td>Subprefeitura Pirituba/Jaraguá</td>\n",
       "      <td>Supra-Distrital</td>\n",
       "      <td>11067455.85</td>\n",
       "      <td>2025.27.10.2703</td>\n",
       "    </tr>\n",
       "    <tr>\n",
       "      <th>2</th>\n",
       "      <td>4</td>\n",
       "      <td>13</td>\n",
       "      <td>0</td>\n",
       "      <td>Sul</td>\n",
       "      <td>Subprefeitura Ipiranga</td>\n",
       "      <td>Supra-Distrital</td>\n",
       "      <td>0.00</td>\n",
       "      <td>2025.27.10.7129</td>\n",
       "    </tr>\n",
       "    <tr>\n",
       "      <th>3</th>\n",
       "      <td>2</td>\n",
       "      <td>21</td>\n",
       "      <td>0</td>\n",
       "      <td>Leste</td>\n",
       "      <td>Subprefeitura Penha</td>\n",
       "      <td>Supra-Distrital</td>\n",
       "      <td>0.00</td>\n",
       "      <td>2025.27.10.7129</td>\n",
       "    </tr>\n",
       "    <tr>\n",
       "      <th>4</th>\n",
       "      <td>2</td>\n",
       "      <td>21</td>\n",
       "      <td>0</td>\n",
       "      <td>Leste</td>\n",
       "      <td>Subprefeitura Penha</td>\n",
       "      <td>Supra-Distrital</td>\n",
       "      <td>0.00</td>\n",
       "      <td>2025.29.20.3350</td>\n",
       "    </tr>\n",
       "  </tbody>\n",
       "</table>\n",
       "</div>"
      ],
      "text/plain": [
       "   cod_regiao  cod_subprefeitura  cod_distrito desc_regiao  \\\n",
       "0           1                  1             0       Norte   \n",
       "1           1                  2             0       Norte   \n",
       "2           4                 13             0         Sul   \n",
       "3           2                 21             0       Leste   \n",
       "4           2                 21             0       Leste   \n",
       "\n",
       "               desc_subprefeitura    desc_distrito  valor_regionalizado  \\\n",
       "0  Subprefeitura Perus/Anhanguera  Supra-Distrital          15631304.34   \n",
       "1  Subprefeitura Pirituba/Jaraguá  Supra-Distrital          11067455.85   \n",
       "2          Subprefeitura Ipiranga  Supra-Distrital                 0.00   \n",
       "3             Subprefeitura Penha  Supra-Distrital                 0.00   \n",
       "4             Subprefeitura Penha  Supra-Distrital                 0.00   \n",
       "\n",
       "             index  \n",
       "0  2025.27.10.2703  \n",
       "1  2025.27.10.2703  \n",
       "2  2025.27.10.7129  \n",
       "3  2025.27.10.7129  \n",
       "4  2025.29.20.3350  "
      ]
     },
     "execution_count": 22,
     "metadata": {},
     "output_type": "execute_result"
    }
   ],
   "source": [
    "df.drop(['exercicio', 'cod_orgao', 'cod_unidade', 'cod_proj_atividade'], axis=1, inplace=True)\n",
    "df.head()"
   ]
  },
  {
   "cell_type": "code",
   "execution_count": 23,
   "id": "71f867c6",
   "metadata": {},
   "outputs": [
    {
     "data": {
      "text/plain": [
       "np.False_"
      ]
     },
     "execution_count": 23,
     "metadata": {},
     "output_type": "execute_result"
    }
   ],
   "source": [
    "df['index'].isnull().any()"
   ]
  },
  {
   "cell_type": "code",
   "execution_count": 24,
   "id": "3ca47ab1",
   "metadata": {},
   "outputs": [
    {
     "data": {
      "text/plain": [
       "np.float64(0.869777999581435)"
      ]
     },
     "execution_count": 24,
     "metadata": {},
     "output_type": "execute_result"
    }
   ],
   "source": [
    "df['index'].duplicated().mean()"
   ]
  },
  {
   "cell_type": "code",
   "execution_count": 25,
   "id": "fbd47457",
   "metadata": {},
   "outputs": [],
   "source": [
    "df.to_csv(os.path.join(DATA_FOLDER, 'df_da.csv'), index=False, sep=';')"
   ]
  }
 ],
 "metadata": {
  "kernelspec": {
   "display_name": "venv",
   "language": "python",
   "name": "python3"
  },
  "language_info": {
   "codemirror_mode": {
    "name": "ipython",
    "version": 3
   },
   "file_extension": ".py",
   "mimetype": "text/x-python",
   "name": "python",
   "nbconvert_exporter": "python",
   "pygments_lexer": "ipython3",
   "version": "3.13.3"
  }
 },
 "nbformat": 4,
 "nbformat_minor": 5
}
